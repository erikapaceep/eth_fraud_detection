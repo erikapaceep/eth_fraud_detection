{
 "cells": [
  {
   "attachments": {},
   "cell_type": "markdown",
   "metadata": {},
   "source": [
    "# How to run a process on vasari"
   ]
  },
  {
   "attachments": {},
   "cell_type": "markdown",
   "metadata": {},
   "source": [
    "## From the terminal (connected the vasari machine) run the following command \n",
    "\n",
    "(make sure in you are in the directory where the script is stored)\n",
    "\n",
    "```\n",
    "nohp python3 scrip_name.py &\n",
    "```"
   ]
  },
  {
   "attachments": {},
   "cell_type": "markdown",
   "metadata": {},
   "source": [
    "## Connect to git\n",
    "\n",
    "Make sure the .ssh key are save into your folder (home/your_name) : while trying to connect to git\n",
    "\n",
    "Git will look for the .ssh folder\n",
    "\n",
    "Copy your ssh private and public key in the .ssh folder (can do that using filezilla), here below the setup:\n",
    "\n",
    "- download filezilla\n",
    "- open the interface and provide the following input:\n",
    "    - Host: sftp://vasari.hist-art.bbk.ac.uk\n",
    "    - User name: your name\n",
    "    - Password: password of your vasari machine\n",
    "    - Port: 22\n",
    "- click on quick connect\n",
    "\n",
    "Now you shoul be able to have visibility on your folder and to transfer files"
   ]
  },
  {
   "attachments": {},
   "cell_type": "markdown",
   "metadata": {},
   "source": [
    "### you might get the following error, while trying to push to github\n",
    "\n",
    "ssh \"permissions are too open\"\n",
    "\n",
    "Use the chmod commad (if your ssh is of rsa type)\n",
    "\n",
    "```\n",
    "chmod 400 ~/.ssh/id_rsa\n",
    "```"
   ]
  }
 ],
 "metadata": {
  "language_info": {
   "name": "python"
  },
  "orig_nbformat": 4
 },
 "nbformat": 4,
 "nbformat_minor": 2
}
