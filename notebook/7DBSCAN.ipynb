{
 "cells": [
  {
   "attachments": {},
   "cell_type": "markdown",
   "metadata": {},
   "source": [
    "# DBSCAN"
   ]
  },
  {
   "attachments": {},
   "cell_type": "markdown",
   "metadata": {},
   "source": [
    "The overall complexity of DBSCAN is O(n²) in the worst case.\n",
    "\n",
    "Motivation for **density-based clustering** (https://towardsdatascience.com/a-practical-guide-to-dbscan-method-d4ec5ab2bc99):\n",
    "\n",
    "Two popular types of clustering methods are: partitioning and hierarchical methods.\n",
    "- **Partitioning method**: partitions the dataset to k (the main input of the methods) number of groups (clusters).The most well-known Partitioning method is K-means.The partition methods have some significant drawbacks: you should know beforehand into how many groups you want to split the database (the K value). Another important drawback is that K-means does not perform well on finding non-convex/non-spherical shapes of clusters and K-means is sensitive to noise data.\n",
    "- **Hierarchical method** creates a Hierarchical visual representation for the data using a special tree. In contradiction to K-means, you don’t need to decide what should be the number of clusters, but it also has some serious drawbacks: it isn’t suitable for big datasets, has high computational complexity, you need to choose the metric for merging the clusters (linkage) that affects the clustering results. \n",
    "\n",
    "As we can see the main disadvantages of partitioning and hierarchical methods are: handling noise and getting bad results with finding clusters of nonspherical shape.\n",
    "**The DBSCAN clustering method is able to represent clusters of arbitrary shape and to handle noise.**\n",
    "\n",
    "**DBSCAN**\n",
    "\n",
    "Differing groups of points by their density is the main idea of the DBSCAN.\n",
    "\n",
    "The DBSCAN groups together points with a dense neighborhood into clusters: A point will be considered as crowded if it has many other neighbors points near it. The DBSCAN finds these crowded points and places them and their neighbors in a cluster.\n",
    "\n",
    "In general, ε should be chosen as small as possible."
   ]
  },
  {
   "cell_type": "code",
   "execution_count": 1,
   "metadata": {},
   "outputs": [],
   "source": [
    "import pandas as pd\n",
    "import numpy as np\n",
    "import seaborn as sns\n",
    "import matplotlib.pyplot as plt\n",
    "from matplotlib import pyplot\n",
    "from sklearn.preprocessing import StandardScaler\n",
    "from dbscan import DBSCAN\n",
    "\n",
    "import networkx as nx\n",
    "import operator\n",
    "\n",
    "import sys\n",
    "sys.path.insert(0,'../code/')\n",
    "from utils.utils import train_data_loader, data_pre_processing, create_train_test, feature_selection_univ"
   ]
  },
  {
   "attachments": {},
   "cell_type": "markdown",
   "metadata": {},
   "source": [
    "## Load data"
   ]
  },
  {
   "cell_type": "code",
   "execution_count": 2,
   "metadata": {},
   "outputs": [
    {
     "name": "stdout",
     "output_type": "stream",
     "text": [
      "Current working directory: /home/erika/eth_fraud_detection/notebook\n"
     ]
    }
   ],
   "source": [
    "import os\n",
    "\n",
    "# Get the current working directory\n",
    "current_directory = os.getcwd()\n",
    "\n",
    "print(\"Current working directory:\", current_directory)"
   ]
  },
  {
   "cell_type": "code",
   "execution_count": 3,
   "metadata": {},
   "outputs": [
    {
     "name": "stderr",
     "output_type": "stream",
     "text": [
      "/home/erika/eth_fraud_detection/notebook/../code/utils/utils.py:67: DtypeWarning: Columns (6) have mixed types. Specify dtype option on import or set low_memory=False.\n",
      "  eth_20170702 = pd.read_csv(\"https://s3.eu-central-2.wasabisys.com/ethblockchain/eth_trans_20170702.csv\")\n"
     ]
    }
   ],
   "source": [
    "data = train_data_loader()"
   ]
  },
  {
   "attachments": {},
   "cell_type": "markdown",
   "metadata": {},
   "source": [
    "# Data Preprocessing"
   ]
  },
  {
   "cell_type": "code",
   "execution_count": 4,
   "metadata": {},
   "outputs": [
    {
     "name": "stderr",
     "output_type": "stream",
     "text": [
      "/home/erika/eth_fraud_detection/notebook/../code/utils/utils.py:47: SettingWithCopyWarning: \n",
      "A value is trying to be set on a copy of a slice from a DataFrame\n",
      "\n",
      "See the caveats in the documentation: https://pandas.pydata.org/pandas-docs/stable/user_guide/indexing.html#returning-a-view-versus-a-copy\n",
      "  data_drop.drop(columns=['check_hash'], inplace=True)\n",
      "/home/erika/eth_fraud_detection/notebook/../code/utils/utils.py:58: SettingWithCopyWarning: \n",
      "A value is trying to be set on a copy of a slice from a DataFrame\n",
      "\n",
      "See the caveats in the documentation: https://pandas.pydata.org/pandas-docs/stable/user_guide/indexing.html#returning-a-view-versus-a-copy\n",
      "  data_no_missing_date.drop(['receipt_status', 'max_fee_per_gas', 'max_priority_fee_per_gas', 'transaction_type','receipt_contract_address'],axis=1,inplace=True)\n"
     ]
    }
   ],
   "source": [
    "df = data_pre_processing(data)"
   ]
  },
  {
   "cell_type": "code",
   "execution_count": 5,
   "metadata": {},
   "outputs": [],
   "source": [
    "# Drop target features (comments, flags)\n",
    "# Keep only numeric features\n",
    "# Keep only numeric features, divide features form target variable\n",
    "Xtrain, ytrain = create_train_test(df)\n",
    "\n",
    "# Drop features as per univariate selection\n",
    "Xtrain = feature_selection_univ(Xtrain)"
   ]
  },
  {
   "cell_type": "code",
   "execution_count": 6,
   "metadata": {},
   "outputs": [
    {
     "data": {
      "text/html": [
       "<div>\n",
       "<style scoped>\n",
       "    .dataframe tbody tr th:only-of-type {\n",
       "        vertical-align: middle;\n",
       "    }\n",
       "\n",
       "    .dataframe tbody tr th {\n",
       "        vertical-align: top;\n",
       "    }\n",
       "\n",
       "    .dataframe thead th {\n",
       "        text-align: right;\n",
       "    }\n",
       "</style>\n",
       "<table border=\"1\" class=\"dataframe\">\n",
       "  <thead>\n",
       "    <tr style=\"text-align: right;\">\n",
       "      <th></th>\n",
       "      <th>nonce</th>\n",
       "      <th>transaction_index</th>\n",
       "      <th>value</th>\n",
       "      <th>gas</th>\n",
       "      <th>receipt_cumulative_gas_used</th>\n",
       "      <th>receipt_gas_used</th>\n",
       "      <th>gas_price_unit</th>\n",
       "      <th>value_div_gas</th>\n",
       "      <th>from_address_count</th>\n",
       "      <th>to_address_count</th>\n",
       "      <th>block_count</th>\n",
       "      <th>in_degree_adr_from</th>\n",
       "    </tr>\n",
       "    <tr>\n",
       "      <th>block_timestamp_str</th>\n",
       "      <th></th>\n",
       "      <th></th>\n",
       "      <th></th>\n",
       "      <th></th>\n",
       "      <th></th>\n",
       "      <th></th>\n",
       "      <th></th>\n",
       "      <th></th>\n",
       "      <th></th>\n",
       "      <th></th>\n",
       "      <th></th>\n",
       "      <th></th>\n",
       "    </tr>\n",
       "  </thead>\n",
       "  <tbody>\n",
       "    <tr>\n",
       "      <th>2017-07-03 15:52:18 UTC</th>\n",
       "      <td>115</td>\n",
       "      <td>38</td>\n",
       "      <td>0.000000e+00</td>\n",
       "      <td>42495.0</td>\n",
       "      <td>903103.0</td>\n",
       "      <td>42494.0</td>\n",
       "      <td>494175.785387</td>\n",
       "      <td>0.000000e+00</td>\n",
       "      <td>40</td>\n",
       "      <td>84</td>\n",
       "      <td>144</td>\n",
       "      <td>0</td>\n",
       "    </tr>\n",
       "    <tr>\n",
       "      <th>2017-07-03 18:01:16 UTC</th>\n",
       "      <td>149</td>\n",
       "      <td>11</td>\n",
       "      <td>1.000000e+16</td>\n",
       "      <td>500000.0</td>\n",
       "      <td>812449.0</td>\n",
       "      <td>457319.0</td>\n",
       "      <td>120000.000000</td>\n",
       "      <td>2.000000e+10</td>\n",
       "      <td>29</td>\n",
       "      <td>23994</td>\n",
       "      <td>29</td>\n",
       "      <td>0</td>\n",
       "    </tr>\n",
       "    <tr>\n",
       "      <th>2017-07-03 03:18:26 UTC</th>\n",
       "      <td>9553</td>\n",
       "      <td>80</td>\n",
       "      <td>5.421000e+18</td>\n",
       "      <td>500000.0</td>\n",
       "      <td>3906926.0</td>\n",
       "      <td>418436.0</td>\n",
       "      <td>2120.000000</td>\n",
       "      <td>1.084200e+13</td>\n",
       "      <td>1611</td>\n",
       "      <td>23994</td>\n",
       "      <td>122</td>\n",
       "      <td>4</td>\n",
       "    </tr>\n",
       "    <tr>\n",
       "      <th>2017-07-03 03:18:26 UTC</th>\n",
       "      <td>9554</td>\n",
       "      <td>96</td>\n",
       "      <td>5.421000e+18</td>\n",
       "      <td>500000.0</td>\n",
       "      <td>5044728.0</td>\n",
       "      <td>418436.0</td>\n",
       "      <td>2120.000000</td>\n",
       "      <td>1.084200e+13</td>\n",
       "      <td>1611</td>\n",
       "      <td>23994</td>\n",
       "      <td>122</td>\n",
       "      <td>4</td>\n",
       "    </tr>\n",
       "    <tr>\n",
       "      <th>2017-07-03 20:25:58 UTC</th>\n",
       "      <td>9888</td>\n",
       "      <td>41</td>\n",
       "      <td>5.421000e+18</td>\n",
       "      <td>500000.0</td>\n",
       "      <td>3442634.0</td>\n",
       "      <td>418436.0</td>\n",
       "      <td>2120.000000</td>\n",
       "      <td>1.084200e+13</td>\n",
       "      <td>1611</td>\n",
       "      <td>23994</td>\n",
       "      <td>60</td>\n",
       "      <td>4</td>\n",
       "    </tr>\n",
       "  </tbody>\n",
       "</table>\n",
       "</div>"
      ],
      "text/plain": [
       "                         nonce  transaction_index         value       gas  \\\n",
       "block_timestamp_str                                                         \n",
       "2017-07-03 15:52:18 UTC    115                 38  0.000000e+00   42495.0   \n",
       "2017-07-03 18:01:16 UTC    149                 11  1.000000e+16  500000.0   \n",
       "2017-07-03 03:18:26 UTC   9553                 80  5.421000e+18  500000.0   \n",
       "2017-07-03 03:18:26 UTC   9554                 96  5.421000e+18  500000.0   \n",
       "2017-07-03 20:25:58 UTC   9888                 41  5.421000e+18  500000.0   \n",
       "\n",
       "                         receipt_cumulative_gas_used  receipt_gas_used  \\\n",
       "block_timestamp_str                                                      \n",
       "2017-07-03 15:52:18 UTC                     903103.0           42494.0   \n",
       "2017-07-03 18:01:16 UTC                     812449.0          457319.0   \n",
       "2017-07-03 03:18:26 UTC                    3906926.0          418436.0   \n",
       "2017-07-03 03:18:26 UTC                    5044728.0          418436.0   \n",
       "2017-07-03 20:25:58 UTC                    3442634.0          418436.0   \n",
       "\n",
       "                         gas_price_unit  value_div_gas  from_address_count  \\\n",
       "block_timestamp_str                                                          \n",
       "2017-07-03 15:52:18 UTC   494175.785387   0.000000e+00                  40   \n",
       "2017-07-03 18:01:16 UTC   120000.000000   2.000000e+10                  29   \n",
       "2017-07-03 03:18:26 UTC     2120.000000   1.084200e+13                1611   \n",
       "2017-07-03 03:18:26 UTC     2120.000000   1.084200e+13                1611   \n",
       "2017-07-03 20:25:58 UTC     2120.000000   1.084200e+13                1611   \n",
       "\n",
       "                         to_address_count  block_count  in_degree_adr_from  \n",
       "block_timestamp_str                                                         \n",
       "2017-07-03 15:52:18 UTC                84          144                   0  \n",
       "2017-07-03 18:01:16 UTC             23994           29                   0  \n",
       "2017-07-03 03:18:26 UTC             23994          122                   4  \n",
       "2017-07-03 03:18:26 UTC             23994          122                   4  \n",
       "2017-07-03 20:25:58 UTC             23994           60                   4  "
      ]
     },
     "execution_count": 6,
     "metadata": {},
     "output_type": "execute_result"
    }
   ],
   "source": [
    "Xtrain.head()"
   ]
  },
  {
   "cell_type": "code",
   "execution_count": 7,
   "metadata": {},
   "outputs": [],
   "source": [
    "# Apply standard scaler\n",
    "\n",
    "X = StandardScaler().fit_transform(Xtrain)"
   ]
  },
  {
   "cell_type": "code",
   "execution_count": 8,
   "metadata": {},
   "outputs": [
    {
     "data": {
      "text/plain": [
       "transaction_flag\n",
       "0    777681\n",
       "1        21\n",
       "Name: count, dtype: int64"
      ]
     },
     "execution_count": 8,
     "metadata": {},
     "output_type": "execute_result"
    }
   ],
   "source": [
    "ytrain['transaction_flag'].value_counts()"
   ]
  },
  {
   "attachments": {},
   "cell_type": "markdown",
   "metadata": {},
   "source": [
    "## Apply the standard Scaler"
   ]
  },
  {
   "attachments": {},
   "cell_type": "markdown",
   "metadata": {},
   "source": [
    "## Fit the DBSCAN"
   ]
  },
  {
   "cell_type": "code",
   "execution_count": 9,
   "metadata": {},
   "outputs": [],
   "source": [
    "labels, core_samples_mask = DBSCAN(X,eps=0.5, min_samples=1000)"
   ]
  },
  {
   "cell_type": "code",
   "execution_count": 10,
   "metadata": {},
   "outputs": [
    {
     "data": {
      "text/plain": [
       "array([ 7, -1, -1, ...,  7,  7, -1], dtype=int32)"
      ]
     },
     "execution_count": 10,
     "metadata": {},
     "output_type": "execute_result"
    }
   ],
   "source": [
    "labels"
   ]
  },
  {
   "cell_type": "code",
   "execution_count": 11,
   "metadata": {},
   "outputs": [
    {
     "data": {
      "text/plain": [
       " 7     383492\n",
       "-1     173127\n",
       " 9      70512\n",
       " 3      46360\n",
       " 4      39856\n",
       " 1      26282\n",
       " 5      12158\n",
       " 6       6135\n",
       " 2       5453\n",
       " 10      5448\n",
       " 0       3856\n",
       " 8       3719\n",
       " 11      1304\n",
       "Name: count, dtype: int64"
      ]
     },
     "execution_count": 11,
     "metadata": {},
     "output_type": "execute_result"
    }
   ],
   "source": [
    "labels = pd.Series(labels)\n",
    "pd.unique(labels)\n",
    "len(pd.unique(labels))\n",
    "labels.value_counts()"
   ]
  },
  {
   "cell_type": "code",
   "execution_count": 12,
   "metadata": {},
   "outputs": [
    {
     "data": {
      "image/png": "[encoded data removed]",
      "text/plain": [
       "<Figure size 640x480 with 1 Axes>"
      ]
     },
     "metadata": {},
     "output_type": "display_data"
    }
   ],
   "source": [
    "import matplotlib.pyplot as plt\n",
    "\n",
    "\n",
    "n_clusters_ = len(set(labels)) - (1 if -1 in labels else 0)\n",
    "n_noise_ = list(labels).count(-1)\n",
    "# Black removed and is used for noise instead.\n",
    "unique_labels = set(labels)\n",
    "colors = [plt.cm.Spectral(each)\n",
    "          for each in np.linspace(0, 1, len(unique_labels))]\n",
    "for k, col in zip(unique_labels, colors):\n",
    "    if k == -1:\n",
    "        # Black used for noise.\n",
    "        col = [0, 0, 0, 1]\n",
    "\n",
    "    class_member_mask = (labels == k)\n",
    "\n",
    "    xy = X[class_member_mask & core_samples_mask]\n",
    "    plt.plot(xy[:, 0], xy[:, 1], 'o', markerfacecolor=tuple(col),\n",
    "             markeredgecolor='k', markersize=14)\n",
    "\n",
    "    xy = X[class_member_mask & ~core_samples_mask]\n",
    "    plt.plot(xy[:, 0], xy[:, 1], 'o', markerfacecolor=tuple(col),\n",
    "             markeredgecolor='k', markersize=6)\n",
    "\n",
    "plt.title('Estimated number of clusters: %d' % n_clusters_)\n",
    "plt.savefig('dbscan-output')\n"
   ]
  },
  {
   "attachments": {},
   "cell_type": "markdown",
   "metadata": {},
   "source": [
    "### Check if the anomalies are represented by a specific cluster"
   ]
  },
  {
   "cell_type": "code",
   "execution_count": 13,
   "metadata": {},
   "outputs": [
    {
     "data": {
      "text/html": [
       "<div>\n",
       "<style scoped>\n",
       "    .dataframe tbody tr th:only-of-type {\n",
       "        vertical-align: middle;\n",
       "    }\n",
       "\n",
       "    .dataframe tbody tr th {\n",
       "        vertical-align: top;\n",
       "    }\n",
       "\n",
       "    .dataframe thead th {\n",
       "        text-align: right;\n",
       "    }\n",
       "</style>\n",
       "<table border=\"1\" class=\"dataframe\">\n",
       "  <thead>\n",
       "    <tr style=\"text-align: right;\">\n",
       "      <th></th>\n",
       "      <th>0</th>\n",
       "    </tr>\n",
       "  </thead>\n",
       "  <tbody>\n",
       "    <tr>\n",
       "      <th>0</th>\n",
       "      <td>7</td>\n",
       "    </tr>\n",
       "    <tr>\n",
       "      <th>1</th>\n",
       "      <td>-1</td>\n",
       "    </tr>\n",
       "    <tr>\n",
       "      <th>2</th>\n",
       "      <td>-1</td>\n",
       "    </tr>\n",
       "    <tr>\n",
       "      <th>3</th>\n",
       "      <td>-1</td>\n",
       "    </tr>\n",
       "    <tr>\n",
       "      <th>4</th>\n",
       "      <td>-1</td>\n",
       "    </tr>\n",
       "  </tbody>\n",
       "</table>\n",
       "</div>"
      ],
      "text/plain": [
       "   0\n",
       "0  7\n",
       "1 -1\n",
       "2 -1\n",
       "3 -1\n",
       "4 -1"
      ]
     },
     "execution_count": 13,
     "metadata": {},
     "output_type": "execute_result"
    }
   ],
   "source": [
    "df_labels = pd.DataFrame(labels)\n",
    "df_labels.head()"
   ]
  },
  {
   "cell_type": "code",
   "execution_count": 14,
   "metadata": {},
   "outputs": [
    {
     "data": {
      "text/html": [
       "<div>\n",
       "<style scoped>\n",
       "    .dataframe tbody tr th:only-of-type {\n",
       "        vertical-align: middle;\n",
       "    }\n",
       "\n",
       "    .dataframe tbody tr th {\n",
       "        vertical-align: top;\n",
       "    }\n",
       "\n",
       "    .dataframe thead th {\n",
       "        text-align: right;\n",
       "    }\n",
       "</style>\n",
       "<table border=\"1\" class=\"dataframe\">\n",
       "  <thead>\n",
       "    <tr style=\"text-align: right;\">\n",
       "      <th></th>\n",
       "      <th>nonce</th>\n",
       "      <th>transaction_index</th>\n",
       "      <th>value</th>\n",
       "      <th>gas</th>\n",
       "      <th>receipt_cumulative_gas_used</th>\n",
       "      <th>receipt_gas_used</th>\n",
       "      <th>gas_price_unit</th>\n",
       "      <th>value_div_gas</th>\n",
       "      <th>from_address_count</th>\n",
       "      <th>to_address_count</th>\n",
       "      <th>block_count</th>\n",
       "      <th>in_degree_adr_from</th>\n",
       "    </tr>\n",
       "    <tr>\n",
       "      <th>block_timestamp_str</th>\n",
       "      <th></th>\n",
       "      <th></th>\n",
       "      <th></th>\n",
       "      <th></th>\n",
       "      <th></th>\n",
       "      <th></th>\n",
       "      <th></th>\n",
       "      <th></th>\n",
       "      <th></th>\n",
       "      <th></th>\n",
       "      <th></th>\n",
       "      <th></th>\n",
       "    </tr>\n",
       "  </thead>\n",
       "  <tbody>\n",
       "    <tr>\n",
       "      <th>2017-07-03 15:52:18 UTC</th>\n",
       "      <td>115</td>\n",
       "      <td>38</td>\n",
       "      <td>0.000000e+00</td>\n",
       "      <td>42495.0</td>\n",
       "      <td>903103.0</td>\n",
       "      <td>42494.0</td>\n",
       "      <td>494175.785387</td>\n",
       "      <td>0.000000e+00</td>\n",
       "      <td>40</td>\n",
       "      <td>84</td>\n",
       "      <td>144</td>\n",
       "      <td>0</td>\n",
       "    </tr>\n",
       "    <tr>\n",
       "      <th>2017-07-03 18:01:16 UTC</th>\n",
       "      <td>149</td>\n",
       "      <td>11</td>\n",
       "      <td>1.000000e+16</td>\n",
       "      <td>500000.0</td>\n",
       "      <td>812449.0</td>\n",
       "      <td>457319.0</td>\n",
       "      <td>120000.000000</td>\n",
       "      <td>2.000000e+10</td>\n",
       "      <td>29</td>\n",
       "      <td>23994</td>\n",
       "      <td>29</td>\n",
       "      <td>0</td>\n",
       "    </tr>\n",
       "    <tr>\n",
       "      <th>2017-07-03 03:18:26 UTC</th>\n",
       "      <td>9553</td>\n",
       "      <td>80</td>\n",
       "      <td>5.421000e+18</td>\n",
       "      <td>500000.0</td>\n",
       "      <td>3906926.0</td>\n",
       "      <td>418436.0</td>\n",
       "      <td>2120.000000</td>\n",
       "      <td>1.084200e+13</td>\n",
       "      <td>1611</td>\n",
       "      <td>23994</td>\n",
       "      <td>122</td>\n",
       "      <td>4</td>\n",
       "    </tr>\n",
       "    <tr>\n",
       "      <th>2017-07-03 03:18:26 UTC</th>\n",
       "      <td>9554</td>\n",
       "      <td>96</td>\n",
       "      <td>5.421000e+18</td>\n",
       "      <td>500000.0</td>\n",
       "      <td>5044728.0</td>\n",
       "      <td>418436.0</td>\n",
       "      <td>2120.000000</td>\n",
       "      <td>1.084200e+13</td>\n",
       "      <td>1611</td>\n",
       "      <td>23994</td>\n",
       "      <td>122</td>\n",
       "      <td>4</td>\n",
       "    </tr>\n",
       "    <tr>\n",
       "      <th>2017-07-03 20:25:58 UTC</th>\n",
       "      <td>9888</td>\n",
       "      <td>41</td>\n",
       "      <td>5.421000e+18</td>\n",
       "      <td>500000.0</td>\n",
       "      <td>3442634.0</td>\n",
       "      <td>418436.0</td>\n",
       "      <td>2120.000000</td>\n",
       "      <td>1.084200e+13</td>\n",
       "      <td>1611</td>\n",
       "      <td>23994</td>\n",
       "      <td>60</td>\n",
       "      <td>4</td>\n",
       "    </tr>\n",
       "  </tbody>\n",
       "</table>\n",
       "</div>"
      ],
      "text/plain": [
       "                         nonce  transaction_index         value       gas  \\\n",
       "block_timestamp_str                                                         \n",
       "2017-07-03 15:52:18 UTC    115                 38  0.000000e+00   42495.0   \n",
       "2017-07-03 18:01:16 UTC    149                 11  1.000000e+16  500000.0   \n",
       "2017-07-03 03:18:26 UTC   9553                 80  5.421000e+18  500000.0   \n",
       "2017-07-03 03:18:26 UTC   9554                 96  5.421000e+18  500000.0   \n",
       "2017-07-03 20:25:58 UTC   9888                 41  5.421000e+18  500000.0   \n",
       "\n",
       "                         receipt_cumulative_gas_used  receipt_gas_used  \\\n",
       "block_timestamp_str                                                      \n",
       "2017-07-03 15:52:18 UTC                     903103.0           42494.0   \n",
       "2017-07-03 18:01:16 UTC                     812449.0          457319.0   \n",
       "2017-07-03 03:18:26 UTC                    3906926.0          418436.0   \n",
       "2017-07-03 03:18:26 UTC                    5044728.0          418436.0   \n",
       "2017-07-03 20:25:58 UTC                    3442634.0          418436.0   \n",
       "\n",
       "                         gas_price_unit  value_div_gas  from_address_count  \\\n",
       "block_timestamp_str                                                          \n",
       "2017-07-03 15:52:18 UTC   494175.785387   0.000000e+00                  40   \n",
       "2017-07-03 18:01:16 UTC   120000.000000   2.000000e+10                  29   \n",
       "2017-07-03 03:18:26 UTC     2120.000000   1.084200e+13                1611   \n",
       "2017-07-03 03:18:26 UTC     2120.000000   1.084200e+13                1611   \n",
       "2017-07-03 20:25:58 UTC     2120.000000   1.084200e+13                1611   \n",
       "\n",
       "                         to_address_count  block_count  in_degree_adr_from  \n",
       "block_timestamp_str                                                         \n",
       "2017-07-03 15:52:18 UTC                84          144                   0  \n",
       "2017-07-03 18:01:16 UTC             23994           29                   0  \n",
       "2017-07-03 03:18:26 UTC             23994          122                   4  \n",
       "2017-07-03 03:18:26 UTC             23994          122                   4  \n",
       "2017-07-03 20:25:58 UTC             23994           60                   4  "
      ]
     },
     "execution_count": 14,
     "metadata": {},
     "output_type": "execute_result"
    }
   ],
   "source": [
    "Xtrain.head()"
   ]
  },
  {
   "cell_type": "code",
   "execution_count": 15,
   "metadata": {},
   "outputs": [
    {
     "data": {
      "text/html": [
       "<div>\n",
       "<style scoped>\n",
       "    .dataframe tbody tr th:only-of-type {\n",
       "        vertical-align: middle;\n",
       "    }\n",
       "\n",
       "    .dataframe tbody tr th {\n",
       "        vertical-align: top;\n",
       "    }\n",
       "\n",
       "    .dataframe thead th {\n",
       "        text-align: right;\n",
       "    }\n",
       "</style>\n",
       "<table border=\"1\" class=\"dataframe\">\n",
       "  <thead>\n",
       "    <tr style=\"text-align: right;\">\n",
       "      <th></th>\n",
       "      <th>0</th>\n",
       "    </tr>\n",
       "  </thead>\n",
       "  <tbody>\n",
       "    <tr>\n",
       "      <th>0</th>\n",
       "      <td>7</td>\n",
       "    </tr>\n",
       "    <tr>\n",
       "      <th>1</th>\n",
       "      <td>-1</td>\n",
       "    </tr>\n",
       "    <tr>\n",
       "      <th>2</th>\n",
       "      <td>-1</td>\n",
       "    </tr>\n",
       "    <tr>\n",
       "      <th>3</th>\n",
       "      <td>-1</td>\n",
       "    </tr>\n",
       "    <tr>\n",
       "      <th>4</th>\n",
       "      <td>-1</td>\n",
       "    </tr>\n",
       "  </tbody>\n",
       "</table>\n",
       "</div>"
      ],
      "text/plain": [
       "   0\n",
       "0  7\n",
       "1 -1\n",
       "2 -1\n",
       "3 -1\n",
       "4 -1"
      ]
     },
     "execution_count": 15,
     "metadata": {},
     "output_type": "execute_result"
    }
   ],
   "source": [
    "df_labels.head()"
   ]
  },
  {
   "cell_type": "code",
   "execution_count": 16,
   "metadata": {},
   "outputs": [
    {
     "data": {
      "text/html": [
       "<div>\n",
       "<style scoped>\n",
       "    .dataframe tbody tr th:only-of-type {\n",
       "        vertical-align: middle;\n",
       "    }\n",
       "\n",
       "    .dataframe tbody tr th {\n",
       "        vertical-align: top;\n",
       "    }\n",
       "\n",
       "    .dataframe thead th {\n",
       "        text-align: right;\n",
       "    }\n",
       "</style>\n",
       "<table border=\"1\" class=\"dataframe\">\n",
       "  <thead>\n",
       "    <tr style=\"text-align: right;\">\n",
       "      <th></th>\n",
       "      <th>transaction_flag</th>\n",
       "    </tr>\n",
       "    <tr>\n",
       "      <th>block_timestamp_str</th>\n",
       "      <th></th>\n",
       "    </tr>\n",
       "  </thead>\n",
       "  <tbody>\n",
       "    <tr>\n",
       "      <th>2017-07-03 15:52:18 UTC</th>\n",
       "      <td>0</td>\n",
       "    </tr>\n",
       "    <tr>\n",
       "      <th>2017-07-03 18:01:16 UTC</th>\n",
       "      <td>0</td>\n",
       "    </tr>\n",
       "    <tr>\n",
       "      <th>2017-07-03 03:18:26 UTC</th>\n",
       "      <td>0</td>\n",
       "    </tr>\n",
       "    <tr>\n",
       "      <th>2017-07-03 03:18:26 UTC</th>\n",
       "      <td>0</td>\n",
       "    </tr>\n",
       "    <tr>\n",
       "      <th>2017-07-03 20:25:58 UTC</th>\n",
       "      <td>0</td>\n",
       "    </tr>\n",
       "  </tbody>\n",
       "</table>\n",
       "</div>"
      ],
      "text/plain": [
       "                         transaction_flag\n",
       "block_timestamp_str                      \n",
       "2017-07-03 15:52:18 UTC                 0\n",
       "2017-07-03 18:01:16 UTC                 0\n",
       "2017-07-03 03:18:26 UTC                 0\n",
       "2017-07-03 03:18:26 UTC                 0\n",
       "2017-07-03 20:25:58 UTC                 0"
      ]
     },
     "execution_count": 16,
     "metadata": {},
     "output_type": "execute_result"
    }
   ],
   "source": [
    "ytrain.head()"
   ]
  },
  {
   "cell_type": "code",
   "execution_count": 17,
   "metadata": {},
   "outputs": [],
   "source": [
    "train_data_dbscan_labels = pd.merge(Xtrain,ytrain,left_index=True,right_index=True)\n",
    "train_data_dbscan_labels.head()"
   ]
  },
  {
   "cell_type": "code",
   "execution_count": null,
   "metadata": {},
   "outputs": [
    {
     "ename": "TypeError",
     "evalue": "'<' not supported between instances of 'int' and 'Timestamp'",
     "output_type": "error",
     "traceback": [
      "\u001b[0;31m---------------------------------------------------------------------------\u001b[0m",
      "\u001b[0;31mTypeError\u001b[0m                                 Traceback (most recent call last)",
      "File \u001b[0;32m/usr/local/lib/python3.10/dist-packages/numpy/core/fromnumeric.py:57\u001b[0m, in \u001b[0;36m_wrapfunc\u001b[0;34m(obj, method, *args, **kwds)\u001b[0m\n\u001b[1;32m     56\u001b[0m \u001b[39mtry\u001b[39;00m:\n\u001b[0;32m---> 57\u001b[0m     \u001b[39mreturn\u001b[39;00m bound(\u001b[39m*\u001b[39;49margs, \u001b[39m*\u001b[39;49m\u001b[39m*\u001b[39;49mkwds)\n\u001b[1;32m     58\u001b[0m \u001b[39mexcept\u001b[39;00m \u001b[39mTypeError\u001b[39;00m:\n\u001b[1;32m     59\u001b[0m     \u001b[39m# A TypeError occurs if the object does have such a method in its\u001b[39;00m\n\u001b[1;32m     60\u001b[0m     \u001b[39m# class, but its signature is not identical to that of NumPy's. This\u001b[39;00m\n\u001b[0;32m   (...)\u001b[0m\n\u001b[1;32m     64\u001b[0m     \u001b[39m# Call _wrapit from within the except clause to ensure a potential\u001b[39;00m\n\u001b[1;32m     65\u001b[0m     \u001b[39m# exception has a traceback chain.\u001b[39;00m\n",
      "\u001b[0;31mTypeError\u001b[0m: '<' not supported between instances of 'int' and 'Timestamp'",
      "\nDuring handling of the above exception, another exception occurred:\n",
      "\u001b[0;31mTypeError\u001b[0m                                 Traceback (most recent call last)",
      "Cell \u001b[0;32mIn[16], line 4\u001b[0m\n\u001b[1;32m      1\u001b[0m \u001b[39m# Merge dataset with DBSCAN labels\u001b[39;00m\n\u001b[1;32m      3\u001b[0m Xtrain\u001b[39m.\u001b[39mhead()\n\u001b[0;32m----> 4\u001b[0m train_data_dbscan_labels \u001b[39m=\u001b[39m pd\u001b[39m.\u001b[39;49mmerge(Xtrain,df_labels,left_index\u001b[39m=\u001b[39;49m\u001b[39mTrue\u001b[39;49;00m,right_index\u001b[39m=\u001b[39;49m\u001b[39mTrue\u001b[39;49;00m)\n\u001b[1;32m      6\u001b[0m train_data_dbscan \u001b[39m=\u001b[39m train_data_dbscan_labels\u001b[39m.\u001b[39mdrop([\u001b[39m'\u001b[39m\u001b[39mUnnamed: 0\u001b[39m\u001b[39m'\u001b[39m], axis\u001b[39m=\u001b[39m\u001b[39m1\u001b[39m)\n\u001b[1;32m      8\u001b[0m train_data_dbscan\u001b[39m.\u001b[39mrename(columns \u001b[39m=\u001b[39m {\u001b[39m\"\u001b[39m\u001b[39m0\u001b[39m\u001b[39m\"\u001b[39m: \u001b[39m\"\u001b[39m\u001b[39mDBSCAN_labels\u001b[39m\u001b[39m\"\u001b[39m}, inplace \u001b[39m=\u001b[39m \u001b[39mTrue\u001b[39;00m)\n",
      "File \u001b[0;32m~/.local/lib/python3.10/site-packages/pandas/core/reshape/merge.py:162\u001b[0m, in \u001b[0;36mmerge\u001b[0;34m(left, right, how, on, left_on, right_on, left_index, right_index, sort, suffixes, copy, indicator, validate)\u001b[0m\n\u001b[1;32m    131\u001b[0m \u001b[39m@Substitution\u001b[39m(\u001b[39m\"\u001b[39m\u001b[39m\\n\u001b[39;00m\u001b[39mleft : DataFrame or named Series\u001b[39m\u001b[39m\"\u001b[39m)\n\u001b[1;32m    132\u001b[0m \u001b[39m@Appender\u001b[39m(_merge_doc, indents\u001b[39m=\u001b[39m\u001b[39m0\u001b[39m)\n\u001b[1;32m    133\u001b[0m \u001b[39mdef\u001b[39;00m \u001b[39mmerge\u001b[39m(\n\u001b[0;32m   (...)\u001b[0m\n\u001b[1;32m    146\u001b[0m     validate: \u001b[39mstr\u001b[39m \u001b[39m|\u001b[39m \u001b[39mNone\u001b[39;00m \u001b[39m=\u001b[39m \u001b[39mNone\u001b[39;00m,\n\u001b[1;32m    147\u001b[0m ) \u001b[39m-\u001b[39m\u001b[39m>\u001b[39m DataFrame:\n\u001b[1;32m    148\u001b[0m     op \u001b[39m=\u001b[39m _MergeOperation(\n\u001b[1;32m    149\u001b[0m         left,\n\u001b[1;32m    150\u001b[0m         right,\n\u001b[0;32m   (...)\u001b[0m\n\u001b[1;32m    160\u001b[0m         validate\u001b[39m=\u001b[39mvalidate,\n\u001b[1;32m    161\u001b[0m     )\n\u001b[0;32m--> 162\u001b[0m     \u001b[39mreturn\u001b[39;00m op\u001b[39m.\u001b[39;49mget_result(copy\u001b[39m=\u001b[39;49mcopy)\n",
      "File \u001b[0;32m~/.local/lib/python3.10/site-packages/pandas/core/reshape/merge.py:809\u001b[0m, in \u001b[0;36m_MergeOperation.get_result\u001b[0;34m(self, copy)\u001b[0m\n\u001b[1;32m    806\u001b[0m \u001b[39mif\u001b[39;00m \u001b[39mself\u001b[39m\u001b[39m.\u001b[39mindicator:\n\u001b[1;32m    807\u001b[0m     \u001b[39mself\u001b[39m\u001b[39m.\u001b[39mleft, \u001b[39mself\u001b[39m\u001b[39m.\u001b[39mright \u001b[39m=\u001b[39m \u001b[39mself\u001b[39m\u001b[39m.\u001b[39m_indicator_pre_merge(\u001b[39mself\u001b[39m\u001b[39m.\u001b[39mleft, \u001b[39mself\u001b[39m\u001b[39m.\u001b[39mright)\n\u001b[0;32m--> 809\u001b[0m join_index, left_indexer, right_indexer \u001b[39m=\u001b[39m \u001b[39mself\u001b[39;49m\u001b[39m.\u001b[39;49m_get_join_info()\n\u001b[1;32m    811\u001b[0m result \u001b[39m=\u001b[39m \u001b[39mself\u001b[39m\u001b[39m.\u001b[39m_reindex_and_concat(\n\u001b[1;32m    812\u001b[0m     join_index, left_indexer, right_indexer, copy\u001b[39m=\u001b[39mcopy\n\u001b[1;32m    813\u001b[0m )\n\u001b[1;32m    814\u001b[0m result \u001b[39m=\u001b[39m result\u001b[39m.\u001b[39m__finalize__(\u001b[39mself\u001b[39m, method\u001b[39m=\u001b[39m\u001b[39mself\u001b[39m\u001b[39m.\u001b[39m_merge_type)\n",
      "File \u001b[0;32m~/.local/lib/python3.10/site-packages/pandas/core/reshape/merge.py:1051\u001b[0m, in \u001b[0;36m_MergeOperation._get_join_info\u001b[0;34m(self)\u001b[0m\n\u001b[1;32m   1048\u001b[0m right_ax \u001b[39m=\u001b[39m \u001b[39mself\u001b[39m\u001b[39m.\u001b[39mright\u001b[39m.\u001b[39maxes[\u001b[39mself\u001b[39m\u001b[39m.\u001b[39maxis]\n\u001b[1;32m   1050\u001b[0m \u001b[39mif\u001b[39;00m \u001b[39mself\u001b[39m\u001b[39m.\u001b[39mleft_index \u001b[39mand\u001b[39;00m \u001b[39mself\u001b[39m\u001b[39m.\u001b[39mright_index \u001b[39mand\u001b[39;00m \u001b[39mself\u001b[39m\u001b[39m.\u001b[39mhow \u001b[39m!=\u001b[39m \u001b[39m\"\u001b[39m\u001b[39masof\u001b[39m\u001b[39m\"\u001b[39m:\n\u001b[0;32m-> 1051\u001b[0m     join_index, left_indexer, right_indexer \u001b[39m=\u001b[39m left_ax\u001b[39m.\u001b[39;49mjoin(\n\u001b[1;32m   1052\u001b[0m         right_ax, how\u001b[39m=\u001b[39;49m\u001b[39mself\u001b[39;49m\u001b[39m.\u001b[39;49mhow, return_indexers\u001b[39m=\u001b[39;49m\u001b[39mTrue\u001b[39;49;00m, sort\u001b[39m=\u001b[39;49m\u001b[39mself\u001b[39;49m\u001b[39m.\u001b[39;49msort\n\u001b[1;32m   1053\u001b[0m     )\n\u001b[1;32m   1055\u001b[0m \u001b[39melif\u001b[39;00m \u001b[39mself\u001b[39m\u001b[39m.\u001b[39mright_index \u001b[39mand\u001b[39;00m \u001b[39mself\u001b[39m\u001b[39m.\u001b[39mhow \u001b[39m==\u001b[39m \u001b[39m\"\u001b[39m\u001b[39mleft\u001b[39m\u001b[39m\"\u001b[39m:\n\u001b[1;32m   1056\u001b[0m     join_index, left_indexer, right_indexer \u001b[39m=\u001b[39m _left_join_on_index(\n\u001b[1;32m   1057\u001b[0m         left_ax, right_ax, \u001b[39mself\u001b[39m\u001b[39m.\u001b[39mleft_join_keys, sort\u001b[39m=\u001b[39m\u001b[39mself\u001b[39m\u001b[39m.\u001b[39msort\n\u001b[1;32m   1058\u001b[0m     )\n",
      "File \u001b[0;32m~/.local/lib/python3.10/site-packages/pandas/core/indexes/base.py:259\u001b[0m, in \u001b[0;36m_maybe_return_indexers.<locals>.join\u001b[0;34m(self, other, how, level, return_indexers, sort)\u001b[0m\n\u001b[1;32m    249\u001b[0m \u001b[39m@functools\u001b[39m\u001b[39m.\u001b[39mwraps(meth)\n\u001b[1;32m    250\u001b[0m \u001b[39mdef\u001b[39;00m \u001b[39mjoin\u001b[39m(\n\u001b[1;32m    251\u001b[0m     \u001b[39mself\u001b[39m,\n\u001b[0;32m   (...)\u001b[0m\n\u001b[1;32m    257\u001b[0m     sort: \u001b[39mbool\u001b[39m \u001b[39m=\u001b[39m \u001b[39mFalse\u001b[39;00m,\n\u001b[1;32m    258\u001b[0m ):\n\u001b[0;32m--> 259\u001b[0m     join_index, lidx, ridx \u001b[39m=\u001b[39m meth(\u001b[39mself\u001b[39;49m, other, how\u001b[39m=\u001b[39;49mhow, level\u001b[39m=\u001b[39;49mlevel, sort\u001b[39m=\u001b[39;49msort)\n\u001b[1;32m    260\u001b[0m     \u001b[39mif\u001b[39;00m \u001b[39mnot\u001b[39;00m return_indexers:\n\u001b[1;32m    261\u001b[0m         \u001b[39mreturn\u001b[39;00m join_index\n",
      "File \u001b[0;32m~/.local/lib/python3.10/site-packages/pandas/core/indexes/base.py:4494\u001b[0m, in \u001b[0;36mIndex.join\u001b[0;34m(self, other, how, level, return_indexers, sort)\u001b[0m\n\u001b[1;32m   4492\u001b[0m     this \u001b[39m=\u001b[39m \u001b[39mself\u001b[39m\u001b[39m.\u001b[39mastype(dtype, copy\u001b[39m=\u001b[39m\u001b[39mFalse\u001b[39;00m)\n\u001b[1;32m   4493\u001b[0m     other \u001b[39m=\u001b[39m other\u001b[39m.\u001b[39mastype(dtype, copy\u001b[39m=\u001b[39m\u001b[39mFalse\u001b[39;00m)\n\u001b[0;32m-> 4494\u001b[0m     \u001b[39mreturn\u001b[39;00m this\u001b[39m.\u001b[39;49mjoin(other, how\u001b[39m=\u001b[39;49mhow, return_indexers\u001b[39m=\u001b[39;49m\u001b[39mTrue\u001b[39;49;00m)\n\u001b[1;32m   4496\u001b[0m _validate_join_method(how)\n\u001b[1;32m   4498\u001b[0m \u001b[39mif\u001b[39;00m \u001b[39mnot\u001b[39;00m \u001b[39mself\u001b[39m\u001b[39m.\u001b[39mis_unique \u001b[39mand\u001b[39;00m \u001b[39mnot\u001b[39;00m other\u001b[39m.\u001b[39mis_unique:\n",
      "File \u001b[0;32m~/.local/lib/python3.10/site-packages/pandas/core/indexes/base.py:259\u001b[0m, in \u001b[0;36m_maybe_return_indexers.<locals>.join\u001b[0;34m(self, other, how, level, return_indexers, sort)\u001b[0m\n\u001b[1;32m    249\u001b[0m \u001b[39m@functools\u001b[39m\u001b[39m.\u001b[39mwraps(meth)\n\u001b[1;32m    250\u001b[0m \u001b[39mdef\u001b[39;00m \u001b[39mjoin\u001b[39m(\n\u001b[1;32m    251\u001b[0m     \u001b[39mself\u001b[39m,\n\u001b[0;32m   (...)\u001b[0m\n\u001b[1;32m    257\u001b[0m     sort: \u001b[39mbool\u001b[39m \u001b[39m=\u001b[39m \u001b[39mFalse\u001b[39;00m,\n\u001b[1;32m    258\u001b[0m ):\n\u001b[0;32m--> 259\u001b[0m     join_index, lidx, ridx \u001b[39m=\u001b[39m meth(\u001b[39mself\u001b[39;49m, other, how\u001b[39m=\u001b[39;49mhow, level\u001b[39m=\u001b[39;49mlevel, sort\u001b[39m=\u001b[39;49msort)\n\u001b[1;32m    260\u001b[0m     \u001b[39mif\u001b[39;00m \u001b[39mnot\u001b[39;00m return_indexers:\n\u001b[1;32m    261\u001b[0m         \u001b[39mreturn\u001b[39;00m join_index\n",
      "File \u001b[0;32m~/.local/lib/python3.10/site-packages/pandas/core/indexes/base.py:4508\u001b[0m, in \u001b[0;36mIndex.join\u001b[0;34m(self, other, how, level, return_indexers, sort)\u001b[0m\n\u001b[1;32m   4506\u001b[0m             \u001b[39mreturn\u001b[39;00m \u001b[39mself\u001b[39m\u001b[39m.\u001b[39m_join_monotonic(other, how\u001b[39m=\u001b[39mhow)\n\u001b[1;32m   4507\u001b[0m     \u001b[39melse\u001b[39;00m:\n\u001b[0;32m-> 4508\u001b[0m         \u001b[39mreturn\u001b[39;00m \u001b[39mself\u001b[39;49m\u001b[39m.\u001b[39;49m_join_non_unique(other, how\u001b[39m=\u001b[39;49mhow)\n\u001b[1;32m   4509\u001b[0m \u001b[39melif\u001b[39;00m (\n\u001b[1;32m   4510\u001b[0m     \u001b[39m# GH48504: exclude MultiIndex to avoid going through MultiIndex._values\u001b[39;00m\n\u001b[1;32m   4511\u001b[0m     \u001b[39mself\u001b[39m\u001b[39m.\u001b[39mis_monotonic_increasing\n\u001b[0;32m   (...)\u001b[0m\n\u001b[1;32m   4517\u001b[0m     \u001b[39m# Categorical is monotonic if data are ordered as categories, but join can\u001b[39;00m\n\u001b[1;32m   4518\u001b[0m     \u001b[39m#  not handle this in case of not lexicographically monotonic GH#38502\u001b[39;00m\n\u001b[1;32m   4519\u001b[0m     \u001b[39mtry\u001b[39;00m:\n",
      "File \u001b[0;32m~/.local/lib/python3.10/site-packages/pandas/core/indexes/base.py:4653\u001b[0m, in \u001b[0;36mIndex._join_non_unique\u001b[0;34m(self, other, how)\u001b[0m\n\u001b[1;32m   4650\u001b[0m \u001b[39m# We only get here if dtypes match\u001b[39;00m\n\u001b[1;32m   4651\u001b[0m \u001b[39massert\u001b[39;00m \u001b[39mself\u001b[39m\u001b[39m.\u001b[39mdtype \u001b[39m==\u001b[39m other\u001b[39m.\u001b[39mdtype\n\u001b[0;32m-> 4653\u001b[0m left_idx, right_idx \u001b[39m=\u001b[39m get_join_indexers(\n\u001b[1;32m   4654\u001b[0m     [\u001b[39mself\u001b[39;49m\u001b[39m.\u001b[39;49m_values], [other\u001b[39m.\u001b[39;49m_values], how\u001b[39m=\u001b[39;49mhow, sort\u001b[39m=\u001b[39;49m\u001b[39mTrue\u001b[39;49;00m\n\u001b[1;32m   4655\u001b[0m )\n\u001b[1;32m   4656\u001b[0m mask \u001b[39m=\u001b[39m left_idx \u001b[39m==\u001b[39m \u001b[39m-\u001b[39m\u001b[39m1\u001b[39m\n\u001b[1;32m   4658\u001b[0m join_idx \u001b[39m=\u001b[39m \u001b[39mself\u001b[39m\u001b[39m.\u001b[39mtake(left_idx)\n",
      "File \u001b[0;32m~/.local/lib/python3.10/site-packages/pandas/core/reshape/merge.py:1665\u001b[0m, in \u001b[0;36mget_join_indexers\u001b[0;34m(left_keys, right_keys, sort, how, **kwargs)\u001b[0m\n\u001b[1;32m   1660\u001b[0m \u001b[39m# get left & right join labels and num. of levels at each location\u001b[39;00m\n\u001b[1;32m   1661\u001b[0m mapped \u001b[39m=\u001b[39m (\n\u001b[1;32m   1662\u001b[0m     _factorize_keys(left_keys[n], right_keys[n], sort\u001b[39m=\u001b[39msort, how\u001b[39m=\u001b[39mhow)\n\u001b[1;32m   1663\u001b[0m     \u001b[39mfor\u001b[39;00m n \u001b[39min\u001b[39;00m \u001b[39mrange\u001b[39m(\u001b[39mlen\u001b[39m(left_keys))\n\u001b[1;32m   1664\u001b[0m )\n\u001b[0;32m-> 1665\u001b[0m zipped \u001b[39m=\u001b[39m \u001b[39mzip\u001b[39;49m(\u001b[39m*\u001b[39;49mmapped)\n\u001b[1;32m   1666\u001b[0m llab, rlab, shape \u001b[39m=\u001b[39m (\u001b[39mlist\u001b[39m(x) \u001b[39mfor\u001b[39;00m x \u001b[39min\u001b[39;00m zipped)\n\u001b[1;32m   1668\u001b[0m \u001b[39m# get flat i8 keys from label lists\u001b[39;00m\n",
      "File \u001b[0;32m~/.local/lib/python3.10/site-packages/pandas/core/reshape/merge.py:1662\u001b[0m, in \u001b[0;36m<genexpr>\u001b[0;34m(.0)\u001b[0m\n\u001b[1;32m   1658\u001b[0m         \u001b[39mreturn\u001b[39;00m _get_no_sort_one_missing_indexer(left_n, \u001b[39mFalse\u001b[39;00m)\n\u001b[1;32m   1660\u001b[0m \u001b[39m# get left & right join labels and num. of levels at each location\u001b[39;00m\n\u001b[1;32m   1661\u001b[0m mapped \u001b[39m=\u001b[39m (\n\u001b[0;32m-> 1662\u001b[0m     _factorize_keys(left_keys[n], right_keys[n], sort\u001b[39m=\u001b[39;49msort, how\u001b[39m=\u001b[39;49mhow)\n\u001b[1;32m   1663\u001b[0m     \u001b[39mfor\u001b[39;00m n \u001b[39min\u001b[39;00m \u001b[39mrange\u001b[39m(\u001b[39mlen\u001b[39m(left_keys))\n\u001b[1;32m   1664\u001b[0m )\n\u001b[1;32m   1665\u001b[0m zipped \u001b[39m=\u001b[39m \u001b[39mzip\u001b[39m(\u001b[39m*\u001b[39mmapped)\n\u001b[1;32m   1666\u001b[0m llab, rlab, shape \u001b[39m=\u001b[39m (\u001b[39mlist\u001b[39m(x) \u001b[39mfor\u001b[39;00m x \u001b[39min\u001b[39;00m zipped)\n",
      "File \u001b[0;32m~/.local/lib/python3.10/site-packages/pandas/core/reshape/merge.py:2437\u001b[0m, in \u001b[0;36m_factorize_keys\u001b[0;34m(lk, rk, sort, how)\u001b[0m\n\u001b[1;32m   2435\u001b[0m \u001b[39mif\u001b[39;00m sort:\n\u001b[1;32m   2436\u001b[0m     uniques \u001b[39m=\u001b[39m rizer\u001b[39m.\u001b[39muniques\u001b[39m.\u001b[39mto_array()\n\u001b[0;32m-> 2437\u001b[0m     llab, rlab \u001b[39m=\u001b[39m _sort_labels(uniques, llab, rlab)\n\u001b[1;32m   2439\u001b[0m \u001b[39m# NA group\u001b[39;00m\n\u001b[1;32m   2440\u001b[0m lmask \u001b[39m=\u001b[39m llab \u001b[39m==\u001b[39m \u001b[39m-\u001b[39m\u001b[39m1\u001b[39m\n",
      "File \u001b[0;32m~/.local/lib/python3.10/site-packages/pandas/core/reshape/merge.py:2500\u001b[0m, in \u001b[0;36m_sort_labels\u001b[0;34m(uniques, left, right)\u001b[0m\n\u001b[1;32m   2497\u001b[0m llength \u001b[39m=\u001b[39m \u001b[39mlen\u001b[39m(left)\n\u001b[1;32m   2498\u001b[0m labels \u001b[39m=\u001b[39m np\u001b[39m.\u001b[39mconcatenate([left, right])\n\u001b[0;32m-> 2500\u001b[0m _, new_labels \u001b[39m=\u001b[39m algos\u001b[39m.\u001b[39;49msafe_sort(uniques, labels, use_na_sentinel\u001b[39m=\u001b[39;49m\u001b[39mTrue\u001b[39;49;00m)\n\u001b[1;32m   2501\u001b[0m new_left, new_right \u001b[39m=\u001b[39m new_labels[:llength], new_labels[llength:]\n\u001b[1;32m   2503\u001b[0m \u001b[39mreturn\u001b[39;00m new_left, new_right\n",
      "File \u001b[0;32m~/.local/lib/python3.10/site-packages/pandas/core/algorithms.py:1540\u001b[0m, in \u001b[0;36msafe_sort\u001b[0;34m(values, codes, use_na_sentinel, assume_unique, verify)\u001b[0m\n\u001b[1;32m   1534\u001b[0m ordered: AnyArrayLike\n\u001b[1;32m   1536\u001b[0m \u001b[39mif\u001b[39;00m (\n\u001b[1;32m   1537\u001b[0m     \u001b[39mnot\u001b[39;00m is_extension_array_dtype(values)\n\u001b[1;32m   1538\u001b[0m     \u001b[39mand\u001b[39;00m lib\u001b[39m.\u001b[39minfer_dtype(values, skipna\u001b[39m=\u001b[39m\u001b[39mFalse\u001b[39;00m) \u001b[39m==\u001b[39m \u001b[39m\"\u001b[39m\u001b[39mmixed-integer\u001b[39m\u001b[39m\"\u001b[39m\n\u001b[1;32m   1539\u001b[0m ):\n\u001b[0;32m-> 1540\u001b[0m     ordered \u001b[39m=\u001b[39m _sort_mixed(values)\n\u001b[1;32m   1541\u001b[0m \u001b[39melse\u001b[39;00m:\n\u001b[1;32m   1542\u001b[0m     \u001b[39mtry\u001b[39;00m:\n",
      "File \u001b[0;32m~/.local/lib/python3.10/site-packages/pandas/core/algorithms.py:1608\u001b[0m, in \u001b[0;36m_sort_mixed\u001b[0;34m(values)\u001b[0m\n\u001b[1;32m   1606\u001b[0m num_pos \u001b[39m=\u001b[39m \u001b[39m~\u001b[39mstr_pos \u001b[39m&\u001b[39m \u001b[39m~\u001b[39mnull_pos\n\u001b[1;32m   1607\u001b[0m str_argsort \u001b[39m=\u001b[39m np\u001b[39m.\u001b[39margsort(values[str_pos])\n\u001b[0;32m-> 1608\u001b[0m num_argsort \u001b[39m=\u001b[39m np\u001b[39m.\u001b[39;49margsort(values[num_pos])\n\u001b[1;32m   1609\u001b[0m \u001b[39m# convert boolean arrays to positional indices, then order by underlying values\u001b[39;00m\n\u001b[1;32m   1610\u001b[0m str_locs \u001b[39m=\u001b[39m str_pos\u001b[39m.\u001b[39mnonzero()[\u001b[39m0\u001b[39m]\u001b[39m.\u001b[39mtake(str_argsort)\n",
      "File \u001b[0;32m<__array_function__ internals>:180\u001b[0m, in \u001b[0;36margsort\u001b[0;34m(*args, **kwargs)\u001b[0m\n",
      "File \u001b[0;32m/usr/local/lib/python3.10/dist-packages/numpy/core/fromnumeric.py:1120\u001b[0m, in \u001b[0;36margsort\u001b[0;34m(a, axis, kind, order)\u001b[0m\n\u001b[1;32m   1012\u001b[0m \u001b[39m@array_function_dispatch\u001b[39m(_argsort_dispatcher)\n\u001b[1;32m   1013\u001b[0m \u001b[39mdef\u001b[39;00m \u001b[39margsort\u001b[39m(a, axis\u001b[39m=\u001b[39m\u001b[39m-\u001b[39m\u001b[39m1\u001b[39m, kind\u001b[39m=\u001b[39m\u001b[39mNone\u001b[39;00m, order\u001b[39m=\u001b[39m\u001b[39mNone\u001b[39;00m):\n\u001b[1;32m   1014\u001b[0m     \u001b[39m\"\"\"\u001b[39;00m\n\u001b[1;32m   1015\u001b[0m \u001b[39m    Returns the indices that would sort an array.\u001b[39;00m\n\u001b[1;32m   1016\u001b[0m \n\u001b[0;32m   (...)\u001b[0m\n\u001b[1;32m   1118\u001b[0m \n\u001b[1;32m   1119\u001b[0m \u001b[39m    \"\"\"\u001b[39;00m\n\u001b[0;32m-> 1120\u001b[0m     \u001b[39mreturn\u001b[39;00m _wrapfunc(a, \u001b[39m'\u001b[39;49m\u001b[39margsort\u001b[39;49m\u001b[39m'\u001b[39;49m, axis\u001b[39m=\u001b[39;49maxis, kind\u001b[39m=\u001b[39;49mkind, order\u001b[39m=\u001b[39;49morder)\n",
      "File \u001b[0;32m/usr/local/lib/python3.10/dist-packages/numpy/core/fromnumeric.py:66\u001b[0m, in \u001b[0;36m_wrapfunc\u001b[0;34m(obj, method, *args, **kwds)\u001b[0m\n\u001b[1;32m     57\u001b[0m     \u001b[39mreturn\u001b[39;00m bound(\u001b[39m*\u001b[39margs, \u001b[39m*\u001b[39m\u001b[39m*\u001b[39mkwds)\n\u001b[1;32m     58\u001b[0m \u001b[39mexcept\u001b[39;00m \u001b[39mTypeError\u001b[39;00m:\n\u001b[1;32m     59\u001b[0m     \u001b[39m# A TypeError occurs if the object does have such a method in its\u001b[39;00m\n\u001b[1;32m     60\u001b[0m     \u001b[39m# class, but its signature is not identical to that of NumPy's. This\u001b[39;00m\n\u001b[0;32m   (...)\u001b[0m\n\u001b[1;32m     64\u001b[0m     \u001b[39m# Call _wrapit from within the except clause to ensure a potential\u001b[39;00m\n\u001b[1;32m     65\u001b[0m     \u001b[39m# exception has a traceback chain.\u001b[39;00m\n\u001b[0;32m---> 66\u001b[0m     \u001b[39mreturn\u001b[39;00m _wrapit(obj, method, \u001b[39m*\u001b[39;49margs, \u001b[39m*\u001b[39;49m\u001b[39m*\u001b[39;49mkwds)\n",
      "File \u001b[0;32m/usr/local/lib/python3.10/dist-packages/numpy/core/fromnumeric.py:43\u001b[0m, in \u001b[0;36m_wrapit\u001b[0;34m(obj, method, *args, **kwds)\u001b[0m\n\u001b[1;32m     41\u001b[0m \u001b[39mexcept\u001b[39;00m \u001b[39mAttributeError\u001b[39;00m:\n\u001b[1;32m     42\u001b[0m     wrap \u001b[39m=\u001b[39m \u001b[39mNone\u001b[39;00m\n\u001b[0;32m---> 43\u001b[0m result \u001b[39m=\u001b[39m \u001b[39mgetattr\u001b[39;49m(asarray(obj), method)(\u001b[39m*\u001b[39;49margs, \u001b[39m*\u001b[39;49m\u001b[39m*\u001b[39;49mkwds)\n\u001b[1;32m     44\u001b[0m \u001b[39mif\u001b[39;00m wrap:\n\u001b[1;32m     45\u001b[0m     \u001b[39mif\u001b[39;00m \u001b[39mnot\u001b[39;00m \u001b[39misinstance\u001b[39m(result, mu\u001b[39m.\u001b[39mndarray):\n",
      "\u001b[0;31mTypeError\u001b[0m: '<' not supported between instances of 'int' and 'Timestamp'"
     ]
    }
   ],
   "source": [
    "# Merge dataset with DBSCAN labels\n",
    "\n",
    "\n",
    "train_data_dbscan = train_data_dbscan_labels.drop(['Unnamed: 0'], axis=1)\n",
    "\n",
    "train_data_dbscan.rename(columns = {\"0\": \"DBSCAN_labels\"}, inplace = True)\n",
    "train_data_dbscan.head()"
   ]
  },
  {
   "cell_type": "code",
   "execution_count": null,
   "metadata": {},
   "outputs": [],
   "source": [
    "aggreagation={\n",
    "    'transaction_flag':'count',\n",
    "    'transaction_flag':'sum'\n",
    "}"
   ]
  },
  {
   "cell_type": "code",
   "execution_count": null,
   "metadata": {},
   "outputs": [],
   "source": [
    "dbscan_summary = df.groupby('DBSCAN_labels').agg(aggreagation).sort_values(by=[])\n",
    "dbscan_summary['count_pct'] = "
   ]
  },
  {
   "cell_type": "code",
   "execution_count": null,
   "metadata": {},
   "outputs": [],
   "source": [
    "train_data_dbscan_cluster96 = train_data_dbscan[train_data_dbscan['DBSCAN_labels'] == 96 ]\n",
    "len(train_data_dbscan_cluster96)"
   ]
  },
  {
   "cell_type": "code",
   "execution_count": null,
   "metadata": {},
   "outputs": [],
   "source": [
    "train_data_dbscan_cluster_min1 = train_data_dbscan[train_data_dbscan['DBSCAN_labels'] == -1 ]\n",
    "len(train_data_dbscan_cluster_min1)"
   ]
  }
 ],
 "metadata": {
  "kernelspec": {
   "display_name": "Python 3",
   "language": "python",
   "name": "python3"
  },
  "language_info": {
   "codemirror_mode": {
    "name": "ipython",
    "version": 3
   },
   "file_extension": ".py",
   "mimetype": "text/x-python",
   "name": "python",
   "nbconvert_exporter": "python",
   "pygments_lexer": "ipython3",
   "version": "3.10.6"
  },
  "orig_nbformat": 4
 },
 "nbformat": 4,
 "nbformat_minor": 2
}
