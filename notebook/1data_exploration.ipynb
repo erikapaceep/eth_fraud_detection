{
 "cells": [
  {
   "attachments": {},
   "cell_type": "markdown",
   "metadata": {},
   "source": [
    "# Collect Ethereum data - July 2017"
   ]
  },
  {
   "cell_type": "code",
   "execution_count": 11,
   "metadata": {},
   "outputs": [],
   "source": [
    "import pandas as pd\n",
    "import numpy as np\n",
    "import seaborn as sns\n",
    "import matplotlib.pyplot as plt\n",
    "from matplotlib import pyplot\n",
    "\n",
    "import sys\n",
    "sys.path.insert(0,'..')\n",
    "from utils.utils import create_date, drop_smart_contract, clean_up_row"
   ]
  },
  {
   "cell_type": "code",
   "execution_count": 12,
   "metadata": {},
   "outputs": [
    {
     "name": "stderr",
     "output_type": "stream",
     "text": [
      "/tmp/ipykernel_2988465/176957785.py:4: DtypeWarning: Columns (6) have mixed types. Specify dtype option on import or set low_memory=False.\n",
      "  eth_20170702 = pd.read_csv(\"https://s3.eu-central-2.wasabisys.com/ethblockchain/eth_trans_20170702.csv\")\n",
      "/tmp/ipykernel_2988465/176957785.py:9: DtypeWarning: Columns (11) have mixed types. Specify dtype option on import or set low_memory=False.\n",
      "  eth_20170707 = pd.read_csv(\"https://s3.eu-central-2.wasabisys.com/ethblockchain/eth_trans_20170707.csv\")\n",
      "/tmp/ipykernel_2988465/176957785.py:10: DtypeWarning: Columns (11) have mixed types. Specify dtype option on import or set low_memory=False.\n",
      "  eth_20170708 = pd.read_csv(\"https://s3.eu-central-2.wasabisys.com/ethblockchain/eth_trans_20170708.csv\")\n",
      "/tmp/ipykernel_2988465/176957785.py:11: DtypeWarning: Columns (11) have mixed types. Specify dtype option on import or set low_memory=False.\n",
      "  eth_20170709 = pd.read_csv(\"https://s3.eu-central-2.wasabisys.com/ethblockchain/eth_trans_20170709.csv\")\n",
      "/tmp/ipykernel_2988465/176957785.py:12: DtypeWarning: Columns (11) have mixed types. Specify dtype option on import or set low_memory=False.\n",
      "  eth_20170710 = pd.read_csv(\"https://s3.eu-central-2.wasabisys.com/ethblockchain/eth_trans_20170710.csv\")\n",
      "/tmp/ipykernel_2988465/176957785.py:16: DtypeWarning: Columns (11) have mixed types. Specify dtype option on import or set low_memory=False.\n",
      "  eth_20170714 = pd.read_csv(\"https://s3.eu-central-2.wasabisys.com/ethblockchain/eth_trans_20170714.csv\")\n",
      "/tmp/ipykernel_2988465/176957785.py:18: DtypeWarning: Columns (11) have mixed types. Specify dtype option on import or set low_memory=False.\n",
      "  eth_20170716 = pd.read_csv(\"https://s3.eu-central-2.wasabisys.com/ethblockchain/eth_trans_20170716.csv\")\n",
      "/tmp/ipykernel_2988465/176957785.py:19: DtypeWarning: Columns (11) have mixed types. Specify dtype option on import or set low_memory=False.\n",
      "  eth_20170717 = pd.read_csv(\"https://s3.eu-central-2.wasabisys.com/ethblockchain/eth_trans_20170717.csv\")\n",
      "/tmp/ipykernel_2988465/176957785.py:20: DtypeWarning: Columns (11) have mixed types. Specify dtype option on import or set low_memory=False.\n",
      "  eth_20170718 = pd.read_csv(\"https://s3.eu-central-2.wasabisys.com/ethblockchain/eth_trans_20170718.csv\")\n",
      "/tmp/ipykernel_2988465/176957785.py:21: DtypeWarning: Columns (11) have mixed types. Specify dtype option on import or set low_memory=False.\n",
      "  eth_20170719 = pd.read_csv(\"https://s3.eu-central-2.wasabisys.com/ethblockchain/eth_trans_20170719.csv\")\n",
      "/tmp/ipykernel_2988465/176957785.py:22: DtypeWarning: Columns (11) have mixed types. Specify dtype option on import or set low_memory=False.\n",
      "  eth_20170720 = pd.read_csv(\"https://s3.eu-central-2.wasabisys.com/ethblockchain/eth_trans_20170720.csv\")\n",
      "/tmp/ipykernel_2988465/176957785.py:23: DtypeWarning: Columns (11) have mixed types. Specify dtype option on import or set low_memory=False.\n",
      "  eth_20170721 = pd.read_csv(\"https://s3.eu-central-2.wasabisys.com/ethblockchain/eth_trans_20170721.csv\")\n",
      "/tmp/ipykernel_2988465/176957785.py:24: DtypeWarning: Columns (11) have mixed types. Specify dtype option on import or set low_memory=False.\n",
      "  eth_20170722 = pd.read_csv(\"https://s3.eu-central-2.wasabisys.com/ethblockchain/eth_trans_20170722.csv\")\n",
      "/tmp/ipykernel_2988465/176957785.py:25: DtypeWarning: Columns (11) have mixed types. Specify dtype option on import or set low_memory=False.\n",
      "  eth_20170723 = pd.read_csv(\"https://s3.eu-central-2.wasabisys.com/ethblockchain/eth_trans_20170723.csv\")\n",
      "/tmp/ipykernel_2988465/176957785.py:26: DtypeWarning: Columns (5,11) have mixed types. Specify dtype option on import or set low_memory=False.\n",
      "  eth_20170724 = pd.read_csv(\"https://s3.eu-central-2.wasabisys.com/ethblockchain/eth_trans_20170724.csv\")\n",
      "/tmp/ipykernel_2988465/176957785.py:29: DtypeWarning: Columns (11) have mixed types. Specify dtype option on import or set low_memory=False.\n",
      "  eth_20170727 = pd.read_csv(\"https://s3.eu-central-2.wasabisys.com/ethblockchain/eth_trans_20170727.csv\")\n",
      "/tmp/ipykernel_2988465/176957785.py:31: DtypeWarning: Columns (11) have mixed types. Specify dtype option on import or set low_memory=False.\n",
      "  eth_20170729 = pd.read_csv(\"https://s3.eu-central-2.wasabisys.com/ethblockchain/eth_trans_20170729.csv\")\n",
      "/tmp/ipykernel_2988465/176957785.py:32: DtypeWarning: Columns (11) have mixed types. Specify dtype option on import or set low_memory=False.\n",
      "  eth_20170730 = pd.read_csv(\"https://s3.eu-central-2.wasabisys.com/ethblockchain/eth_trans_20170730.csv\")\n",
      "/tmp/ipykernel_2988465/176957785.py:33: DtypeWarning: Columns (11) have mixed types. Specify dtype option on import or set low_memory=False.\n",
      "  eth_20170731 = pd.read_csv(\"https://s3.eu-central-2.wasabisys.com/ethblockchain/eth_trans_20170731.csv\")\n"
     ]
    }
   ],
   "source": [
    "# July 2017 data\n",
    "\n",
    "eth_20170701 = pd.read_csv(\"https://s3.eu-central-2.wasabisys.com/ethblockchain/eth_trans_20170701.csv\")\n",
    "eth_20170702 = pd.read_csv(\"https://s3.eu-central-2.wasabisys.com/ethblockchain/eth_trans_20170702.csv\")\n",
    "eth_20170703 = pd.read_csv(\"https://s3.eu-central-2.wasabisys.com/ethblockchain/eth_trans_20170703.csv\")\n",
    "eth_20170704 = pd.read_csv(\"https://s3.eu-central-2.wasabisys.com/ethblockchain/eth_trans_20170704.csv\")\n",
    "eth_20170705 = pd.read_csv(\"https://s3.eu-central-2.wasabisys.com/ethblockchain/eth_trans_20170705.csv\")\n",
    "eth_20170706 = pd.read_csv(\"https://s3.eu-central-2.wasabisys.com/ethblockchain/eth_trans_20170706.csv\")\n",
    "eth_20170707 = pd.read_csv(\"https://s3.eu-central-2.wasabisys.com/ethblockchain/eth_trans_20170707.csv\")\n",
    "eth_20170708 = pd.read_csv(\"https://s3.eu-central-2.wasabisys.com/ethblockchain/eth_trans_20170708.csv\")\n",
    "eth_20170709 = pd.read_csv(\"https://s3.eu-central-2.wasabisys.com/ethblockchain/eth_trans_20170709.csv\")\n",
    "eth_20170710 = pd.read_csv(\"https://s3.eu-central-2.wasabisys.com/ethblockchain/eth_trans_20170710.csv\")\n",
    "eth_20170711 = pd.read_csv(\"https://s3.eu-central-2.wasabisys.com/ethblockchain/eth_trans_20170711.csv\")\n",
    "eth_20170712 = pd.read_csv(\"https://s3.eu-central-2.wasabisys.com/ethblockchain/eth_trans_20170712.csv\")\n",
    "eth_20170713 = pd.read_csv(\"https://s3.eu-central-2.wasabisys.com/ethblockchain/eth_trans_20170713.csv\")\n",
    "eth_20170714 = pd.read_csv(\"https://s3.eu-central-2.wasabisys.com/ethblockchain/eth_trans_20170714.csv\")\n",
    "eth_20170715 = pd.read_csv(\"https://s3.eu-central-2.wasabisys.com/ethblockchain/eth_trans_20170715.csv\")\n",
    "eth_20170716 = pd.read_csv(\"https://s3.eu-central-2.wasabisys.com/ethblockchain/eth_trans_20170716.csv\")\n",
    "eth_20170717 = pd.read_csv(\"https://s3.eu-central-2.wasabisys.com/ethblockchain/eth_trans_20170717.csv\")\n",
    "eth_20170718 = pd.read_csv(\"https://s3.eu-central-2.wasabisys.com/ethblockchain/eth_trans_20170718.csv\")\n",
    "eth_20170719 = pd.read_csv(\"https://s3.eu-central-2.wasabisys.com/ethblockchain/eth_trans_20170719.csv\")\n",
    "eth_20170720 = pd.read_csv(\"https://s3.eu-central-2.wasabisys.com/ethblockchain/eth_trans_20170720.csv\")\n",
    "eth_20170721 = pd.read_csv(\"https://s3.eu-central-2.wasabisys.com/ethblockchain/eth_trans_20170721.csv\")\n",
    "eth_20170722 = pd.read_csv(\"https://s3.eu-central-2.wasabisys.com/ethblockchain/eth_trans_20170722.csv\")\n",
    "eth_20170723 = pd.read_csv(\"https://s3.eu-central-2.wasabisys.com/ethblockchain/eth_trans_20170723.csv\")\n",
    "eth_20170724 = pd.read_csv(\"https://s3.eu-central-2.wasabisys.com/ethblockchain/eth_trans_20170724.csv\")\n",
    "eth_20170725 = pd.read_csv(\"https://s3.eu-central-2.wasabisys.com/ethblockchain/eth_trans_20170725.csv\")\n",
    "eth_20170726 = pd.read_csv(\"https://s3.eu-central-2.wasabisys.com/ethblockchain/eth_trans_20170726.csv\")\n",
    "eth_20170727 = pd.read_csv(\"https://s3.eu-central-2.wasabisys.com/ethblockchain/eth_trans_20170727.csv\")\n",
    "eth_20170728 = pd.read_csv(\"https://s3.eu-central-2.wasabisys.com/ethblockchain/eth_trans_20170728.csv\")\n",
    "eth_20170729 = pd.read_csv(\"https://s3.eu-central-2.wasabisys.com/ethblockchain/eth_trans_20170729.csv\")\n",
    "eth_20170730 = pd.read_csv(\"https://s3.eu-central-2.wasabisys.com/ethblockchain/eth_trans_20170730.csv\")\n",
    "eth_20170731 = pd.read_csv(\"https://s3.eu-central-2.wasabisys.com/ethblockchain/eth_trans_20170731.csv\")"
   ]
  },
  {
   "cell_type": "code",
   "execution_count": 67,
   "metadata": {},
   "outputs": [],
   "source": [
    "data = pd.concat([eth_20170701,eth_20170702,eth_20170703,\n",
    "                        eth_20170704,eth_20170705,eth_20170706,\n",
    "                        eth_20170707,eth_20170708, eth_20170709, \n",
    "                        eth_20170710,eth_20170711,eth_20170712, eth_20170713,\n",
    "                        eth_20170714,eth_20170715,eth_20170716, eth_20170717,\n",
    "                        eth_20170718,eth_20170719,eth_20170720, eth_20170721,\n",
    "                        eth_20170722,eth_20170723,\n",
    "                        eth_20170724, \n",
    "                        eth_20170725,\n",
    "                        eth_20170726,eth_20170727,eth_20170728, \n",
    "                        eth_20170729,\n",
    "                        eth_20170730, eth_20170731])"
   ]
  },
  {
   "attachments": {},
   "cell_type": "markdown",
   "metadata": {},
   "source": [
    "remove invalid transactions (errors)"
   ]
  },
  {
   "cell_type": "code",
   "execution_count": 68,
   "metadata": {},
   "outputs": [],
   "source": [
    "data = clean_up_row(data)"
   ]
  },
  {
   "cell_type": "code",
   "execution_count": 50,
   "metadata": {},
   "outputs": [
    {
     "name": "stdout",
     "output_type": "stream",
     "text": [
      "0    2017-07-01 09:17:36 UTC\n",
      "Name: block_timestamp, dtype: object\n",
      "250089    2017-07-31 09:15:31 UTC\n",
      "Name: block_timestamp, dtype: object\n",
      "7858549\n"
     ]
    }
   ],
   "source": [
    "print(data['block_timestamp'].head(1))\n",
    "print(data['block_timestamp'].tail(1))\n",
    "print(len(data))"
   ]
  },
  {
   "attachments": {},
   "cell_type": "markdown",
   "metadata": {},
   "source": [
    "drop smart contracts"
   ]
  },
  {
   "cell_type": "code",
   "execution_count": 69,
   "metadata": {},
   "outputs": [
    {
     "name": "stdout",
     "output_type": "stream",
     "text": [
      "7734752\n"
     ]
    }
   ],
   "source": [
    "# Drop the smart contract (receipt_contract_address not null correspond to smart contracts)\n",
    "data_no_smart = drop_smart_contract(data)\n",
    "print(len(data_no_smart))"
   ]
  },
  {
   "cell_type": "code",
   "execution_count": 52,
   "metadata": {},
   "outputs": [
    {
     "name": "stdout",
     "output_type": "stream",
     "text": [
      "Smart contracts in July 2017: 123797\n"
     ]
    }
   ],
   "source": [
    "print('Smart contracts in July 2017:', len(data)-len(data_no_smart))"
   ]
  },
  {
   "attachments": {},
   "cell_type": "markdown",
   "metadata": {},
   "source": [
    "drop duplicated transactions"
   ]
  },
  {
   "cell_type": "code",
   "execution_count": 53,
   "metadata": {},
   "outputs": [
    {
     "name": "stdout",
     "output_type": "stream",
     "text": [
      "7460830\n"
     ]
    }
   ],
   "source": [
    "# Remove duplicated rows\n",
    "data_nodup = data_no_smart.drop_duplicates()\n",
    "print(len(data_nodup))"
   ]
  },
  {
   "cell_type": "code",
   "execution_count": 54,
   "metadata": {},
   "outputs": [
    {
     "name": "stderr",
     "output_type": "stream",
     "text": [
      "/home/erika/eth_fraud_detection/utils.py:6: SettingWithCopyWarning: \n",
      "A value is trying to be set on a copy of a slice from a DataFrame.\n",
      "Try using .loc[row_indexer,col_indexer] = value instead\n",
      "\n",
      "See the caveats in the documentation: https://pandas.pydata.org/pandas-docs/stable/user_guide/indexing.html#returning-a-view-versus-a-copy\n",
      "  data_nodup['block_timestamp_str'] = data_nodup['block_timestamp'].astype(str)\n",
      "/home/erika/eth_fraud_detection/utils.py:7: SettingWithCopyWarning: \n",
      "A value is trying to be set on a copy of a slice from a DataFrame.\n",
      "Try using .loc[row_indexer,col_indexer] = value instead\n",
      "\n",
      "See the caveats in the documentation: https://pandas.pydata.org/pandas-docs/stable/user_guide/indexing.html#returning-a-view-versus-a-copy\n",
      "  data_nodup['date'] = data_nodup['block_timestamp_str'].str.slice(start=0,stop=10)\n",
      "/home/erika/eth_fraud_detection/utils.py:9: SettingWithCopyWarning: \n",
      "A value is trying to be set on a copy of a slice from a DataFrame.\n",
      "Try using .loc[row_indexer,col_indexer] = value instead\n",
      "\n",
      "See the caveats in the documentation: https://pandas.pydata.org/pandas-docs/stable/user_guide/indexing.html#returning-a-view-versus-a-copy\n",
      "  data_nodup['dates'] = pd.to_datetime(data_nodup['date'], format='%Y-%m-%d')\n",
      "/home/erika/eth_fraud_detection/utils.py:11: SettingWithCopyWarning: \n",
      "A value is trying to be set on a copy of a slice from a DataFrame.\n",
      "Try using .loc[row_indexer,col_indexer] = value instead\n",
      "\n",
      "See the caveats in the documentation: https://pandas.pydata.org/pandas-docs/stable/user_guide/indexing.html#returning-a-view-versus-a-copy\n",
      "  data_nodup['year'] = data_nodup['block_timestamp_str'].str.slice(start=0,stop=4)\n",
      "/home/erika/eth_fraud_detection/utils.py:14: SettingWithCopyWarning: \n",
      "A value is trying to be set on a copy of a slice from a DataFrame.\n",
      "Try using .loc[row_indexer,col_indexer] = value instead\n",
      "\n",
      "See the caveats in the documentation: https://pandas.pydata.org/pandas-docs/stable/user_guide/indexing.html#returning-a-view-versus-a-copy\n",
      "  data_nodup['month'] = data_nodup['block_timestamp_str'].str.slice(start=5,stop=7)\n",
      "/home/erika/eth_fraud_detection/utils.py:15: SettingWithCopyWarning: \n",
      "A value is trying to be set on a copy of a slice from a DataFrame.\n",
      "Try using .loc[row_indexer,col_indexer] = value instead\n",
      "\n",
      "See the caveats in the documentation: https://pandas.pydata.org/pandas-docs/stable/user_guide/indexing.html#returning-a-view-versus-a-copy\n",
      "  data_nodup['month'] = pd.to_numeric(data_nodup['month'])\n",
      "/home/erika/eth_fraud_detection/utils.py:17: SettingWithCopyWarning: \n",
      "A value is trying to be set on a copy of a slice from a DataFrame.\n",
      "Try using .loc[row_indexer,col_indexer] = value instead\n",
      "\n",
      "See the caveats in the documentation: https://pandas.pydata.org/pandas-docs/stable/user_guide/indexing.html#returning-a-view-versus-a-copy\n",
      "  data_nodup['day'] = data_nodup['block_timestamp_str'].str.slice(start=8,stop=10)\n",
      "/home/erika/eth_fraud_detection/utils.py:18: SettingWithCopyWarning: \n",
      "A value is trying to be set on a copy of a slice from a DataFrame.\n",
      "Try using .loc[row_indexer,col_indexer] = value instead\n",
      "\n",
      "See the caveats in the documentation: https://pandas.pydata.org/pandas-docs/stable/user_guide/indexing.html#returning-a-view-versus-a-copy\n",
      "  data_nodup['day'] = pd.to_numeric(data_nodup['day'])\n",
      "/home/erika/eth_fraud_detection/utils.py:20: SettingWithCopyWarning: \n",
      "A value is trying to be set on a copy of a slice from a DataFrame\n",
      "\n",
      "See the caveats in the documentation: https://pandas.pydata.org/pandas-docs/stable/user_guide/indexing.html#returning-a-view-versus-a-copy\n",
      "  data_nodup.sort_values(by=['dates'],ascending=False, inplace=True)\n"
     ]
    }
   ],
   "source": [
    "data_nodup = create_date(data_nodup)"
   ]
  },
  {
   "cell_type": "code",
   "execution_count": 9,
   "metadata": {},
   "outputs": [
    {
     "data": {
      "text/plain": [
       "250089   2017-07-31\n",
       "84335    2017-07-31\n",
       "84363    2017-07-31\n",
       "84362    2017-07-31\n",
       "84361    2017-07-31\n",
       "Name: dates, dtype: datetime64[ns]"
      ]
     },
     "execution_count": 9,
     "metadata": {},
     "output_type": "execute_result"
    }
   ],
   "source": [
    "data_nodup['dates'].head()"
   ]
  },
  {
   "cell_type": "code",
   "execution_count": 10,
   "metadata": {},
   "outputs": [],
   "source": [
    "# count transactions per date and compare to 2016 and 2015"
   ]
  },
  {
   "cell_type": "code",
   "execution_count": 11,
   "metadata": {},
   "outputs": [
    {
     "data": {
      "text/html": [
       "<div>\n",
       "<style scoped>\n",
       "    .dataframe tbody tr th:only-of-type {\n",
       "        vertical-align: middle;\n",
       "    }\n",
       "\n",
       "    .dataframe tbody tr th {\n",
       "        vertical-align: top;\n",
       "    }\n",
       "\n",
       "    .dataframe thead th {\n",
       "        text-align: right;\n",
       "    }\n",
       "</style>\n",
       "<table border=\"1\" class=\"dataframe\">\n",
       "  <thead>\n",
       "    <tr style=\"text-align: right;\">\n",
       "      <th></th>\n",
       "      <th>dates</th>\n",
       "      <th>count</th>\n",
       "    </tr>\n",
       "  </thead>\n",
       "  <tbody>\n",
       "    <tr>\n",
       "      <th>0</th>\n",
       "      <td>2017-07-01</td>\n",
       "      <td>236483</td>\n",
       "    </tr>\n",
       "    <tr>\n",
       "      <th>1</th>\n",
       "      <td>2017-07-02</td>\n",
       "      <td>244380</td>\n",
       "    </tr>\n",
       "    <tr>\n",
       "      <th>2</th>\n",
       "      <td>2017-07-03</td>\n",
       "      <td>296839</td>\n",
       "    </tr>\n",
       "    <tr>\n",
       "      <th>3</th>\n",
       "      <td>2017-07-04</td>\n",
       "      <td>273922</td>\n",
       "    </tr>\n",
       "    <tr>\n",
       "      <th>4</th>\n",
       "      <td>2017-07-05</td>\n",
       "      <td>261196</td>\n",
       "    </tr>\n",
       "    <tr>\n",
       "      <th>5</th>\n",
       "      <td>2017-07-07</td>\n",
       "      <td>292094</td>\n",
       "    </tr>\n",
       "    <tr>\n",
       "      <th>6</th>\n",
       "      <td>2017-07-08</td>\n",
       "      <td>238356</td>\n",
       "    </tr>\n",
       "    <tr>\n",
       "      <th>7</th>\n",
       "      <td>2017-07-09</td>\n",
       "      <td>224332</td>\n",
       "    </tr>\n",
       "    <tr>\n",
       "      <th>8</th>\n",
       "      <td>2017-07-10</td>\n",
       "      <td>302076</td>\n",
       "    </tr>\n",
       "    <tr>\n",
       "      <th>9</th>\n",
       "      <td>2017-07-11</td>\n",
       "      <td>290938</td>\n",
       "    </tr>\n",
       "    <tr>\n",
       "      <th>10</th>\n",
       "      <td>2017-07-12</td>\n",
       "      <td>281625</td>\n",
       "    </tr>\n",
       "    <tr>\n",
       "      <th>11</th>\n",
       "      <td>2017-07-13</td>\n",
       "      <td>257024</td>\n",
       "    </tr>\n",
       "    <tr>\n",
       "      <th>12</th>\n",
       "      <td>2017-07-14</td>\n",
       "      <td>246577</td>\n",
       "    </tr>\n",
       "    <tr>\n",
       "      <th>13</th>\n",
       "      <td>2017-07-15</td>\n",
       "      <td>229471</td>\n",
       "    </tr>\n",
       "    <tr>\n",
       "      <th>14</th>\n",
       "      <td>2017-07-16</td>\n",
       "      <td>246433</td>\n",
       "    </tr>\n",
       "    <tr>\n",
       "      <th>15</th>\n",
       "      <td>2017-07-17</td>\n",
       "      <td>245852</td>\n",
       "    </tr>\n",
       "    <tr>\n",
       "      <th>16</th>\n",
       "      <td>2017-07-18</td>\n",
       "      <td>259474</td>\n",
       "    </tr>\n",
       "    <tr>\n",
       "      <th>17</th>\n",
       "      <td>2017-07-19</td>\n",
       "      <td>266605</td>\n",
       "    </tr>\n",
       "    <tr>\n",
       "      <th>18</th>\n",
       "      <td>2017-07-20</td>\n",
       "      <td>247332</td>\n",
       "    </tr>\n",
       "    <tr>\n",
       "      <th>19</th>\n",
       "      <td>2017-07-21</td>\n",
       "      <td>230096</td>\n",
       "    </tr>\n",
       "    <tr>\n",
       "      <th>20</th>\n",
       "      <td>2017-07-22</td>\n",
       "      <td>202974</td>\n",
       "    </tr>\n",
       "    <tr>\n",
       "      <th>21</th>\n",
       "      <td>2017-07-23</td>\n",
       "      <td>257867</td>\n",
       "    </tr>\n",
       "    <tr>\n",
       "      <th>22</th>\n",
       "      <td>2017-07-24</td>\n",
       "      <td>260735</td>\n",
       "    </tr>\n",
       "    <tr>\n",
       "      <th>23</th>\n",
       "      <td>2017-07-25</td>\n",
       "      <td>232463</td>\n",
       "    </tr>\n",
       "    <tr>\n",
       "      <th>24</th>\n",
       "      <td>2017-07-26</td>\n",
       "      <td>219777</td>\n",
       "    </tr>\n",
       "    <tr>\n",
       "      <th>25</th>\n",
       "      <td>2017-07-27</td>\n",
       "      <td>222611</td>\n",
       "    </tr>\n",
       "    <tr>\n",
       "      <th>26</th>\n",
       "      <td>2017-07-28</td>\n",
       "      <td>243964</td>\n",
       "    </tr>\n",
       "    <tr>\n",
       "      <th>27</th>\n",
       "      <td>2017-07-29</td>\n",
       "      <td>196712</td>\n",
       "    </tr>\n",
       "    <tr>\n",
       "      <th>28</th>\n",
       "      <td>2017-07-30</td>\n",
       "      <td>204641</td>\n",
       "    </tr>\n",
       "    <tr>\n",
       "      <th>29</th>\n",
       "      <td>2017-07-31</td>\n",
       "      <td>247975</td>\n",
       "    </tr>\n",
       "  </tbody>\n",
       "</table>\n",
       "</div>"
      ],
      "text/plain": [
       "        dates   count\n",
       "0  2017-07-01  236483\n",
       "1  2017-07-02  244380\n",
       "2  2017-07-03  296839\n",
       "3  2017-07-04  273922\n",
       "4  2017-07-05  261196\n",
       "5  2017-07-07  292094\n",
       "6  2017-07-08  238356\n",
       "7  2017-07-09  224332\n",
       "8  2017-07-10  302076\n",
       "9  2017-07-11  290938\n",
       "10 2017-07-12  281625\n",
       "11 2017-07-13  257024\n",
       "12 2017-07-14  246577\n",
       "13 2017-07-15  229471\n",
       "14 2017-07-16  246433\n",
       "15 2017-07-17  245852\n",
       "16 2017-07-18  259474\n",
       "17 2017-07-19  266605\n",
       "18 2017-07-20  247332\n",
       "19 2017-07-21  230096\n",
       "20 2017-07-22  202974\n",
       "21 2017-07-23  257867\n",
       "22 2017-07-24  260735\n",
       "23 2017-07-25  232463\n",
       "24 2017-07-26  219777\n",
       "25 2017-07-27  222611\n",
       "26 2017-07-28  243964\n",
       "27 2017-07-29  196712\n",
       "28 2017-07-30  204641\n",
       "29 2017-07-31  247975"
      ]
     },
     "execution_count": 11,
     "metadata": {},
     "output_type": "execute_result"
    }
   ],
   "source": [
    "number_trans_day = data_nodup['dates'].value_counts().sort_index()\n",
    "#number_trans_day.to_csv(\"number_trans_day.csv\")\n",
    "number_trans_day_df = pd.DataFrame(number_trans_day)\n",
    "number_trans_day_df = number_trans_day_df.reset_index()\n",
    "number_trans_day_df"
   ]
  },
  {
   "attachments": {},
   "cell_type": "markdown",
   "metadata": {},
   "source": [
    "# transaction distribution in July 2017"
   ]
  },
  {
   "cell_type": "code",
   "execution_count": 12,
   "metadata": {},
   "outputs": [
    {
     "data": {
      "text/plain": [
       "30"
      ]
     },
     "execution_count": 12,
     "metadata": {},
     "output_type": "execute_result"
    }
   ],
   "source": [
    "len(number_trans_day_df)"
   ]
  },
  {
   "cell_type": "code",
   "execution_count": 13,
   "metadata": {},
   "outputs": [
    {
     "data": {
      "image/png": "[encoded data removed]",
      "text/plain": [
       "<Figure size 640x480 with 1 Axes>"
      ]
     },
     "metadata": {},
     "output_type": "display_data"
    }
   ],
   "source": [
    "plt.xticks(rotation=90)\n",
    "plt.hist(data_nodup['dates'], bins=len(number_trans_day_df))\n",
    "plt.title(\"Ethereum transaction distribution - July 2017\")\n",
    "plt.show()\n"
   ]
  },
  {
   "attachments": {},
   "cell_type": "markdown",
   "metadata": {},
   "source": [
    "# Assess the transaction per day in Aug - Sept 2015"
   ]
  },
  {
   "attachments": {},
   "cell_type": "markdown",
   "metadata": {},
   "source": [
    "Transaction in 2015, the first transaction of 401k"
   ]
  },
  {
   "cell_type": "code",
   "execution_count": 14,
   "metadata": {},
   "outputs": [],
   "source": [
    "eth_2015 = pd.read_csv(\"https://s3.eu-central-2.wasabisys.com/ethblockchain/eth_trans_2015_first400k.csv\")"
   ]
  },
  {
   "cell_type": "code",
   "execution_count": 15,
   "metadata": {},
   "outputs": [],
   "source": [
    "# Drop the smart contract (receipt_contract_address not null correspond to smart contracts)\n",
    "eth_2015_smart = drop_smart_contract(eth_2015)"
   ]
  },
  {
   "cell_type": "code",
   "execution_count": 16,
   "metadata": {},
   "outputs": [
    {
     "name": "stdout",
     "output_type": "stream",
     "text": [
      "397301\n"
     ]
    }
   ],
   "source": [
    "# Remove duplicated rows\n",
    "eth_2015_nodup = eth_2015_smart.drop_duplicates()\n",
    "eth_2015_nodup_ = create_date(eth_2015_nodup)\n",
    "print(len(eth_2015_nodup_))"
   ]
  },
  {
   "attachments": {},
   "cell_type": "markdown",
   "metadata": {},
   "source": [
    "Since the observation are not entirely complete, we select the first complete available information (from Aug 2015 till 21 Sept 2015)"
   ]
  },
  {
   "cell_type": "code",
   "execution_count": 17,
   "metadata": {},
   "outputs": [],
   "source": [
    "eth_aug_spt_2015_nodup = eth_2015_nodup_.loc[eth_2015_nodup_['dates'] <= '2015-09-21']"
   ]
  },
  {
   "attachments": {},
   "cell_type": "markdown",
   "metadata": {},
   "source": [
    "# Assess the transaction per day in July 2016"
   ]
  },
  {
   "cell_type": "code",
   "execution_count": 18,
   "metadata": {},
   "outputs": [],
   "source": [
    "import pandas as pd"
   ]
  },
  {
   "cell_type": "code",
   "execution_count": 19,
   "metadata": {},
   "outputs": [],
   "source": [
    "# 2016\n",
    "eth_20160701 = pd.read_csv(\"https://s3.eu-central-2.wasabisys.com/ethblockchain/eth_trans_20160701_20160704.csv\")\n",
    "eth_20160705 = pd.read_csv(\"https://s3.eu-central-2.wasabisys.com/ethblockchain/eth_trans_20160704_20160712.csv\")\n",
    "eth_20160712 = pd.read_csv(\"https://s3.eu-central-2.wasabisys.com/ethblockchain/eth_trans_20160712_20160719.csv\")\n",
    "eth_20160720 = pd.read_csv(\"https://s3.eu-central-2.wasabisys.com/ethblockchain/eth_trans_20160720_20160725.csv\")\n",
    "eth_20160724 = pd.read_csv(\"https://s3.eu-central-2.wasabisys.com/ethblockchain/eth_trans_20160731_20160724.csv\", on_bad_lines='skip')\n",
    "\n",
    "eth_2016 = pd.concat([eth_20160701,eth_20160705,eth_20160712,eth_20160720,eth_20160724])"
   ]
  },
  {
   "cell_type": "code",
   "execution_count": 20,
   "metadata": {},
   "outputs": [],
   "source": [
    "# Drop the smart contract (receipt_contract_address not null correspond to smart contracts)\n",
    "eth_2016_smart = drop_smart_contract(eth_2016)"
   ]
  },
  {
   "cell_type": "code",
   "execution_count": 21,
   "metadata": {},
   "outputs": [
    {
     "data": {
      "text/plain": [
       "1577604"
      ]
     },
     "execution_count": 21,
     "metadata": {},
     "output_type": "execute_result"
    }
   ],
   "source": [
    "len(eth_2016_smart)"
   ]
  },
  {
   "cell_type": "code",
   "execution_count": 22,
   "metadata": {},
   "outputs": [
    {
     "name": "stderr",
     "output_type": "stream",
     "text": [
      "/home/erika/eth_fraud_detection/utils.py:6: SettingWithCopyWarning: \n",
      "A value is trying to be set on a copy of a slice from a DataFrame.\n",
      "Try using .loc[row_indexer,col_indexer] = value instead\n",
      "\n",
      "See the caveats in the documentation: https://pandas.pydata.org/pandas-docs/stable/user_guide/indexing.html#returning-a-view-versus-a-copy\n",
      "  data_nodup['block_timestamp_str'] = data_nodup['block_timestamp'].astype(str)\n",
      "/home/erika/eth_fraud_detection/utils.py:7: SettingWithCopyWarning: \n",
      "A value is trying to be set on a copy of a slice from a DataFrame.\n",
      "Try using .loc[row_indexer,col_indexer] = value instead\n",
      "\n",
      "See the caveats in the documentation: https://pandas.pydata.org/pandas-docs/stable/user_guide/indexing.html#returning-a-view-versus-a-copy\n",
      "  data_nodup['date'] = data_nodup['block_timestamp_str'].str.slice(start=0,stop=10)\n",
      "/home/erika/eth_fraud_detection/utils.py:9: SettingWithCopyWarning: \n",
      "A value is trying to be set on a copy of a slice from a DataFrame.\n",
      "Try using .loc[row_indexer,col_indexer] = value instead\n",
      "\n",
      "See the caveats in the documentation: https://pandas.pydata.org/pandas-docs/stable/user_guide/indexing.html#returning-a-view-versus-a-copy\n",
      "  data_nodup['dates'] = pd.to_datetime(data_nodup['date'], format='%Y-%m-%d')\n",
      "/home/erika/eth_fraud_detection/utils.py:11: SettingWithCopyWarning: \n",
      "A value is trying to be set on a copy of a slice from a DataFrame.\n",
      "Try using .loc[row_indexer,col_indexer] = value instead\n",
      "\n",
      "See the caveats in the documentation: https://pandas.pydata.org/pandas-docs/stable/user_guide/indexing.html#returning-a-view-versus-a-copy\n",
      "  data_nodup['year'] = data_nodup['block_timestamp_str'].str.slice(start=0,stop=4)\n",
      "/home/erika/eth_fraud_detection/utils.py:14: SettingWithCopyWarning: \n",
      "A value is trying to be set on a copy of a slice from a DataFrame.\n",
      "Try using .loc[row_indexer,col_indexer] = value instead\n",
      "\n",
      "See the caveats in the documentation: https://pandas.pydata.org/pandas-docs/stable/user_guide/indexing.html#returning-a-view-versus-a-copy\n",
      "  data_nodup['month'] = data_nodup['block_timestamp_str'].str.slice(start=5,stop=7)\n",
      "/home/erika/eth_fraud_detection/utils.py:15: SettingWithCopyWarning: \n",
      "A value is trying to be set on a copy of a slice from a DataFrame.\n",
      "Try using .loc[row_indexer,col_indexer] = value instead\n",
      "\n",
      "See the caveats in the documentation: https://pandas.pydata.org/pandas-docs/stable/user_guide/indexing.html#returning-a-view-versus-a-copy\n",
      "  data_nodup['month'] = pd.to_numeric(data_nodup['month'])\n",
      "/home/erika/eth_fraud_detection/utils.py:17: SettingWithCopyWarning: \n",
      "A value is trying to be set on a copy of a slice from a DataFrame.\n",
      "Try using .loc[row_indexer,col_indexer] = value instead\n",
      "\n",
      "See the caveats in the documentation: https://pandas.pydata.org/pandas-docs/stable/user_guide/indexing.html#returning-a-view-versus-a-copy\n",
      "  data_nodup['day'] = data_nodup['block_timestamp_str'].str.slice(start=8,stop=10)\n",
      "/home/erika/eth_fraud_detection/utils.py:18: SettingWithCopyWarning: \n",
      "A value is trying to be set on a copy of a slice from a DataFrame.\n",
      "Try using .loc[row_indexer,col_indexer] = value instead\n",
      "\n",
      "See the caveats in the documentation: https://pandas.pydata.org/pandas-docs/stable/user_guide/indexing.html#returning-a-view-versus-a-copy\n",
      "  data_nodup['day'] = pd.to_numeric(data_nodup['day'])\n"
     ]
    },
    {
     "name": "stdout",
     "output_type": "stream",
     "text": [
      "1397767\n"
     ]
    },
    {
     "name": "stderr",
     "output_type": "stream",
     "text": [
      "/home/erika/eth_fraud_detection/utils.py:20: SettingWithCopyWarning: \n",
      "A value is trying to be set on a copy of a slice from a DataFrame\n",
      "\n",
      "See the caveats in the documentation: https://pandas.pydata.org/pandas-docs/stable/user_guide/indexing.html#returning-a-view-versus-a-copy\n",
      "  data_nodup.sort_values(by=['dates'],ascending=False, inplace=True)\n"
     ]
    }
   ],
   "source": [
    "# Remove duplicated rows\n",
    "eth_2016_nodup = eth_2016_smart.drop_duplicates()\n",
    "eth_2016_nodup = create_date(eth_2016_nodup)\n",
    "print(len(eth_2016_nodup))"
   ]
  },
  {
   "cell_type": "code",
   "execution_count": 23,
   "metadata": {},
   "outputs": [
    {
     "name": "stdout",
     "output_type": "stream",
     "text": [
      "1397767\n"
     ]
    }
   ],
   "source": [
    "print(len(eth_2016_nodup))"
   ]
  },
  {
   "attachments": {},
   "cell_type": "markdown",
   "metadata": {},
   "source": [
    "## Compare number of transactions 2017 - 2016 - 2015"
   ]
  },
  {
   "cell_type": "code",
   "execution_count": 24,
   "metadata": {},
   "outputs": [
    {
     "name": "stdout",
     "output_type": "stream",
     "text": [
      "Recepit status Jul 2017: Series([], Name: count, dtype: int64)\n",
      "\n",
      "Recepit status Jul 2016: Series([], Name: count, dtype: int64)\n",
      "\n",
      "Recepit status Aug - Sept 2015: Series([], Name: count, dtype: int64)\n",
      "\n"
     ]
    }
   ],
   "source": [
    "# Check the freq of the recepit status: which is a binary var 1 (success) 0 (failure)\n",
    "print('Recepit status Jul 2017:',data['receipt_status'].value_counts())\n",
    "print()\n",
    "\n",
    "print('Recepit status Jul 2016:',eth_2016_nodup['receipt_status'].value_counts())\n",
    "print()\n",
    "\n",
    "print('Recepit status Aug - Sept 2015:',eth_aug_spt_2015_nodup['receipt_status'].value_counts())\n",
    "print()"
   ]
  },
  {
   "attachments": {},
   "cell_type": "markdown",
   "metadata": {},
   "source": [
    "## Compare number of blocks"
   ]
  },
  {
   "cell_type": "code",
   "execution_count": 25,
   "metadata": {},
   "outputs": [
    {
     "name": "stdout",
     "output_type": "stream",
     "text": [
      "Check how many block Number 2017: 139578\n",
      "Check how many block Number 2016: 119470\n",
      "Check how many block Number 2015: 61797\n"
     ]
    }
   ],
   "source": [
    "unique_block_2017 = pd.unique(data['block_number'])\n",
    "unique_block_2016 = pd.unique(eth_2016_nodup['block_number'])\n",
    "unique_block_2015 = pd.unique(eth_aug_spt_2015_nodup['block_number'])\n",
    "\n",
    "print('Check how many block Number 2017:',len(unique_block_2017))\n",
    "print('Check how many block Number 2016:',len(unique_block_2016))\n",
    "print('Check how many block Number 2015:',len(unique_block_2015))"
   ]
  },
  {
   "attachments": {},
   "cell_type": "markdown",
   "metadata": {},
   "source": [
    "# Number of transaction in blocks"
   ]
  },
  {
   "attachments": {},
   "cell_type": "markdown",
   "metadata": {},
   "source": [
    "Before the London Upgrade (August 2021), Ethereum had fixed-sized blocks. \n",
    "In times of high network demand, these blocks operated at full capacity. As a result, users often had to wait for demand to reduce to get included in a block, which led to a poor user experience."
   ]
  },
  {
   "cell_type": "code",
   "execution_count": 26,
   "metadata": {},
   "outputs": [
    {
     "name": "stdout",
     "output_type": "stream",
     "text": [
      "Count how many transaction per block Number:\n"
     ]
    },
    {
     "data": {
      "image/png": "[encoded data removed]",
      "text/plain": [
       "<Figure size 640x480 with 1 Axes>"
      ]
     },
     "metadata": {},
     "output_type": "display_data"
    }
   ],
   "source": [
    "transaction_in_block_2017 = data.groupby(['block_number']).value_counts()\n",
    "transaction_in_block_2016 = eth_2016_nodup.groupby(['block_number']).value_counts()\n",
    "transaction_in_block_2015 = eth_aug_spt_2015_nodup.groupby(['block_number']).value_counts()\n",
    "\n",
    "print('Count how many transaction per block Number:')\n",
    "\n",
    "pyplot.hist(transaction_in_block_2017, label='2017')\n",
    "pyplot.hist(transaction_in_block_2016, label='2016')\n",
    "pyplot.hist(transaction_in_block_2015, label='2015')\n",
    "pyplot.legend(loc='upper right')\n",
    "pyplot.show()\n"
   ]
  },
  {
   "attachments": {},
   "cell_type": "markdown",
   "metadata": {},
   "source": [
    "### Check if there are different transaction types\n",
    "\n",
    "**Transaction type is not available in 2017-2016-2015**\n",
    "\n",
    "print('Transaction type 2017:')\n",
    "print(data['transaction_type'].value_counts())"
   ]
  },
  {
   "cell_type": "code",
   "execution_count": 27,
   "metadata": {},
   "outputs": [
    {
     "data": {
      "text/plain": [
       "380538   NaN\n",
       "380133   NaN\n",
       "380111   NaN\n",
       "380112   NaN\n",
       "380113   NaN\n",
       "          ..\n",
       "262217   NaN\n",
       "262218   NaN\n",
       "262219   NaN\n",
       "262220   NaN\n",
       "262028   NaN\n",
       "Name: transaction_type, Length: 185864, dtype: float64"
      ]
     },
     "execution_count": 27,
     "metadata": {},
     "output_type": "execute_result"
    }
   ],
   "source": [
    "eth_aug_spt_2015_nodup['transaction_type']"
   ]
  },
  {
   "cell_type": "code",
   "execution_count": 28,
   "metadata": {},
   "outputs": [
    {
     "name": "stdout",
     "output_type": "stream",
     "text": [
      "Transaction type 2017:\n",
      "Series([], Name: count, dtype: int64)\n"
     ]
    }
   ],
   "source": [
    "print('Transaction type 2017:')\n",
    "print(data['transaction_type'].value_counts())"
   ]
  },
  {
   "cell_type": "code",
   "execution_count": 29,
   "metadata": {},
   "outputs": [
    {
     "name": "stdout",
     "output_type": "stream",
     "text": [
      "Transaction type 2016:\n",
      "Series([], Name: count, dtype: int64)\n"
     ]
    }
   ],
   "source": [
    "print('Transaction type 2016:')\n",
    "print(eth_2016_nodup['transaction_type'].value_counts())"
   ]
  },
  {
   "cell_type": "code",
   "execution_count": 30,
   "metadata": {},
   "outputs": [
    {
     "name": "stdout",
     "output_type": "stream",
     "text": [
      "Transaction type 2015:\n",
      "Series([], Name: count, dtype: int64)\n"
     ]
    }
   ],
   "source": [
    "print('Transaction type 2015:')\n",
    "print(eth_aug_spt_2015_nodup['transaction_type'].value_counts())"
   ]
  },
  {
   "attachments": {},
   "cell_type": "markdown",
   "metadata": {},
   "source": [
    "## Address "
   ]
  },
  {
   "cell_type": "code",
   "execution_count": 31,
   "metadata": {},
   "outputs": [
    {
     "name": "stdout",
     "output_type": "stream",
     "text": [
      "in Jul 2017 the number of address from is: 1115283 which means on average : 7.046242971514853  transctions per address\n",
      "in Jul 2017 the number of address to is: 1250506 which means on average : 6.2843001153133216  transctions per address\n"
     ]
    }
   ],
   "source": [
    "# count number of 'address to' in July 2017\n",
    "from_address = pd.DataFrame(pd.unique(data['from_address']), columns=['from_address_count'])\n",
    "\n",
    "print('in Jul 2017 the number of address from is:',len(from_address), 'which means on average :',len(data['from_address'])/len(from_address),' transctions per address')\n",
    "# count number of address from\n",
    "to_address = pd.unique(data['to_address'])\n",
    "print('in Jul 2017 the number of address to is:',len(to_address), 'which means on average :',len(data['to_address'])/len(to_address),' transctions per address')"
   ]
  },
  {
   "cell_type": "code",
   "execution_count": 32,
   "metadata": {},
   "outputs": [
    {
     "name": "stdout",
     "output_type": "stream",
     "text": [
      "in Jul 2016 the number of address from is: 91361 which means on average : 15.299383763312573  transctions per address\n",
      "in Jul 2016 the number of address to is: 92850 which means on average : 15.05403338718363  transctions per address\n"
     ]
    }
   ],
   "source": [
    "# count number of 'address to' in July 2016\n",
    "from_address = pd.DataFrame(pd.unique(eth_2016_nodup['from_address']), columns=['from_address_count'])\n",
    "\n",
    "print('in Jul 2016 the number of address from is:',len(from_address), 'which means on average :',len(eth_2016_nodup['from_address'])/len(from_address),' transctions per address')\n",
    "# count number of address from\n",
    "to_address = pd.unique(eth_2016_nodup['to_address'])\n",
    "print('in Jul 2016 the number of address to is:',len(to_address), 'which means on average :',len(eth_2016_nodup['to_address'])/len(to_address),' transctions per address')"
   ]
  },
  {
   "cell_type": "code",
   "execution_count": 33,
   "metadata": {},
   "outputs": [
    {
     "name": "stdout",
     "output_type": "stream",
     "text": [
      "in Jul 2015 the number of address from is: 1115283 which means on average : 7.046242971514853  transctions per address\n",
      "in Jul 2015 the number of address to is: 1250506 which means on average : 6.2843001153133216  transctions per address\n"
     ]
    }
   ],
   "source": [
    "# count number of 'address to' in July 2015\n",
    "from_address = pd.DataFrame(pd.unique(data['from_address']), columns=['from_address_count'])\n",
    "\n",
    "print('in Jul 2015 the number of address from is:',len(from_address), 'which means on average :',len(data['from_address'])/len(from_address),' transctions per address')\n",
    "# count number of address from\n",
    "to_address = pd.unique(data['to_address'])\n",
    "print('in Jul 2015 the number of address to is:',len(to_address), 'which means on average :',len(data['to_address'])/len(to_address),' transctions per address')"
   ]
  },
  {
   "attachments": {},
   "cell_type": "markdown",
   "metadata": {},
   "source": [
    "## Gas : represent the gas provided by the sender\n",
    "## gas_price : represent the gas provided by the sender in Wei\n",
    "\n",
    "Gas refers to the unit that measures the amount of computational effort required to execute specific operations on the Ethereum network.\n",
    "Since each Ethereum transaction requires computational resources to execute, each transaction requires a fee. Gas refers to the fee required to execute a transaction on Ethereum, regardless of transaction success or failure.\n",
    "\n",
    "The gas depends on the value of the transaction\n",
    "\n",
    "The way transaction fees on the Ethereum network were calculated changed with the London Upgrade of August 2021. Here is a recap of how things used to work:\n",
    "\n",
    "Let's say Alice had to pay Bob 1 ETH. In the transaction, the gas limit is 21,000 units, and the gas price is 200 gwei.\n",
    "\n",
    "Total fee would have been: Gas units (limit) * Gas price per unit i.e 21,000 * 200 = 4,200,000 gwei or 0.0042 ETH\n",
    "\n",
    "Total fee : gas price\n",
    "\n",
    "Gas units : gas"
   ]
  },
  {
   "cell_type": "code",
   "execution_count": 72,
   "metadata": {},
   "outputs": [],
   "source": [
    "data['gas'] = data['gas'].astype('float')\n"
   ]
  },
  {
   "attachments": {},
   "cell_type": "markdown",
   "metadata": {},
   "source": [
    "Compute the gas fees per unit"
   ]
  },
  {
   "cell_type": "code",
   "execution_count": 73,
   "metadata": {},
   "outputs": [],
   "source": [
    "# compute the gass price per unit\n",
    "data['gas_price_unit'] = data['gas_price']/data['gas']\n"
   ]
  },
  {
   "attachments": {},
   "cell_type": "markdown",
   "metadata": {},
   "source": [
    "Compute the value of the transaction divided by the gas"
   ]
  },
  {
   "cell_type": "code",
   "execution_count": 74,
   "metadata": {},
   "outputs": [],
   "source": [
    "data['value'] = data['value'].astype('float')\n",
    "data['value_div_gas'] = data['value']/data['gas']\n",
    "#plt.hist(eth_transaction['value_div_gas'])"
   ]
  }
 ],
 "metadata": {
  "kernelspec": {
   "display_name": "Python 3",
   "language": "python",
   "name": "python3"
  },
  "language_info": {
   "codemirror_mode": {
    "name": "ipython",
    "version": 3
   },
   "file_extension": ".py",
   "mimetype": "text/x-python",
   "name": "python",
   "nbconvert_exporter": "python",
   "pygments_lexer": "ipython3",
   "version": "3.10.6"
  },
  "orig_nbformat": 4
 },
 "nbformat": 4,
 "nbformat_minor": 2
}
