{
 "cells": [
  {
   "attachments": {},
   "cell_type": "markdown",
   "metadata": {},
   "source": [
    "# Isolation Forest"
   ]
  },
  {
   "cell_type": "code",
   "execution_count": 13,
   "metadata": {},
   "outputs": [],
   "source": [
    "import pandas as pd\n",
    "import numpy as np\n",
    "import seaborn as sns\n",
    "import matplotlib.pyplot as plt\n",
    "from matplotlib import pyplot\n",
    "from utils import create_date, drop_smart_contract, clean_up_row, drop_missing_data\n",
    "from data_preparation import train_data_loader, data_pre_processing\n",
    "from sklearn.preprocessing import StandardScaler\n",
    "from sklearn.ensemble import IsolationForest\n",
    "from sklearn.cluster import DBSCAN\n",
    "from sklearn.metrics import confusion_matrix\n",
    "\n",
    "import networkx as nx\n",
    "import operator"
   ]
  },
  {
   "attachments": {},
   "cell_type": "markdown",
   "metadata": {},
   "source": [
    "## Load data"
   ]
  },
  {
   "cell_type": "code",
   "execution_count": 2,
   "metadata": {},
   "outputs": [
    {
     "name": "stderr",
     "output_type": "stream",
     "text": [
      "/home/erika/eth_fraud_detection/data_preparation.py:16: DtypeWarning: Columns (6) have mixed types. Specify dtype option on import or set low_memory=False.\n",
      "  eth_20170702 = pd.read_csv(\"https://s3.eu-central-2.wasabisys.com/ethblockchain/eth_trans_20170702.csv\")\n",
      "/home/erika/eth_fraud_detection/data_preparation.py:21: DtypeWarning: Columns (11) have mixed types. Specify dtype option on import or set low_memory=False.\n",
      "  eth_20170707 = pd.read_csv(\"https://s3.eu-central-2.wasabisys.com/ethblockchain/eth_trans_20170707.csv\")\n",
      "/home/erika/eth_fraud_detection/data_preparation.py:22: DtypeWarning: Columns (11) have mixed types. Specify dtype option on import or set low_memory=False.\n",
      "  eth_20170708 = pd.read_csv(\"https://s3.eu-central-2.wasabisys.com/ethblockchain/eth_trans_20170708.csv\")\n",
      "/home/erika/eth_fraud_detection/data_preparation.py:23: DtypeWarning: Columns (11) have mixed types. Specify dtype option on import or set low_memory=False.\n",
      "  eth_20170709 = pd.read_csv(\"https://s3.eu-central-2.wasabisys.com/ethblockchain/eth_trans_20170709.csv\")\n",
      "/home/erika/eth_fraud_detection/data_preparation.py:24: DtypeWarning: Columns (11) have mixed types. Specify dtype option on import or set low_memory=False.\n",
      "  eth_20170710 = pd.read_csv(\"https://s3.eu-central-2.wasabisys.com/ethblockchain/eth_trans_20170710.csv\")\n",
      "/home/erika/eth_fraud_detection/data_preparation.py:28: DtypeWarning: Columns (11) have mixed types. Specify dtype option on import or set low_memory=False.\n",
      "  eth_20170714 = pd.read_csv(\"https://s3.eu-central-2.wasabisys.com/ethblockchain/eth_trans_20170714.csv\")\n",
      "/home/erika/eth_fraud_detection/data_preparation.py:30: DtypeWarning: Columns (11) have mixed types. Specify dtype option on import or set low_memory=False.\n",
      "  eth_20170716 = pd.read_csv(\"https://s3.eu-central-2.wasabisys.com/ethblockchain/eth_trans_20170716.csv\")\n",
      "/home/erika/eth_fraud_detection/data_preparation.py:31: DtypeWarning: Columns (11) have mixed types. Specify dtype option on import or set low_memory=False.\n",
      "  eth_20170717 = pd.read_csv(\"https://s3.eu-central-2.wasabisys.com/ethblockchain/eth_trans_20170717.csv\")\n",
      "/home/erika/eth_fraud_detection/data_preparation.py:32: DtypeWarning: Columns (11) have mixed types. Specify dtype option on import or set low_memory=False.\n",
      "  eth_20170718 = pd.read_csv(\"https://s3.eu-central-2.wasabisys.com/ethblockchain/eth_trans_20170718.csv\")\n",
      "/home/erika/eth_fraud_detection/data_preparation.py:33: DtypeWarning: Columns (11) have mixed types. Specify dtype option on import or set low_memory=False.\n",
      "  eth_20170719 = pd.read_csv(\"https://s3.eu-central-2.wasabisys.com/ethblockchain/eth_trans_20170719.csv\")\n",
      "/home/erika/eth_fraud_detection/data_preparation.py:34: DtypeWarning: Columns (11) have mixed types. Specify dtype option on import or set low_memory=False.\n",
      "  eth_20170720 = pd.read_csv(\"https://s3.eu-central-2.wasabisys.com/ethblockchain/eth_trans_20170720.csv\")\n",
      "/home/erika/eth_fraud_detection/data_preparation.py:35: DtypeWarning: Columns (11) have mixed types. Specify dtype option on import or set low_memory=False.\n",
      "  eth_20170721 = pd.read_csv(\"https://s3.eu-central-2.wasabisys.com/ethblockchain/eth_trans_20170721.csv\")\n",
      "/home/erika/eth_fraud_detection/data_preparation.py:36: DtypeWarning: Columns (11) have mixed types. Specify dtype option on import or set low_memory=False.\n",
      "  eth_20170722 = pd.read_csv(\"https://s3.eu-central-2.wasabisys.com/ethblockchain/eth_trans_20170722.csv\")\n",
      "/home/erika/eth_fraud_detection/data_preparation.py:37: DtypeWarning: Columns (11) have mixed types. Specify dtype option on import or set low_memory=False.\n",
      "  eth_20170723 = pd.read_csv(\"https://s3.eu-central-2.wasabisys.com/ethblockchain/eth_trans_20170723.csv\")\n",
      "/home/erika/eth_fraud_detection/data_preparation.py:38: DtypeWarning: Columns (5,11) have mixed types. Specify dtype option on import or set low_memory=False.\n",
      "  eth_20170724 = pd.read_csv(\"https://s3.eu-central-2.wasabisys.com/ethblockchain/eth_trans_20170724.csv\")\n",
      "/home/erika/eth_fraud_detection/data_preparation.py:41: DtypeWarning: Columns (11) have mixed types. Specify dtype option on import or set low_memory=False.\n",
      "  eth_20170727 = pd.read_csv(\"https://s3.eu-central-2.wasabisys.com/ethblockchain/eth_trans_20170727.csv\")\n",
      "/home/erika/eth_fraud_detection/data_preparation.py:43: DtypeWarning: Columns (11) have mixed types. Specify dtype option on import or set low_memory=False.\n",
      "  eth_20170729 = pd.read_csv(\"https://s3.eu-central-2.wasabisys.com/ethblockchain/eth_trans_20170729.csv\")\n",
      "/home/erika/eth_fraud_detection/data_preparation.py:44: DtypeWarning: Columns (11) have mixed types. Specify dtype option on import or set low_memory=False.\n",
      "  eth_20170730 = pd.read_csv(\"https://s3.eu-central-2.wasabisys.com/ethblockchain/eth_trans_20170730.csv\")\n",
      "/home/erika/eth_fraud_detection/data_preparation.py:45: DtypeWarning: Columns (11) have mixed types. Specify dtype option on import or set low_memory=False.\n",
      "  eth_20170731 = pd.read_csv(\"https://s3.eu-central-2.wasabisys.com/ethblockchain/eth_trans_20170731.csv\")\n"
     ]
    }
   ],
   "source": [
    "data = train_data_loader()"
   ]
  },
  {
   "attachments": {},
   "cell_type": "markdown",
   "metadata": {},
   "source": [
    "# Data Preprocessing"
   ]
  },
  {
   "cell_type": "code",
   "execution_count": 3,
   "metadata": {},
   "outputs": [
    {
     "name": "stderr",
     "output_type": "stream",
     "text": [
      "/home/erika/eth_fraud_detection/utils.py:40: SettingWithCopyWarning: \n",
      "A value is trying to be set on a copy of a slice from a DataFrame\n",
      "\n",
      "See the caveats in the documentation: https://pandas.pydata.org/pandas-docs/stable/user_guide/indexing.html#returning-a-view-versus-a-copy\n",
      "  data_drop.drop(columns=['check_hash'], inplace=True)\n",
      "/home/erika/eth_fraud_detection/utils.py:51: SettingWithCopyWarning: \n",
      "A value is trying to be set on a copy of a slice from a DataFrame\n",
      "\n",
      "See the caveats in the documentation: https://pandas.pydata.org/pandas-docs/stable/user_guide/indexing.html#returning-a-view-versus-a-copy\n",
      "  data_no_missing_date.drop(['receipt_status', 'max_fee_per_gas', 'max_priority_fee_per_gas', 'transaction_type','receipt_contract_address'],axis=1,inplace=True)\n",
      "/home/erika/eth_fraud_detection/utils.py:6: SettingWithCopyWarning: \n",
      "A value is trying to be set on a copy of a slice from a DataFrame.\n",
      "Try using .loc[row_indexer,col_indexer] = value instead\n",
      "\n",
      "See the caveats in the documentation: https://pandas.pydata.org/pandas-docs/stable/user_guide/indexing.html#returning-a-view-versus-a-copy\n",
      "  data_nodup['block_timestamp_str'] = data_nodup['block_timestamp'].astype(str)\n",
      "/home/erika/eth_fraud_detection/utils.py:7: SettingWithCopyWarning: \n",
      "A value is trying to be set on a copy of a slice from a DataFrame.\n",
      "Try using .loc[row_indexer,col_indexer] = value instead\n",
      "\n",
      "See the caveats in the documentation: https://pandas.pydata.org/pandas-docs/stable/user_guide/indexing.html#returning-a-view-versus-a-copy\n",
      "  data_nodup['date'] = data_nodup['block_timestamp_str'].str.slice(start=0,stop=10)\n",
      "/home/erika/eth_fraud_detection/utils.py:9: SettingWithCopyWarning: \n",
      "A value is trying to be set on a copy of a slice from a DataFrame.\n",
      "Try using .loc[row_indexer,col_indexer] = value instead\n",
      "\n",
      "See the caveats in the documentation: https://pandas.pydata.org/pandas-docs/stable/user_guide/indexing.html#returning-a-view-versus-a-copy\n",
      "  data_nodup['dates'] = pd.to_datetime(data_nodup['date'], format='%Y-%m-%d')\n",
      "/home/erika/eth_fraud_detection/utils.py:11: SettingWithCopyWarning: \n",
      "A value is trying to be set on a copy of a slice from a DataFrame.\n",
      "Try using .loc[row_indexer,col_indexer] = value instead\n",
      "\n",
      "See the caveats in the documentation: https://pandas.pydata.org/pandas-docs/stable/user_guide/indexing.html#returning-a-view-versus-a-copy\n",
      "  data_nodup['year'] = data_nodup['block_timestamp_str'].str.slice(start=0,stop=4)\n",
      "/home/erika/eth_fraud_detection/utils.py:14: SettingWithCopyWarning: \n",
      "A value is trying to be set on a copy of a slice from a DataFrame.\n",
      "Try using .loc[row_indexer,col_indexer] = value instead\n",
      "\n",
      "See the caveats in the documentation: https://pandas.pydata.org/pandas-docs/stable/user_guide/indexing.html#returning-a-view-versus-a-copy\n",
      "  data_nodup['month'] = data_nodup['block_timestamp_str'].str.slice(start=5,stop=7)\n",
      "/home/erika/eth_fraud_detection/utils.py:15: SettingWithCopyWarning: \n",
      "A value is trying to be set on a copy of a slice from a DataFrame.\n",
      "Try using .loc[row_indexer,col_indexer] = value instead\n",
      "\n",
      "See the caveats in the documentation: https://pandas.pydata.org/pandas-docs/stable/user_guide/indexing.html#returning-a-view-versus-a-copy\n",
      "  data_nodup['month'] = pd.to_numeric(data_nodup['month'])\n",
      "/home/erika/eth_fraud_detection/utils.py:17: SettingWithCopyWarning: \n",
      "A value is trying to be set on a copy of a slice from a DataFrame.\n",
      "Try using .loc[row_indexer,col_indexer] = value instead\n",
      "\n",
      "See the caveats in the documentation: https://pandas.pydata.org/pandas-docs/stable/user_guide/indexing.html#returning-a-view-versus-a-copy\n",
      "  data_nodup['day'] = data_nodup['block_timestamp_str'].str.slice(start=8,stop=10)\n",
      "/home/erika/eth_fraud_detection/utils.py:18: SettingWithCopyWarning: \n",
      "A value is trying to be set on a copy of a slice from a DataFrame.\n",
      "Try using .loc[row_indexer,col_indexer] = value instead\n",
      "\n",
      "See the caveats in the documentation: https://pandas.pydata.org/pandas-docs/stable/user_guide/indexing.html#returning-a-view-versus-a-copy\n",
      "  data_nodup['day'] = pd.to_numeric(data_nodup['day'])\n",
      "/home/erika/eth_fraud_detection/utils.py:20: SettingWithCopyWarning: \n",
      "A value is trying to be set on a copy of a slice from a DataFrame\n",
      "\n",
      "See the caveats in the documentation: https://pandas.pydata.org/pandas-docs/stable/user_guide/indexing.html#returning-a-view-versus-a-copy\n",
      "  data_nodup.sort_values(by=['dates'],ascending=False, inplace=True)\n",
      "/home/erika/eth_fraud_detection/data_preparation.py:79: SettingWithCopyWarning: \n",
      "A value is trying to be set on a copy of a slice from a DataFrame.\n",
      "Try using .loc[row_indexer,col_indexer] = value instead\n",
      "\n",
      "See the caveats in the documentation: https://pandas.pydata.org/pandas-docs/stable/user_guide/indexing.html#returning-a-view-versus-a-copy\n",
      "  data['gas'] = data['gas'].astype('float')\n",
      "/home/erika/eth_fraud_detection/data_preparation.py:80: SettingWithCopyWarning: \n",
      "A value is trying to be set on a copy of a slice from a DataFrame.\n",
      "Try using .loc[row_indexer,col_indexer] = value instead\n",
      "\n",
      "See the caveats in the documentation: https://pandas.pydata.org/pandas-docs/stable/user_guide/indexing.html#returning-a-view-versus-a-copy\n",
      "  data['value'] = data['value'].astype('float')\n",
      "/home/erika/eth_fraud_detection/data_preparation.py:86: SettingWithCopyWarning: \n",
      "A value is trying to be set on a copy of a slice from a DataFrame.\n",
      "Try using .loc[row_indexer,col_indexer] = value instead\n",
      "\n",
      "See the caveats in the documentation: https://pandas.pydata.org/pandas-docs/stable/user_guide/indexing.html#returning-a-view-versus-a-copy\n",
      "  data['gas_price_unit'] = data['gas_price']/data['gas']\n",
      "/home/erika/eth_fraud_detection/data_preparation.py:89: SettingWithCopyWarning: \n",
      "A value is trying to be set on a copy of a slice from a DataFrame.\n",
      "Try using .loc[row_indexer,col_indexer] = value instead\n",
      "\n",
      "See the caveats in the documentation: https://pandas.pydata.org/pandas-docs/stable/user_guide/indexing.html#returning-a-view-versus-a-copy\n",
      "  data['value_div_gas'] = data['value']/data['gas']\n",
      "/home/erika/eth_fraud_detection/data_preparation.py:94: SettingWithCopyWarning: \n",
      "A value is trying to be set on a copy of a slice from a DataFrame.\n",
      "Try using .loc[row_indexer,col_indexer] = value instead\n",
      "\n",
      "See the caveats in the documentation: https://pandas.pydata.org/pandas-docs/stable/user_guide/indexing.html#returning-a-view-versus-a-copy\n",
      "  data['from_address_count'] = data.groupby('from_address')['from_address'].transform('count')\n",
      "/home/erika/eth_fraud_detection/data_preparation.py:96: SettingWithCopyWarning: \n",
      "A value is trying to be set on a copy of a slice from a DataFrame.\n",
      "Try using .loc[row_indexer,col_indexer] = value instead\n",
      "\n",
      "See the caveats in the documentation: https://pandas.pydata.org/pandas-docs/stable/user_guide/indexing.html#returning-a-view-versus-a-copy\n",
      "  data['to_address_count'] = data.groupby('to_address')['to_address'].transform('count')\n",
      "/home/erika/eth_fraud_detection/data_preparation.py:99: SettingWithCopyWarning: \n",
      "A value is trying to be set on a copy of a slice from a DataFrame.\n",
      "Try using .loc[row_indexer,col_indexer] = value instead\n",
      "\n",
      "See the caveats in the documentation: https://pandas.pydata.org/pandas-docs/stable/user_guide/indexing.html#returning-a-view-versus-a-copy\n",
      "  data['block_count'] = data.groupby('block_number')['block_number'].transform('count')\n"
     ]
    }
   ],
   "source": [
    "df = data_pre_processing(data)"
   ]
  },
  {
   "cell_type": "code",
   "execution_count": 4,
   "metadata": {},
   "outputs": [],
   "source": [
    "# Drop target features (comments, flags)\n",
    "train_data = df.drop(['comment_from_address_darklst','date_mal_trans_from', 'mal_trans_from', 'comment_to_address_darklst',\n",
    "                    'date_mal_trans_to', 'mal_trans_to','transaction_flag1', 'transaction_flag2','attack_descr', 'attack_date'],axis=1)\n",
    "\n",
    "\n",
    "# Keep only numeric features\n",
    "train_data = train_data[['nonce', 'transaction_index',\n",
    "       'value', 'gas', 'gas_price', 'receipt_cumulative_gas_used',\n",
    "       'receipt_gas_used', 'block_number','receipt_effective_gas_price', \n",
    "       'dates', 'gas_price_unit','value_div_gas', 'from_address_count', 'to_address_count',\n",
    "       'block_count', 'degree_centrality_from', 'degree_centrality_to',\n",
    "       'in_degree_adr_to', 'out_degree_adr_to', 'in_degree_adr_from','out_degree_adr_from','transaction_flag']]"
   ]
  },
  {
   "cell_type": "code",
   "execution_count": 5,
   "metadata": {},
   "outputs": [],
   "source": [
    "Xtrain = train_data.drop(['transaction_flag'],axis=1)\n",
    "Xtrain.set_index('dates', inplace=True)\n",
    "ytrain = train_data[['transaction_flag','dates']]\n",
    "ytrain.set_index('dates', inplace=True)"
   ]
  },
  {
   "cell_type": "code",
   "execution_count": 6,
   "metadata": {},
   "outputs": [
    {
     "data": {
      "text/html": [
       "<div>\n",
       "<style scoped>\n",
       "    .dataframe tbody tr th:only-of-type {\n",
       "        vertical-align: middle;\n",
       "    }\n",
       "\n",
       "    .dataframe tbody tr th {\n",
       "        vertical-align: top;\n",
       "    }\n",
       "\n",
       "    .dataframe thead th {\n",
       "        text-align: right;\n",
       "    }\n",
       "</style>\n",
       "<table border=\"1\" class=\"dataframe\">\n",
       "  <thead>\n",
       "    <tr style=\"text-align: right;\">\n",
       "      <th></th>\n",
       "      <th>nonce</th>\n",
       "      <th>transaction_index</th>\n",
       "      <th>value</th>\n",
       "      <th>gas</th>\n",
       "      <th>gas_price</th>\n",
       "      <th>receipt_cumulative_gas_used</th>\n",
       "      <th>receipt_gas_used</th>\n",
       "      <th>block_number</th>\n",
       "      <th>receipt_effective_gas_price</th>\n",
       "      <th>gas_price_unit</th>\n",
       "      <th>value_div_gas</th>\n",
       "      <th>from_address_count</th>\n",
       "      <th>to_address_count</th>\n",
       "      <th>block_count</th>\n",
       "      <th>degree_centrality_from</th>\n",
       "      <th>degree_centrality_to</th>\n",
       "      <th>in_degree_adr_to</th>\n",
       "      <th>out_degree_adr_to</th>\n",
       "      <th>in_degree_adr_from</th>\n",
       "      <th>out_degree_adr_from</th>\n",
       "    </tr>\n",
       "    <tr>\n",
       "      <th>dates</th>\n",
       "      <th></th>\n",
       "      <th></th>\n",
       "      <th></th>\n",
       "      <th></th>\n",
       "      <th></th>\n",
       "      <th></th>\n",
       "      <th></th>\n",
       "      <th></th>\n",
       "      <th></th>\n",
       "      <th></th>\n",
       "      <th></th>\n",
       "      <th></th>\n",
       "      <th></th>\n",
       "      <th></th>\n",
       "      <th></th>\n",
       "      <th></th>\n",
       "      <th></th>\n",
       "      <th></th>\n",
       "      <th></th>\n",
       "      <th></th>\n",
       "    </tr>\n",
       "  </thead>\n",
       "  <tbody>\n",
       "    <tr>\n",
       "      <th>2017-07-31</th>\n",
       "      <td>5</td>\n",
       "      <td>1</td>\n",
       "      <td>0.000000e+00</td>\n",
       "      <td>53759.0</td>\n",
       "      <td>60000000000</td>\n",
       "      <td>74758.0</td>\n",
       "      <td>53758.0</td>\n",
       "      <td>4098983.0</td>\n",
       "      <td>6.000000e+10</td>\n",
       "      <td>1.116092e+06</td>\n",
       "      <td>0.000000e+00</td>\n",
       "      <td>3</td>\n",
       "      <td>4858</td>\n",
       "      <td>171</td>\n",
       "      <td>0.000002</td>\n",
       "      <td>0.003502</td>\n",
       "      <td>4858</td>\n",
       "      <td>0</td>\n",
       "      <td>0</td>\n",
       "      <td>3</td>\n",
       "    </tr>\n",
       "    <tr>\n",
       "      <th>2017-07-31</th>\n",
       "      <td>2596723</td>\n",
       "      <td>172</td>\n",
       "      <td>5.459820e+17</td>\n",
       "      <td>50000.0</td>\n",
       "      <td>4000000000</td>\n",
       "      <td>5307522.0</td>\n",
       "      <td>21000.0</td>\n",
       "      <td>4101279.0</td>\n",
       "      <td>4.000000e+09</td>\n",
       "      <td>8.000000e+04</td>\n",
       "      <td>1.091964e+13</td>\n",
       "      <td>357662</td>\n",
       "      <td>32</td>\n",
       "      <td>180</td>\n",
       "      <td>0.257829</td>\n",
       "      <td>0.000046</td>\n",
       "      <td>32</td>\n",
       "      <td>32</td>\n",
       "      <td>6</td>\n",
       "      <td>357662</td>\n",
       "    </tr>\n",
       "    <tr>\n",
       "      <th>2017-07-31</th>\n",
       "      <td>2591374</td>\n",
       "      <td>15</td>\n",
       "      <td>2.077429e+17</td>\n",
       "      <td>50000.0</td>\n",
       "      <td>4000000000</td>\n",
       "      <td>336000.0</td>\n",
       "      <td>21000.0</td>\n",
       "      <td>4099488.0</td>\n",
       "      <td>4.000000e+09</td>\n",
       "      <td>8.000000e+04</td>\n",
       "      <td>4.154859e+12</td>\n",
       "      <td>357662</td>\n",
       "      <td>43</td>\n",
       "      <td>93</td>\n",
       "      <td>0.257829</td>\n",
       "      <td>0.000062</td>\n",
       "      <td>43</td>\n",
       "      <td>43</td>\n",
       "      <td>6</td>\n",
       "      <td>357662</td>\n",
       "    </tr>\n",
       "    <tr>\n",
       "      <th>2017-07-31</th>\n",
       "      <td>2591369</td>\n",
       "      <td>10</td>\n",
       "      <td>2.178482e+17</td>\n",
       "      <td>50000.0</td>\n",
       "      <td>4000000000</td>\n",
       "      <td>231000.0</td>\n",
       "      <td>21000.0</td>\n",
       "      <td>4099488.0</td>\n",
       "      <td>4.000000e+09</td>\n",
       "      <td>8.000000e+04</td>\n",
       "      <td>4.356964e+12</td>\n",
       "      <td>357662</td>\n",
       "      <td>56</td>\n",
       "      <td>93</td>\n",
       "      <td>0.257829</td>\n",
       "      <td>0.000051</td>\n",
       "      <td>56</td>\n",
       "      <td>15</td>\n",
       "      <td>6</td>\n",
       "      <td>357662</td>\n",
       "    </tr>\n",
       "    <tr>\n",
       "      <th>2017-07-31</th>\n",
       "      <td>2591373</td>\n",
       "      <td>14</td>\n",
       "      <td>5.256675e+16</td>\n",
       "      <td>50000.0</td>\n",
       "      <td>4000000000</td>\n",
       "      <td>315000.0</td>\n",
       "      <td>21000.0</td>\n",
       "      <td>4099488.0</td>\n",
       "      <td>4.000000e+09</td>\n",
       "      <td>8.000000e+04</td>\n",
       "      <td>1.051335e+12</td>\n",
       "      <td>357662</td>\n",
       "      <td>60</td>\n",
       "      <td>93</td>\n",
       "      <td>0.257829</td>\n",
       "      <td>0.000044</td>\n",
       "      <td>60</td>\n",
       "      <td>1</td>\n",
       "      <td>6</td>\n",
       "      <td>357662</td>\n",
       "    </tr>\n",
       "  </tbody>\n",
       "</table>\n",
       "</div>"
      ],
      "text/plain": [
       "              nonce  transaction_index         value      gas    gas_price  \\\n",
       "dates                                                                        \n",
       "2017-07-31        5                  1  0.000000e+00  53759.0  60000000000   \n",
       "2017-07-31  2596723                172  5.459820e+17  50000.0   4000000000   \n",
       "2017-07-31  2591374                 15  2.077429e+17  50000.0   4000000000   \n",
       "2017-07-31  2591369                 10  2.178482e+17  50000.0   4000000000   \n",
       "2017-07-31  2591373                 14  5.256675e+16  50000.0   4000000000   \n",
       "\n",
       "            receipt_cumulative_gas_used  receipt_gas_used  block_number  \\\n",
       "dates                                                                     \n",
       "2017-07-31                      74758.0           53758.0     4098983.0   \n",
       "2017-07-31                    5307522.0           21000.0     4101279.0   \n",
       "2017-07-31                     336000.0           21000.0     4099488.0   \n",
       "2017-07-31                     231000.0           21000.0     4099488.0   \n",
       "2017-07-31                     315000.0           21000.0     4099488.0   \n",
       "\n",
       "            receipt_effective_gas_price  gas_price_unit  value_div_gas  \\\n",
       "dates                                                                    \n",
       "2017-07-31                 6.000000e+10    1.116092e+06   0.000000e+00   \n",
       "2017-07-31                 4.000000e+09    8.000000e+04   1.091964e+13   \n",
       "2017-07-31                 4.000000e+09    8.000000e+04   4.154859e+12   \n",
       "2017-07-31                 4.000000e+09    8.000000e+04   4.356964e+12   \n",
       "2017-07-31                 4.000000e+09    8.000000e+04   1.051335e+12   \n",
       "\n",
       "            from_address_count  to_address_count  block_count  \\\n",
       "dates                                                           \n",
       "2017-07-31                   3              4858          171   \n",
       "2017-07-31              357662                32          180   \n",
       "2017-07-31              357662                43           93   \n",
       "2017-07-31              357662                56           93   \n",
       "2017-07-31              357662                60           93   \n",
       "\n",
       "            degree_centrality_from  degree_centrality_to  in_degree_adr_to  \\\n",
       "dates                                                                        \n",
       "2017-07-31                0.000002              0.003502              4858   \n",
       "2017-07-31                0.257829              0.000046                32   \n",
       "2017-07-31                0.257829              0.000062                43   \n",
       "2017-07-31                0.257829              0.000051                56   \n",
       "2017-07-31                0.257829              0.000044                60   \n",
       "\n",
       "            out_degree_adr_to  in_degree_adr_from  out_degree_adr_from  \n",
       "dates                                                                   \n",
       "2017-07-31                  0                   0                    3  \n",
       "2017-07-31                 32                   6               357662  \n",
       "2017-07-31                 43                   6               357662  \n",
       "2017-07-31                 15                   6               357662  \n",
       "2017-07-31                  1                   6               357662  "
      ]
     },
     "execution_count": 6,
     "metadata": {},
     "output_type": "execute_result"
    }
   ],
   "source": [
    "Xtrain.head()"
   ]
  },
  {
   "cell_type": "code",
   "execution_count": 7,
   "metadata": {},
   "outputs": [
    {
     "data": {
      "text/html": [
       "<div>\n",
       "<style scoped>\n",
       "    .dataframe tbody tr th:only-of-type {\n",
       "        vertical-align: middle;\n",
       "    }\n",
       "\n",
       "    .dataframe tbody tr th {\n",
       "        vertical-align: top;\n",
       "    }\n",
       "\n",
       "    .dataframe thead th {\n",
       "        text-align: right;\n",
       "    }\n",
       "</style>\n",
       "<table border=\"1\" class=\"dataframe\">\n",
       "  <thead>\n",
       "    <tr style=\"text-align: right;\">\n",
       "      <th></th>\n",
       "      <th>transaction_flag</th>\n",
       "    </tr>\n",
       "    <tr>\n",
       "      <th>dates</th>\n",
       "      <th></th>\n",
       "    </tr>\n",
       "  </thead>\n",
       "  <tbody>\n",
       "    <tr>\n",
       "      <th>2017-07-31</th>\n",
       "      <td>0</td>\n",
       "    </tr>\n",
       "    <tr>\n",
       "      <th>2017-07-31</th>\n",
       "      <td>0</td>\n",
       "    </tr>\n",
       "    <tr>\n",
       "      <th>2017-07-31</th>\n",
       "      <td>0</td>\n",
       "    </tr>\n",
       "    <tr>\n",
       "      <th>2017-07-31</th>\n",
       "      <td>0</td>\n",
       "    </tr>\n",
       "    <tr>\n",
       "      <th>2017-07-31</th>\n",
       "      <td>0</td>\n",
       "    </tr>\n",
       "  </tbody>\n",
       "</table>\n",
       "</div>"
      ],
      "text/plain": [
       "            transaction_flag\n",
       "dates                       \n",
       "2017-07-31                 0\n",
       "2017-07-31                 0\n",
       "2017-07-31                 0\n",
       "2017-07-31                 0\n",
       "2017-07-31                 0"
      ]
     },
     "execution_count": 7,
     "metadata": {},
     "output_type": "execute_result"
    }
   ],
   "source": [
    "ytrain.head()"
   ]
  },
  {
   "cell_type": "code",
   "execution_count": 8,
   "metadata": {},
   "outputs": [
    {
     "data": {
      "text/plain": [
       "transaction_flag\n",
       "0    7457565\n",
       "1       3290\n",
       "Name: count, dtype: int64"
      ]
     },
     "execution_count": 8,
     "metadata": {},
     "output_type": "execute_result"
    }
   ],
   "source": [
    "ytrain['transaction_flag'].value_counts()"
   ]
  },
  {
   "cell_type": "code",
   "execution_count": 9,
   "metadata": {},
   "outputs": [
    {
     "data": {
      "text/plain": [
       "array([ 1, -1,  1, ...,  1,  1, -1])"
      ]
     },
     "execution_count": 9,
     "metadata": {},
     "output_type": "execute_result"
    }
   ],
   "source": [
    "if_pred = IsolationForest().fit_predict(Xtrain)\n",
    "if_pred"
   ]
  },
  {
   "cell_type": "code",
   "execution_count": 12,
   "metadata": {},
   "outputs": [
    {
     "data": {
      "text/plain": [
       " 1    6946296\n",
       "-1     514559\n",
       "Name: count, dtype: int64"
      ]
     },
     "execution_count": 12,
     "metadata": {},
     "output_type": "execute_result"
    }
   ],
   "source": [
    "pd.Series(if_pred).value_counts()"
   ]
  },
  {
   "attachments": {},
   "cell_type": "markdown",
   "metadata": {},
   "source": [
    "Convert the value of the predicion such that: if it's 1 (means inlier and not anomalous transaction), if it's -1 means outlier (anomalous transaction)"
   ]
  },
  {
   "cell_type": "code",
   "execution_count": 16,
   "metadata": {},
   "outputs": [
    {
     "data": {
      "text/plain": [
       "0    6946296\n",
       "1     514559\n",
       "Name: count, dtype: int64"
      ]
     },
     "execution_count": 16,
     "metadata": {},
     "output_type": "execute_result"
    }
   ],
   "source": [
    "if_pred[if_pred==1]=0\n",
    "if_pred[if_pred==-1]=1\n",
    "pd.Series(if_pred).value_counts()"
   ]
  },
  {
   "cell_type": "code",
   "execution_count": 17,
   "metadata": {},
   "outputs": [
    {
     "data": {
      "text/plain": [
       "array([[6943060,  514505],\n",
       "       [   3236,      54]])"
      ]
     },
     "execution_count": 17,
     "metadata": {},
     "output_type": "execute_result"
    }
   ],
   "source": [
    "# Confusion matrix\n",
    "confusion_matrix(ytrain, if_pred)"
   ]
  }
 ],
 "metadata": {
  "kernelspec": {
   "display_name": "Python 3",
   "language": "python",
   "name": "python3"
  },
  "language_info": {
   "codemirror_mode": {
    "name": "ipython",
    "version": 3
   },
   "file_extension": ".py",
   "mimetype": "text/x-python",
   "name": "python",
   "nbconvert_exporter": "python",
   "pygments_lexer": "ipython3",
   "version": "3.10.6"
  },
  "orig_nbformat": 4
 },
 "nbformat": 4,
 "nbformat_minor": 2
}
