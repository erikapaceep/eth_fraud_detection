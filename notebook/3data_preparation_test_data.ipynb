{
 "cells": [
  {
   "attachments": {},
   "cell_type": "markdown",
   "metadata": {},
   "source": [
    "# Data cleaning and feature engeneering"
   ]
  },
  {
   "cell_type": "code",
   "execution_count": 4,
   "metadata": {},
   "outputs": [],
   "source": [
    "import pandas as pd\n",
    "import numpy as np\n",
    "import seaborn as sns\n",
    "import matplotlib.pyplot as plt\n",
    "from matplotlib import pyplot\n",
    "import sys\n",
    "sys.path.insert(0,'..')\n",
    "from utils.utils import create_date, drop_smart_contract, clean_up_row\n",
    "\n",
    "import networkx as nx\n",
    "import operator"
   ]
  },
  {
   "attachments": {},
   "cell_type": "markdown",
   "metadata": {},
   "source": [
    "## Import July 2017 data"
   ]
  },
  {
   "cell_type": "code",
   "execution_count": 5,
   "metadata": {},
   "outputs": [
    {
     "name": "stdout",
     "output_type": "stream",
     "text": [
      "Sun Jul 23 17:56:25 2023       \n",
      "+---------------------------------------------------------------------------------------+\n",
      "| NVIDIA-SMI 530.41.03              Driver Version: 530.41.03    CUDA Version: 12.1     |\n",
      "|-----------------------------------------+----------------------+----------------------+\n",
      "| GPU  Name                  Persistence-M| Bus-Id        Disp.A | Volatile Uncorr. ECC |\n",
      "| Fan  Temp  Perf            Pwr:Usage/Cap|         Memory-Usage | GPU-Util  Compute M. |\n",
      "|                                         |                      |               MIG M. |\n",
      "|=========================================+======================+======================|\n",
      "|   0  Quadro RTX 8000                 Off| 00000000:3B:00.0 Off |                  Off |\n",
      "|  0%   36C    P8               34W / 260W|     10MiB / 49152MiB |      0%      Default |\n",
      "|                                         |                      |                  N/A |\n",
      "+-----------------------------------------+----------------------+----------------------+\n",
      "|   1  Quadro RTX 8000                 Off| 00000000:5E:00.0 Off |                  Off |\n",
      "|  0%   33C    P8               27W / 260W|      6MiB / 49152MiB |      0%      Default |\n",
      "|                                         |                      |                  N/A |\n",
      "+-----------------------------------------+----------------------+----------------------+\n",
      "                                                                                         \n",
      "+---------------------------------------------------------------------------------------+\n",
      "| Processes:                                                                            |\n",
      "|  GPU   GI   CI        PID   Type   Process name                            GPU Memory |\n",
      "|        ID   ID                                                             Usage      |\n",
      "|=======================================================================================|\n",
      "|  No running processes found                                                           |\n",
      "+---------------------------------------------------------------------------------------+\n"
     ]
    }
   ],
   "source": [
    "!nvidia-smi"
   ]
  },
  {
   "cell_type": "code",
   "execution_count": 6,
   "metadata": {},
   "outputs": [
    {
     "name": "stderr",
     "output_type": "stream",
     "text": [
      "/tmp/ipykernel_1775327/1757000105.py:6: DtypeWarning: Columns (11) have mixed types. Specify dtype option on import or set low_memory=False.\n",
      "  eth_09092017 = pd.read_csv(\"https://s3.eu-central-2.wasabisys.com/ethblockchain/eth_09092017.csv\")\n",
      "/tmp/ipykernel_1775327/1757000105.py:8: DtypeWarning: Columns (11) have mixed types. Specify dtype option on import or set low_memory=False.\n",
      "  eth_11092017 = pd.read_csv(\"https://s3.eu-central-2.wasabisys.com/ethblockchain/eth_11092017.csv\")\n",
      "/tmp/ipykernel_1775327/1757000105.py:9: DtypeWarning: Columns (11) have mixed types. Specify dtype option on import or set low_memory=False.\n",
      "  eth_12092017 = pd.read_csv(\"https://s3.eu-central-2.wasabisys.com/ethblockchain/eth_12092017.csv\")\n",
      "/tmp/ipykernel_1775327/1757000105.py:10: DtypeWarning: Columns (11) have mixed types. Specify dtype option on import or set low_memory=False.\n",
      "  eth_13092017 = pd.read_csv(\"https://s3.eu-central-2.wasabisys.com/ethblockchain/eth_13092017.csv\")\n",
      "/tmp/ipykernel_1775327/1757000105.py:11: DtypeWarning: Columns (11) have mixed types. Specify dtype option on import or set low_memory=False.\n",
      "  eth_14092017 = pd.read_csv(\"https://s3.eu-central-2.wasabisys.com/ethblockchain/eth_14092017.csv\")\n"
     ]
    }
   ],
   "source": [
    "# Test data Sept'2017\n",
    "\n",
    "eth_06092017 = pd.read_csv(\"https://s3.eu-central-2.wasabisys.com/ethblockchain/eth_06092017.csv\")\n",
    "eth_07092017 = pd.read_csv(\"https://s3.eu-central-2.wasabisys.com/ethblockchain/eth_07092017.csv\")\n",
    "eth_08092017 = pd.read_csv(\"https://s3.eu-central-2.wasabisys.com/ethblockchain/eth_08092017.csv\")\n",
    "eth_09092017 = pd.read_csv(\"https://s3.eu-central-2.wasabisys.com/ethblockchain/eth_09092017.csv\")\n",
    "eth_10092017 = pd.read_csv(\"https://s3.eu-central-2.wasabisys.com/ethblockchain/eth_10092017.csv\")\n",
    "eth_11092017 = pd.read_csv(\"https://s3.eu-central-2.wasabisys.com/ethblockchain/eth_11092017.csv\")\n",
    "eth_12092017 = pd.read_csv(\"https://s3.eu-central-2.wasabisys.com/ethblockchain/eth_12092017.csv\")\n",
    "eth_13092017 = pd.read_csv(\"https://s3.eu-central-2.wasabisys.com/ethblockchain/eth_13092017.csv\")\n",
    "eth_14092017 = pd.read_csv(\"https://s3.eu-central-2.wasabisys.com/ethblockchain/eth_14092017.csv\")\n",
    "eth_15092017 = pd.read_csv(\"https://s3.eu-central-2.wasabisys.com/ethblockchain/eth_15092017.csv\")"
   ]
  },
  {
   "cell_type": "code",
   "execution_count": 7,
   "metadata": {},
   "outputs": [
    {
     "name": "stdout",
     "output_type": "stream",
     "text": [
      "Sun Jul 23 17:57:37 2023       \n",
      "+---------------------------------------------------------------------------------------+\n",
      "| NVIDIA-SMI 530.41.03              Driver Version: 530.41.03    CUDA Version: 12.1     |\n",
      "|-----------------------------------------+----------------------+----------------------+\n",
      "| GPU  Name                  Persistence-M| Bus-Id        Disp.A | Volatile Uncorr. ECC |\n",
      "| Fan  Temp  Perf            Pwr:Usage/Cap|         Memory-Usage | GPU-Util  Compute M. |\n",
      "|                                         |                      |               MIG M. |\n",
      "|=========================================+======================+======================|\n",
      "|   0  Quadro RTX 8000                 Off| 00000000:3B:00.0 Off |                  Off |\n",
      "|  0%   36C    P8               35W / 260W|     10MiB / 49152MiB |      0%      Default |\n",
      "|                                         |                      |                  N/A |\n",
      "+-----------------------------------------+----------------------+----------------------+\n",
      "|   1  Quadro RTX 8000                 Off| 00000000:5E:00.0 Off |                  Off |\n",
      "|  0%   33C    P8               27W / 260W|      6MiB / 49152MiB |      0%      Default |\n",
      "|                                         |                      |                  N/A |\n",
      "+-----------------------------------------+----------------------+----------------------+\n",
      "                                                                                         \n",
      "+---------------------------------------------------------------------------------------+\n",
      "| Processes:                                                                            |\n",
      "|  GPU   GI   CI        PID   Type   Process name                            GPU Memory |\n",
      "|        ID   ID                                                             Usage      |\n",
      "|=======================================================================================|\n",
      "|  No running processes found                                                           |\n",
      "+---------------------------------------------------------------------------------------+\n"
     ]
    }
   ],
   "source": [
    "!nvidia-smi"
   ]
  },
  {
   "cell_type": "code",
   "execution_count": 8,
   "metadata": {},
   "outputs": [],
   "source": [
    "data = pd.concat([eth_06092017,eth_07092017, eth_08092017,\n",
    "                  eth_09092017,eth_10092017,eth_11092017,\n",
    "                  eth_12092017,eth_13092017,eth_14092017,\n",
    "                  eth_15092017])"
   ]
  },
  {
   "attachments": {},
   "cell_type": "markdown",
   "metadata": {},
   "source": [
    "# Missing values check"
   ]
  },
  {
   "cell_type": "code",
   "execution_count": 9,
   "metadata": {},
   "outputs": [
    {
     "data": {
      "text/plain": [
       "hash                                 0\n",
       "nonce                                0\n",
       "transaction_index                    0\n",
       "from_address                         0\n",
       "to_address                       17881\n",
       "value                                0\n",
       "gas                                  0\n",
       "gas_price                            0\n",
       "input                                0\n",
       "receipt_cumulative_gas_used          0\n",
       "receipt_gas_used                     0\n",
       "receipt_contract_address       3802215\n",
       "receipt_root                         0\n",
       "receipt_status                 3820096\n",
       "block_timestamp                      0\n",
       "block_number                         0\n",
       "block_hash                           0\n",
       "max_fee_per_gas                3820096\n",
       "max_priority_fee_per_gas       3820096\n",
       "transaction_type               3820096\n",
       "receipt_effective_gas_price          0\n",
       "dtype: int64"
      ]
     },
     "execution_count": 9,
     "metadata": {},
     "output_type": "execute_result"
    }
   ],
   "source": [
    "data.isna().sum()"
   ]
  },
  {
   "attachments": {},
   "cell_type": "markdown",
   "metadata": {},
   "source": [
    "# Data cleaning\n",
    "\n",
    "In order to clean the data the following steps need to be performed:\n",
    "- remove invalid transactions using 'clean_up_row' using the hash which should always be 0x hash\n",
    "- drop smart contracts: smart contracts which are not proper transactions (receipt_contract_address not null correspond to smart contracts)\n",
    "- drop when from and to address is missing & 'block_timestamp' is missing\n",
    "- drop columns (as are missing attributes) : receipt_status, max_fee_per_gas, max_priority_fee_per_gas, transaction_type     \n",
    "- drop duplicated transactions\n",
    "- create dates (day, month, year, date)\n",
    "- transform data of 'object' type into numeric ('float')\n",
    "                 \n"
   ]
  },
  {
   "cell_type": "code",
   "execution_count": 10,
   "metadata": {},
   "outputs": [],
   "source": [
    "# Remove invalid transaction\n",
    "data = clean_up_row(data)\n",
    "\n",
    "# Remove smart contracts\n",
    "data_no_smart = drop_smart_contract(data)\n",
    "\n",
    "# Drop when from and to address is missing & 'block_timestamp' is missing\n",
    "data_no_miss = drop_missing_data(data_no_smart)\n",
    "\n",
    "# Remove duplicated rows\n",
    "data_no_smart_nodup_nomiss = data_no_miss.drop_duplicates()\n",
    "\n",
    "# Create dates \n",
    "data = create_date(data_no_smart_nodup_nomiss)\n",
    "\n",
    "# transform attributes form 'object' dtype into numeric\n",
    "data['gas'] = data['gas'].astype('float')\n",
    "data['value'] = data['value'].astype('float')\n"
   ]
  },
  {
   "attachments": {},
   "cell_type": "markdown",
   "metadata": {},
   "source": [
    "### check if there are missing values"
   ]
  },
  {
   "cell_type": "code",
   "execution_count": 11,
   "metadata": {},
   "outputs": [
    {
     "data": {
      "text/plain": [
       "hash                           0\n",
       "nonce                          0\n",
       "transaction_index              0\n",
       "from_address                   0\n",
       "to_address                     0\n",
       "value                          0\n",
       "gas                            0\n",
       "gas_price                      0\n",
       "input                          0\n",
       "receipt_cumulative_gas_used    0\n",
       "receipt_gas_used               0\n",
       "receipt_root                   0\n",
       "block_timestamp                0\n",
       "block_number                   0\n",
       "block_hash                     0\n",
       "receipt_effective_gas_price    0\n",
       "dtype: int64"
      ]
     },
     "execution_count": 11,
     "metadata": {},
     "output_type": "execute_result"
    }
   ],
   "source": [
    "data_no_miss.isna().sum()"
   ]
  },
  {
   "attachments": {},
   "cell_type": "markdown",
   "metadata": {},
   "source": [
    "## Feature engineering and Feature transformation"
   ]
  },
  {
   "attachments": {},
   "cell_type": "markdown",
   "metadata": {},
   "source": [
    "### Additional/transformed features\n",
    "\n",
    "1. Compute the gas fees per unit: 'gas_price_unit'\n",
    "2. Compute the value of the transaction divided by the gas: 'value'\n",
    "3. Number of transactions per address form/to\n",
    "4. Number of transactions in the block\n",
    "5. Degree centrality: degree centrality of the addresses form and addresses to, in degree centrality of addresses to and from and out degree centrality of addresses to and form\n"
   ]
  },
  {
   "cell_type": "code",
   "execution_count": 12,
   "metadata": {},
   "outputs": [],
   "source": [
    "#1. Compute the gas fees per unit: 'gas_price_unit'\n",
    "data['gas_price_unit'] = data['gas_price']/data['gas']\n",
    "\n",
    "#2. Compute the value of the transaction divided by the gas: 'value'\n",
    "data['value_div_gas'] = data['value']/data['gas']\n",
    "\n",
    "#3. Number of transactions per address from and to\n",
    "\n",
    "# count number of transaction for each 'address from' in July 2017\n",
    "data['from_address_count'] = data.groupby('from_address')['from_address'].transform('count')\n",
    "# count number of transaction for each 'address to' in July 2017\n",
    "data['to_address_count'] = data.groupby('to_address')['to_address'].transform('count')\n",
    "\n",
    "#4. Number of transactions per block\n",
    "data['block_count'] = data.groupby('block_number')['block_number'].transform('count')"
   ]
  },
  {
   "cell_type": "code",
   "execution_count": 13,
   "metadata": {},
   "outputs": [
    {
     "data": {
      "text/html": [
       "<div>\n",
       "<style scoped>\n",
       "    .dataframe tbody tr th:only-of-type {\n",
       "        vertical-align: middle;\n",
       "    }\n",
       "\n",
       "    .dataframe tbody tr th {\n",
       "        vertical-align: top;\n",
       "    }\n",
       "\n",
       "    .dataframe thead th {\n",
       "        text-align: right;\n",
       "    }\n",
       "</style>\n",
       "<table border=\"1\" class=\"dataframe\">\n",
       "  <thead>\n",
       "    <tr style=\"text-align: right;\">\n",
       "      <th></th>\n",
       "      <th>hash</th>\n",
       "      <th>nonce</th>\n",
       "      <th>transaction_index</th>\n",
       "      <th>from_address</th>\n",
       "      <th>to_address</th>\n",
       "      <th>value</th>\n",
       "      <th>gas</th>\n",
       "      <th>gas_price</th>\n",
       "      <th>input</th>\n",
       "      <th>receipt_cumulative_gas_used</th>\n",
       "      <th>...</th>\n",
       "      <th>date</th>\n",
       "      <th>dates</th>\n",
       "      <th>year</th>\n",
       "      <th>month</th>\n",
       "      <th>day</th>\n",
       "      <th>gas_price_unit</th>\n",
       "      <th>value_div_gas</th>\n",
       "      <th>from_address_count</th>\n",
       "      <th>to_address_count</th>\n",
       "      <th>block_count</th>\n",
       "    </tr>\n",
       "  </thead>\n",
       "  <tbody>\n",
       "    <tr>\n",
       "      <th>399999</th>\n",
       "      <td>0x116731b9bbd756a87bd14e0d717ee5bf3b011bcfe3c7...</td>\n",
       "      <td>0</td>\n",
       "      <td>38</td>\n",
       "      <td>0x4223db6fa17f18bd59ac2f6048d9f7433e3dee77</td>\n",
       "      <td>0x70faa28a6b8d6829a4b1e649d26ec9a2a39ba413</td>\n",
       "      <td>2.395800e+17</td>\n",
       "      <td>21000.0</td>\n",
       "      <td>20000000000</td>\n",
       "      <td>0x</td>\n",
       "      <td>2059821</td>\n",
       "      <td>...</td>\n",
       "      <td>2017-09-15</td>\n",
       "      <td>2017-09-15</td>\n",
       "      <td>2017</td>\n",
       "      <td>9</td>\n",
       "      <td>15</td>\n",
       "      <td>952380.952381</td>\n",
       "      <td>1.140857e+13</td>\n",
       "      <td>1</td>\n",
       "      <td>29901</td>\n",
       "      <td>112</td>\n",
       "    </tr>\n",
       "    <tr>\n",
       "      <th>133968</th>\n",
       "      <td>0x6cc3454d9fd46f3e9db18d9ed325673797b1b48a5447...</td>\n",
       "      <td>1602890</td>\n",
       "      <td>57</td>\n",
       "      <td>0xfbb1b73c4f0bda4f67dca266ce6ef42f520fbb98</td>\n",
       "      <td>0xd94e685ae0497a5c247ef2f7c3462c75bdcf7272</td>\n",
       "      <td>0.000000e+00</td>\n",
       "      <td>150270.0</td>\n",
       "      <td>51000000000</td>\n",
       "      <td>0x6ea056a9000000000000000000000000000000000000...</td>\n",
       "      <td>2382062</td>\n",
       "      <td>...</td>\n",
       "      <td>2017-09-15</td>\n",
       "      <td>2017-09-15</td>\n",
       "      <td>2017</td>\n",
       "      <td>9</td>\n",
       "      <td>15</td>\n",
       "      <td>339389.099621</td>\n",
       "      <td>0.000000e+00</td>\n",
       "      <td>191290</td>\n",
       "      <td>4</td>\n",
       "      <td>157</td>\n",
       "    </tr>\n",
       "    <tr>\n",
       "      <th>133946</th>\n",
       "      <td>0xbe5849cb35690538d2971b7367f14cc7161ebaa34d41...</td>\n",
       "      <td>1600807</td>\n",
       "      <td>56</td>\n",
       "      <td>0xfbb1b73c4f0bda4f67dca266ce6ef42f520fbb98</td>\n",
       "      <td>0x28b1d974532976f43a904945d2bcdcaac4af00a9</td>\n",
       "      <td>0.000000e+00</td>\n",
       "      <td>211965.0</td>\n",
       "      <td>51000000000</td>\n",
       "      <td>0x6ea056a9000000000000000000000000b64ef51c8889...</td>\n",
       "      <td>2510448</td>\n",
       "      <td>...</td>\n",
       "      <td>2017-09-15</td>\n",
       "      <td>2017-09-15</td>\n",
       "      <td>2017</td>\n",
       "      <td>9</td>\n",
       "      <td>15</td>\n",
       "      <td>240605.760385</td>\n",
       "      <td>0.000000e+00</td>\n",
       "      <td>191290</td>\n",
       "      <td>76</td>\n",
       "      <td>132</td>\n",
       "    </tr>\n",
       "    <tr>\n",
       "      <th>133947</th>\n",
       "      <td>0x001c9fd121699611e3bf8c880f35391a25d849c5f3ce...</td>\n",
       "      <td>1591653</td>\n",
       "      <td>175</td>\n",
       "      <td>0xfbb1b73c4f0bda4f67dca266ce6ef42f520fbb98</td>\n",
       "      <td>0xf265bcd226b3f67d92cce6a353ad188b06e6670f</td>\n",
       "      <td>0.000000e+00</td>\n",
       "      <td>150270.0</td>\n",
       "      <td>51000000000</td>\n",
       "      <td>0x6ea056a9000000000000000000000000000000000000...</td>\n",
       "      <td>6418587</td>\n",
       "      <td>...</td>\n",
       "      <td>2017-09-15</td>\n",
       "      <td>2017-09-15</td>\n",
       "      <td>2017</td>\n",
       "      <td>9</td>\n",
       "      <td>15</td>\n",
       "      <td>339389.099621</td>\n",
       "      <td>0.000000e+00</td>\n",
       "      <td>191290</td>\n",
       "      <td>12</td>\n",
       "      <td>172</td>\n",
       "    </tr>\n",
       "    <tr>\n",
       "      <th>133948</th>\n",
       "      <td>0xd4680b73a45af8899edd37baec6fb7f9ca732c8e348d...</td>\n",
       "      <td>1591652</td>\n",
       "      <td>129</td>\n",
       "      <td>0xfbb1b73c4f0bda4f67dca266ce6ef42f520fbb98</td>\n",
       "      <td>0x9c0bf39a11991fe7d3098191cd8fba70c847644e</td>\n",
       "      <td>0.000000e+00</td>\n",
       "      <td>150270.0</td>\n",
       "      <td>51000000000</td>\n",
       "      <td>0x6ea056a9000000000000000000000000000000000000...</td>\n",
       "      <td>2997622</td>\n",
       "      <td>...</td>\n",
       "      <td>2017-09-15</td>\n",
       "      <td>2017-09-15</td>\n",
       "      <td>2017</td>\n",
       "      <td>9</td>\n",
       "      <td>15</td>\n",
       "      <td>339389.099621</td>\n",
       "      <td>0.000000e+00</td>\n",
       "      <td>191290</td>\n",
       "      <td>8</td>\n",
       "      <td>172</td>\n",
       "    </tr>\n",
       "    <tr>\n",
       "      <th>133949</th>\n",
       "      <td>0x1f2ea9925081e62128ccf3899431bea9194619f4dd2b...</td>\n",
       "      <td>1591660</td>\n",
       "      <td>35</td>\n",
       "      <td>0xfbb1b73c4f0bda4f67dca266ce6ef42f520fbb98</td>\n",
       "      <td>0x7514ab845745f2503e7635be3bb96409d53a7b5a</td>\n",
       "      <td>0.000000e+00</td>\n",
       "      <td>150270.0</td>\n",
       "      <td>51000000000</td>\n",
       "      <td>0x6ea056a9000000000000000000000000000000000000...</td>\n",
       "      <td>4642945</td>\n",
       "      <td>...</td>\n",
       "      <td>2017-09-15</td>\n",
       "      <td>2017-09-15</td>\n",
       "      <td>2017</td>\n",
       "      <td>9</td>\n",
       "      <td>15</td>\n",
       "      <td>339389.099621</td>\n",
       "      <td>0.000000e+00</td>\n",
       "      <td>191290</td>\n",
       "      <td>21</td>\n",
       "      <td>59</td>\n",
       "    </tr>\n",
       "    <tr>\n",
       "      <th>133950</th>\n",
       "      <td>0x6c0c847d2aae3815aff8c16f07eb42989d744c37ee48...</td>\n",
       "      <td>1591659</td>\n",
       "      <td>26</td>\n",
       "      <td>0xfbb1b73c4f0bda4f67dca266ce6ef42f520fbb98</td>\n",
       "      <td>0x795c7e7cbbeed34bec82df971fb99848271c781a</td>\n",
       "      <td>0.000000e+00</td>\n",
       "      <td>150270.0</td>\n",
       "      <td>51000000000</td>\n",
       "      <td>0x6ea056a9000000000000000000000000000000000000...</td>\n",
       "      <td>4103934</td>\n",
       "      <td>...</td>\n",
       "      <td>2017-09-15</td>\n",
       "      <td>2017-09-15</td>\n",
       "      <td>2017</td>\n",
       "      <td>9</td>\n",
       "      <td>15</td>\n",
       "      <td>339389.099621</td>\n",
       "      <td>0.000000e+00</td>\n",
       "      <td>191290</td>\n",
       "      <td>2</td>\n",
       "      <td>59</td>\n",
       "    </tr>\n",
       "    <tr>\n",
       "      <th>133951</th>\n",
       "      <td>0x59e974a522de945cced3ccac09d2f3092a71c6ad808f...</td>\n",
       "      <td>1611116</td>\n",
       "      <td>28</td>\n",
       "      <td>0xfbb1b73c4f0bda4f67dca266ce6ef42f520fbb98</td>\n",
       "      <td>0x575d2e446c5ecff8d4c6b8fa25c632dc904f68eb</td>\n",
       "      <td>0.000000e+00</td>\n",
       "      <td>150270.0</td>\n",
       "      <td>51000000000</td>\n",
       "      <td>0x6ea056a9000000000000000000000000000000000000...</td>\n",
       "      <td>952841</td>\n",
       "      <td>...</td>\n",
       "      <td>2017-09-15</td>\n",
       "      <td>2017-09-15</td>\n",
       "      <td>2017</td>\n",
       "      <td>9</td>\n",
       "      <td>15</td>\n",
       "      <td>339389.099621</td>\n",
       "      <td>0.000000e+00</td>\n",
       "      <td>191290</td>\n",
       "      <td>6</td>\n",
       "      <td>151</td>\n",
       "    </tr>\n",
       "    <tr>\n",
       "      <th>133952</th>\n",
       "      <td>0x29d377556098aafea0f4bf695736f13dedb9dcc7142a...</td>\n",
       "      <td>1611115</td>\n",
       "      <td>27</td>\n",
       "      <td>0xfbb1b73c4f0bda4f67dca266ce6ef42f520fbb98</td>\n",
       "      <td>0x74dc84ffc1acc66eece75f00b01b40c26aef4b2f</td>\n",
       "      <td>0.000000e+00</td>\n",
       "      <td>150270.0</td>\n",
       "      <td>51000000000</td>\n",
       "      <td>0x6ea056a9000000000000000000000000000000000000...</td>\n",
       "      <td>902848</td>\n",
       "      <td>...</td>\n",
       "      <td>2017-09-15</td>\n",
       "      <td>2017-09-15</td>\n",
       "      <td>2017</td>\n",
       "      <td>9</td>\n",
       "      <td>15</td>\n",
       "      <td>339389.099621</td>\n",
       "      <td>0.000000e+00</td>\n",
       "      <td>191290</td>\n",
       "      <td>4</td>\n",
       "      <td>151</td>\n",
       "    </tr>\n",
       "    <tr>\n",
       "      <th>133953</th>\n",
       "      <td>0xcb3abcf4f74b35dfa54b265de9b1fab20b439534fb2e...</td>\n",
       "      <td>1604816</td>\n",
       "      <td>27</td>\n",
       "      <td>0xfbb1b73c4f0bda4f67dca266ce6ef42f520fbb98</td>\n",
       "      <td>0xca4b32c83a0f194dc7cbcd18ceafcfc15f6c3be9</td>\n",
       "      <td>0.000000e+00</td>\n",
       "      <td>150270.0</td>\n",
       "      <td>51000000000</td>\n",
       "      <td>0x6ea056a9000000000000000000000000000000000000...</td>\n",
       "      <td>1243472</td>\n",
       "      <td>...</td>\n",
       "      <td>2017-09-15</td>\n",
       "      <td>2017-09-15</td>\n",
       "      <td>2017</td>\n",
       "      <td>9</td>\n",
       "      <td>15</td>\n",
       "      <td>339389.099621</td>\n",
       "      <td>0.000000e+00</td>\n",
       "      <td>191290</td>\n",
       "      <td>6</td>\n",
       "      <td>138</td>\n",
       "    </tr>\n",
       "  </tbody>\n",
       "</table>\n",
       "<p>10 rows × 27 columns</p>\n",
       "</div>"
      ],
      "text/plain": [
       "                                                     hash    nonce  \\\n",
       "399999  0x116731b9bbd756a87bd14e0d717ee5bf3b011bcfe3c7...        0   \n",
       "133968  0x6cc3454d9fd46f3e9db18d9ed325673797b1b48a5447...  1602890   \n",
       "133946  0xbe5849cb35690538d2971b7367f14cc7161ebaa34d41...  1600807   \n",
       "133947  0x001c9fd121699611e3bf8c880f35391a25d849c5f3ce...  1591653   \n",
       "133948  0xd4680b73a45af8899edd37baec6fb7f9ca732c8e348d...  1591652   \n",
       "133949  0x1f2ea9925081e62128ccf3899431bea9194619f4dd2b...  1591660   \n",
       "133950  0x6c0c847d2aae3815aff8c16f07eb42989d744c37ee48...  1591659   \n",
       "133951  0x59e974a522de945cced3ccac09d2f3092a71c6ad808f...  1611116   \n",
       "133952  0x29d377556098aafea0f4bf695736f13dedb9dcc7142a...  1611115   \n",
       "133953  0xcb3abcf4f74b35dfa54b265de9b1fab20b439534fb2e...  1604816   \n",
       "\n",
       "        transaction_index                                from_address  \\\n",
       "399999                 38  0x4223db6fa17f18bd59ac2f6048d9f7433e3dee77   \n",
       "133968                 57  0xfbb1b73c4f0bda4f67dca266ce6ef42f520fbb98   \n",
       "133946                 56  0xfbb1b73c4f0bda4f67dca266ce6ef42f520fbb98   \n",
       "133947                175  0xfbb1b73c4f0bda4f67dca266ce6ef42f520fbb98   \n",
       "133948                129  0xfbb1b73c4f0bda4f67dca266ce6ef42f520fbb98   \n",
       "133949                 35  0xfbb1b73c4f0bda4f67dca266ce6ef42f520fbb98   \n",
       "133950                 26  0xfbb1b73c4f0bda4f67dca266ce6ef42f520fbb98   \n",
       "133951                 28  0xfbb1b73c4f0bda4f67dca266ce6ef42f520fbb98   \n",
       "133952                 27  0xfbb1b73c4f0bda4f67dca266ce6ef42f520fbb98   \n",
       "133953                 27  0xfbb1b73c4f0bda4f67dca266ce6ef42f520fbb98   \n",
       "\n",
       "                                        to_address         value       gas  \\\n",
       "399999  0x70faa28a6b8d6829a4b1e649d26ec9a2a39ba413  2.395800e+17   21000.0   \n",
       "133968  0xd94e685ae0497a5c247ef2f7c3462c75bdcf7272  0.000000e+00  150270.0   \n",
       "133946  0x28b1d974532976f43a904945d2bcdcaac4af00a9  0.000000e+00  211965.0   \n",
       "133947  0xf265bcd226b3f67d92cce6a353ad188b06e6670f  0.000000e+00  150270.0   \n",
       "133948  0x9c0bf39a11991fe7d3098191cd8fba70c847644e  0.000000e+00  150270.0   \n",
       "133949  0x7514ab845745f2503e7635be3bb96409d53a7b5a  0.000000e+00  150270.0   \n",
       "133950  0x795c7e7cbbeed34bec82df971fb99848271c781a  0.000000e+00  150270.0   \n",
       "133951  0x575d2e446c5ecff8d4c6b8fa25c632dc904f68eb  0.000000e+00  150270.0   \n",
       "133952  0x74dc84ffc1acc66eece75f00b01b40c26aef4b2f  0.000000e+00  150270.0   \n",
       "133953  0xca4b32c83a0f194dc7cbcd18ceafcfc15f6c3be9  0.000000e+00  150270.0   \n",
       "\n",
       "          gas_price                                              input  \\\n",
       "399999  20000000000                                                 0x   \n",
       "133968  51000000000  0x6ea056a9000000000000000000000000000000000000...   \n",
       "133946  51000000000  0x6ea056a9000000000000000000000000b64ef51c8889...   \n",
       "133947  51000000000  0x6ea056a9000000000000000000000000000000000000...   \n",
       "133948  51000000000  0x6ea056a9000000000000000000000000000000000000...   \n",
       "133949  51000000000  0x6ea056a9000000000000000000000000000000000000...   \n",
       "133950  51000000000  0x6ea056a9000000000000000000000000000000000000...   \n",
       "133951  51000000000  0x6ea056a9000000000000000000000000000000000000...   \n",
       "133952  51000000000  0x6ea056a9000000000000000000000000000000000000...   \n",
       "133953  51000000000  0x6ea056a9000000000000000000000000000000000000...   \n",
       "\n",
       "        receipt_cumulative_gas_used  ...        date      dates  year  month  \\\n",
       "399999                      2059821  ...  2017-09-15 2017-09-15  2017      9   \n",
       "133968                      2382062  ...  2017-09-15 2017-09-15  2017      9   \n",
       "133946                      2510448  ...  2017-09-15 2017-09-15  2017      9   \n",
       "133947                      6418587  ...  2017-09-15 2017-09-15  2017      9   \n",
       "133948                      2997622  ...  2017-09-15 2017-09-15  2017      9   \n",
       "133949                      4642945  ...  2017-09-15 2017-09-15  2017      9   \n",
       "133950                      4103934  ...  2017-09-15 2017-09-15  2017      9   \n",
       "133951                       952841  ...  2017-09-15 2017-09-15  2017      9   \n",
       "133952                       902848  ...  2017-09-15 2017-09-15  2017      9   \n",
       "133953                      1243472  ...  2017-09-15 2017-09-15  2017      9   \n",
       "\n",
       "       day  gas_price_unit value_div_gas from_address_count to_address_count  \\\n",
       "399999  15   952380.952381  1.140857e+13                  1            29901   \n",
       "133968  15   339389.099621  0.000000e+00             191290                4   \n",
       "133946  15   240605.760385  0.000000e+00             191290               76   \n",
       "133947  15   339389.099621  0.000000e+00             191290               12   \n",
       "133948  15   339389.099621  0.000000e+00             191290                8   \n",
       "133949  15   339389.099621  0.000000e+00             191290               21   \n",
       "133950  15   339389.099621  0.000000e+00             191290                2   \n",
       "133951  15   339389.099621  0.000000e+00             191290                6   \n",
       "133952  15   339389.099621  0.000000e+00             191290                4   \n",
       "133953  15   339389.099621  0.000000e+00             191290                6   \n",
       "\n",
       "       block_count  \n",
       "399999         112  \n",
       "133968         157  \n",
       "133946         132  \n",
       "133947         172  \n",
       "133948         172  \n",
       "133949          59  \n",
       "133950          59  \n",
       "133951         151  \n",
       "133952         151  \n",
       "133953         138  \n",
       "\n",
       "[10 rows x 27 columns]"
      ]
     },
     "execution_count": 13,
     "metadata": {},
     "output_type": "execute_result"
    }
   ],
   "source": [
    "data.head(10)"
   ]
  },
  {
   "attachments": {},
   "cell_type": "markdown",
   "metadata": {},
   "source": [
    "### 5. Degree centrality of the addresses to and from"
   ]
  },
  {
   "cell_type": "code",
   "execution_count": 14,
   "metadata": {},
   "outputs": [
    {
     "name": "stdout",
     "output_type": "stream",
     "text": [
      "df length 3802215\n"
     ]
    },
    {
     "name": "stdout",
     "output_type": "stream",
     "text": [
      "df address only length 1908340\n",
      "3802215\n"
     ]
    }
   ],
   "source": [
    "# Create the graph using network x\n",
    "df_networkx = data[['from_address','to_address']]\n",
    "print('df length', len(df_networkx))\n",
    "\n",
    "df_networkx_nodup = df_networkx.drop_duplicates()\n",
    "print('df address only length',len(df_networkx_nodup))\n",
    "\n",
    "transaction_address = list(zip(df_networkx.from_address,df_networkx.to_address))\n",
    "print(len(transaction_address))"
   ]
  },
  {
   "attachments": {},
   "cell_type": "markdown",
   "metadata": {},
   "source": [
    "Compute adjacency matrix and degree centrality of a multidirected graph"
   ]
  },
  {
   "cell_type": "code",
   "execution_count": 15,
   "metadata": {},
   "outputs": [
    {
     "name": "stdout",
     "output_type": "stream",
     "text": [
      "MultiDiGraph with 1053653 nodes and 3802215 edges\n"
     ]
    }
   ],
   "source": [
    "# DIRECTED GRAPH / MULTI-DIRECTED GRAPH\n",
    "\n",
    "#G = nx.DiGraph()\n",
    "G = nx.MultiDiGraph()\n",
    "G.add_edges_from(transaction_address)\n",
    "print(G)\n"
   ]
  },
  {
   "cell_type": "code",
   "execution_count": 16,
   "metadata": {},
   "outputs": [],
   "source": [
    "degree_centrality=nx.degree_centrality(G)"
   ]
  },
  {
   "cell_type": "code",
   "execution_count": 17,
   "metadata": {},
   "outputs": [
    {
     "data": {
      "text/plain": [
       "1053653"
      ]
     },
     "execution_count": 17,
     "metadata": {},
     "output_type": "execute_result"
    }
   ],
   "source": [
    "# sort the degree centrality\n",
    "degree_centrality_sort = dict(sorted(degree_centrality.items(), key=operator.itemgetter(1), reverse=True))\n",
    "items = degree_centrality_sort.items()\n",
    "len(degree_centrality)"
   ]
  },
  {
   "cell_type": "code",
   "execution_count": 18,
   "metadata": {},
   "outputs": [],
   "source": [
    "degree_centrality_from = pd.DataFrame({'from_address': [i[0] for i in items], 'degree_centrality_from': [i[1] for i in items]})\n",
    "degree_centrality_to = pd.DataFrame({'to_address': [i[0] for i in items], 'degree_centrality_to': [i[1] for i in items]})\n",
    "\n",
    "in_degree_to = pd.DataFrame(G.in_degree, columns=['to_address','in_degree_adr_to'])\n",
    "out_degree_to = pd.DataFrame(G.out_degree,columns=['to_address','out_degree_adr_to'])\n",
    "\n",
    "in_degree_from = pd.DataFrame(G.in_degree, columns=['from_address','in_degree_adr_from'])\n",
    "out_degree_from = pd.DataFrame(G.out_degree,columns=['from_address','out_degree_adr_from'])"
   ]
  },
  {
   "cell_type": "code",
   "execution_count": 19,
   "metadata": {},
   "outputs": [
    {
     "data": {
      "text/html": [
       "<div>\n",
       "<style scoped>\n",
       "    .dataframe tbody tr th:only-of-type {\n",
       "        vertical-align: middle;\n",
       "    }\n",
       "\n",
       "    .dataframe tbody tr th {\n",
       "        vertical-align: top;\n",
       "    }\n",
       "\n",
       "    .dataframe thead th {\n",
       "        text-align: right;\n",
       "    }\n",
       "</style>\n",
       "<table border=\"1\" class=\"dataframe\">\n",
       "  <thead>\n",
       "    <tr style=\"text-align: right;\">\n",
       "      <th></th>\n",
       "      <th>to_address</th>\n",
       "      <th>degree_centrality_to</th>\n",
       "    </tr>\n",
       "  </thead>\n",
       "  <tbody>\n",
       "    <tr>\n",
       "      <th>0</th>\n",
       "      <td>0x8d12a197cb00d4747a1fe03395095ce2a5cc6819</td>\n",
       "      <td>0.232230</td>\n",
       "    </tr>\n",
       "    <tr>\n",
       "      <th>1</th>\n",
       "      <td>0xfbb1b73c4f0bda4f67dca266ce6ef42f520fbb98</td>\n",
       "      <td>0.181554</td>\n",
       "    </tr>\n",
       "    <tr>\n",
       "      <th>2</th>\n",
       "      <td>0x829bd824b016326a401d083b33d092293333a830</td>\n",
       "      <td>0.128800</td>\n",
       "    </tr>\n",
       "    <tr>\n",
       "      <th>3</th>\n",
       "      <td>0xea674fdde714fd979de3edf0f56aa9716b898ec8</td>\n",
       "      <td>0.107216</td>\n",
       "    </tr>\n",
       "    <tr>\n",
       "      <th>4</th>\n",
       "      <td>0x69ea6b31ef305d6b99bb2d4c9d99456fa108b02a</td>\n",
       "      <td>0.102207</td>\n",
       "    </tr>\n",
       "  </tbody>\n",
       "</table>\n",
       "</div>"
      ],
      "text/plain": [
       "                                   to_address  degree_centrality_to\n",
       "0  0x8d12a197cb00d4747a1fe03395095ce2a5cc6819              0.232230\n",
       "1  0xfbb1b73c4f0bda4f67dca266ce6ef42f520fbb98              0.181554\n",
       "2  0x829bd824b016326a401d083b33d092293333a830              0.128800\n",
       "3  0xea674fdde714fd979de3edf0f56aa9716b898ec8              0.107216\n",
       "4  0x69ea6b31ef305d6b99bb2d4c9d99456fa108b02a              0.102207"
      ]
     },
     "execution_count": 19,
     "metadata": {},
     "output_type": "execute_result"
    }
   ],
   "source": [
    "degree_centrality_to.head()"
   ]
  },
  {
   "cell_type": "code",
   "execution_count": 20,
   "metadata": {},
   "outputs": [],
   "source": [
    "# Merge the degree centrality to the transaction data\n",
    "\n",
    "df = data.merge(degree_centrality_from, how='left', on='from_address')\n",
    "df = df.merge(degree_centrality_to, how='left', on='to_address')\n",
    "\n",
    "df = df.merge(in_degree_to, how='left', on='to_address')\n",
    "df = df.merge(out_degree_to, how='left', on='to_address')\n",
    "\n",
    "df = df.merge(in_degree_from, how='left', on='from_address')\n",
    "df = df.merge(out_degree_from, how='left', on='from_address')"
   ]
  },
  {
   "attachments": {},
   "cell_type": "markdown",
   "metadata": {},
   "source": [
    "## Add labels : malicious addresses"
   ]
  },
  {
   "attachments": {},
   "cell_type": "markdown",
   "metadata": {},
   "source": [
    "This are the malicious addresses detected, github \n",
    "\n",
    "url = \"https://raw.githubusercontent.com/MyEtherWallet/ethereum-lists/master/src/addresses/addresses-darklist.json\"\n",
    "\n",
    "Description:\n",
    "Added new address that holds phishing/stolen funds\n",
    "Contains the following fields:\n",
    "\n",
    "- address: can be address to or from \n",
    "- comment: description of the malicous transaction/attack\n",
    "- date: transaction date"
   ]
  },
  {
   "attachments": {},
   "cell_type": "markdown",
   "metadata": {},
   "source": [
    "### Malicious address cleaning:\n",
    "\n",
    "this list has been clean as dates were intially in a different fromat"
   ]
  },
  {
   "cell_type": "code",
   "execution_count": 21,
   "metadata": {},
   "outputs": [
    {
     "data": {
      "text/html": [
       "<div>\n",
       "<style scoped>\n",
       "    .dataframe tbody tr th:only-of-type {\n",
       "        vertical-align: middle;\n",
       "    }\n",
       "\n",
       "    .dataframe tbody tr th {\n",
       "        vertical-align: top;\n",
       "    }\n",
       "\n",
       "    .dataframe thead th {\n",
       "        text-align: right;\n",
       "    }\n",
       "</style>\n",
       "<table border=\"1\" class=\"dataframe\">\n",
       "  <thead>\n",
       "    <tr style=\"text-align: right;\">\n",
       "      <th></th>\n",
       "      <th>address</th>\n",
       "      <th>comment</th>\n",
       "      <th>date;</th>\n",
       "    </tr>\n",
       "  </thead>\n",
       "  <tbody>\n",
       "    <tr>\n",
       "      <th>0</th>\n",
       "      <td>0xDdd6854A002A6fbcDF695385cD5ed630c9E27C3e</td>\n",
       "      <td>Scam address contacted Trust Wallet users in T...</td>\n",
       "      <td>2018-10-25;</td>\n",
       "    </tr>\n",
       "    <tr>\n",
       "      <th>1</th>\n",
       "      <td>0x21918461C6aecA5EAEc825B4746D64a0D4028dF6</td>\n",
       "      <td>Scam address of phishing email sent to leaked ...</td>\n",
       "      <td>2017-09-05;</td>\n",
       "    </tr>\n",
       "    <tr>\n",
       "      <th>2</th>\n",
       "      <td>0xd821dfb705333d2c16e0c0c0be75ce360cca566a</td>\n",
       "      <td>BitJob token sale scam site.</td>\n",
       "      <td>2017-09-12;</td>\n",
       "    </tr>\n",
       "    <tr>\n",
       "      <th>3</th>\n",
       "      <td>0x66817272D39Da7fd4C552F430fC0B694e357c157</td>\n",
       "      <td>Comments on Etherscan are reporting funds bein...</td>\n",
       "      <td>2017-07-19;</td>\n",
       "    </tr>\n",
       "    <tr>\n",
       "      <th>4</th>\n",
       "      <td>0x36db23fd8e0fabb300ba95bfdf4a0f20b05eebfb</td>\n",
       "      <td>FAKE_Tezos</td>\n",
       "      <td>;</td>\n",
       "    </tr>\n",
       "  </tbody>\n",
       "</table>\n",
       "</div>"
      ],
      "text/plain": [
       "                                      address  \\\n",
       "0  0xDdd6854A002A6fbcDF695385cD5ed630c9E27C3e   \n",
       "1  0x21918461C6aecA5EAEc825B4746D64a0D4028dF6   \n",
       "2  0xd821dfb705333d2c16e0c0c0be75ce360cca566a   \n",
       "3  0x66817272D39Da7fd4C552F430fC0B694e357c157   \n",
       "4  0x36db23fd8e0fabb300ba95bfdf4a0f20b05eebfb   \n",
       "\n",
       "                                             comment        date;  \n",
       "0  Scam address contacted Trust Wallet users in T...  2018-10-25;  \n",
       "1  Scam address of phishing email sent to leaked ...  2017-09-05;  \n",
       "2                       BitJob token sale scam site.  2017-09-12;  \n",
       "3  Comments on Etherscan are reporting funds bein...  2017-07-19;  \n",
       "4                                         FAKE_Tezos            ;  "
      ]
     },
     "execution_count": 21,
     "metadata": {},
     "output_type": "execute_result"
    }
   ],
   "source": [
    "darklist = pd.read_csv('darklist.csv',index_col=False, usecols=[\"address\", \"comment\", \"date;\"])\n",
    "darklist.head()"
   ]
  },
  {
   "cell_type": "code",
   "execution_count": 22,
   "metadata": {},
   "outputs": [
    {
     "data": {
      "text/plain": [
       "address     16\n",
       "comment    246\n",
       "date;       16\n",
       "dtype: int64"
      ]
     },
     "execution_count": 22,
     "metadata": {},
     "output_type": "execute_result"
    }
   ],
   "source": [
    "darklist.isna().sum()"
   ]
  },
  {
   "attachments": {},
   "cell_type": "markdown",
   "metadata": {},
   "source": [
    "### add malicous addresses"
   ]
  },
  {
   "cell_type": "code",
   "execution_count": 23,
   "metadata": {},
   "outputs": [],
   "source": [
    "# Merge malicoous addresses on the 'from_address'\n",
    "df = df.merge(darklist, how='left', left_on='from_address', right_on='address')\n",
    "df.loc[df['address'].notna(), 'mal_trans_from'] = 1\n",
    "df.drop(['address',],axis=1,inplace=True)\n",
    "df.rename(columns = {'comment':'comment_from_address_darklst'}, inplace = True)"
   ]
  },
  {
   "cell_type": "code",
   "execution_count": 24,
   "metadata": {},
   "outputs": [],
   "source": [
    "# Merge malicoous addresses on the 'to_address'\n",
    "df = df.merge(darklist, how='left', left_on='to_address', right_on='address')\n",
    "df.loc[df['address'].notna(), 'mal_trans_to'] = 1\n",
    "df.drop(['address',],axis=1,inplace=True)\n",
    "df.rename(columns = {'comment':'comment_to_address_darklst'}, inplace = True)"
   ]
  },
  {
   "cell_type": "code",
   "execution_count": 25,
   "metadata": {},
   "outputs": [
    {
     "data": {
      "text/plain": [
       "hash                                  0\n",
       "nonce                                 0\n",
       "transaction_index                     0\n",
       "from_address                          0\n",
       "to_address                            0\n",
       "value                                 0\n",
       "gas                                   0\n",
       "gas_price                             0\n",
       "input                                 0\n",
       "receipt_cumulative_gas_used           0\n",
       "receipt_gas_used                      0\n",
       "receipt_root                          0\n",
       "block_timestamp                       0\n",
       "block_number                          0\n",
       "block_hash                            0\n",
       "receipt_effective_gas_price           0\n",
       "block_timestamp_str                   0\n",
       "date                                  0\n",
       "dates                                 0\n",
       "year                                  0\n",
       "month                                 0\n",
       "day                                   0\n",
       "gas_price_unit                        0\n",
       "value_div_gas                         0\n",
       "from_address_count                    0\n",
       "to_address_count                      0\n",
       "block_count                           0\n",
       "degree_centrality_from                0\n",
       "degree_centrality_to                  0\n",
       "in_degree_adr_to                      0\n",
       "out_degree_adr_to                     0\n",
       "in_degree_adr_from                    0\n",
       "out_degree_adr_from                   0\n",
       "comment_from_address_darklst    3802206\n",
       "date;_x                         3802182\n",
       "mal_trans_from                  3802182\n",
       "comment_to_address_darklst      3802164\n",
       "date;_y                         3802051\n",
       "mal_trans_to                    3802051\n",
       "dtype: int64"
      ]
     },
     "execution_count": 25,
     "metadata": {},
     "output_type": "execute_result"
    }
   ],
   "source": [
    "df.isna().sum()"
   ]
  },
  {
   "cell_type": "code",
   "execution_count": 26,
   "metadata": {},
   "outputs": [],
   "source": [
    "df.rename(columns = {'date;_x':'date_mal_trans_from','date;_y':'date_mal_trans_to'}, inplace = True)"
   ]
  },
  {
   "cell_type": "code",
   "execution_count": 27,
   "metadata": {},
   "outputs": [
    {
     "data": {
      "text/plain": [
       "transaction_flag\n",
       "0    3801992\n",
       "1        249\n",
       "Name: count, dtype: int64"
      ]
     },
     "execution_count": 27,
     "metadata": {},
     "output_type": "execute_result"
    }
   ],
   "source": [
    "# Check how many times there is an overlap\n",
    "df['transaction_flag'] = 0\n",
    "df.loc[df['mal_trans_from'].notna(),'transaction_flag']=1\n",
    "df.loc[df['mal_trans_to'].notna(),'transaction_flag']=1\n",
    "df['transaction_flag'].value_counts()\n"
   ]
  },
  {
   "cell_type": "code",
   "execution_count": null,
   "metadata": {},
   "outputs": [],
   "source": []
  },
  {
   "cell_type": "code",
   "execution_count": 28,
   "metadata": {},
   "outputs": [
    {
     "name": "stdout",
     "output_type": "stream",
     "text": [
      "Total number of transaction : 3802241, total number of anomalous transactions: 249 (0.006548769528286082)\n"
     ]
    }
   ],
   "source": [
    "anomalous_trans = df['transaction_flag'].value_counts()[1]\n",
    "print(f'Total number of transaction : {len(df)}, total number of anomalous transactions: {anomalous_trans} ({anomalous_trans/len(df)*100})')"
   ]
  },
  {
   "cell_type": "code",
   "execution_count": 29,
   "metadata": {},
   "outputs": [
    {
     "data": {
      "text/plain": [
       "transaction_flag1\n",
       "0    3802182\n",
       "1         59\n",
       "Name: count, dtype: int64"
      ]
     },
     "execution_count": 29,
     "metadata": {},
     "output_type": "execute_result"
    }
   ],
   "source": [
    "df['transaction_flag1'] = 0\n",
    "df['transaction_flag2'] = 0\n",
    "\n",
    "df.loc[df['mal_trans_from'].notna(),'transaction_flag1']=1\n",
    "df.loc[df['mal_trans_to'].notna(),'transaction_flag2']=1\n",
    "df['transaction_flag1'].value_counts()"
   ]
  },
  {
   "cell_type": "code",
   "execution_count": 30,
   "metadata": {},
   "outputs": [
    {
     "data": {
      "text/plain": [
       "transaction_flag2\n",
       "0    3802051\n",
       "1        190\n",
       "Name: count, dtype: int64"
      ]
     },
     "execution_count": 30,
     "metadata": {},
     "output_type": "execute_result"
    }
   ],
   "source": [
    "df['transaction_flag2'].value_counts()"
   ]
  },
  {
   "cell_type": "code",
   "execution_count": 31,
   "metadata": {},
   "outputs": [
    {
     "data": {
      "text/plain": [
       "double_trans_mal\n",
       "0    3801992\n",
       "1        249\n",
       "Name: count, dtype: int64"
      ]
     },
     "execution_count": 31,
     "metadata": {},
     "output_type": "execute_result"
    }
   ],
   "source": [
    "df['double_trans_mal'] = df['transaction_flag1'] + df['transaction_flag2']\n",
    "df['double_trans_mal'].value_counts()"
   ]
  },
  {
   "attachments": {},
   "cell_type": "markdown",
   "metadata": {},
   "source": [
    "For these 35 transaction below both the address to and the address form are flagged as malicious, however the comment is not always the same. the assumption is that is more likely to be received by the malicious address rather than the send by it, so in these corner cases the comment related to the 'to_address' would be considered.\n",
    "Some attack dates and commetns are missing, the merge happened based on the address from and to"
   ]
  },
  {
   "cell_type": "code",
   "execution_count": 32,
   "metadata": {},
   "outputs": [],
   "source": [
    "df['attack_descr'] = df['comment_to_address_darklst'].where(pd.notnull, df['comment_from_address_darklst'])"
   ]
  },
  {
   "cell_type": "code",
   "execution_count": 33,
   "metadata": {},
   "outputs": [],
   "source": [
    "df['attack_date'] = df['date_mal_trans_to'].where(pd.notnull, df['date_mal_trans_from'])"
   ]
  },
  {
   "cell_type": "code",
   "execution_count": 34,
   "metadata": {},
   "outputs": [
    {
     "data": {
      "text/plain": [
       "Index(['hash', 'nonce', 'transaction_index', 'from_address', 'to_address',\n",
       "       'value', 'gas', 'gas_price', 'input', 'receipt_cumulative_gas_used',\n",
       "       'receipt_gas_used', 'receipt_root', 'block_timestamp', 'block_number',\n",
       "       'block_hash', 'receipt_effective_gas_price', 'block_timestamp_str',\n",
       "       'date', 'dates', 'year', 'month', 'day', 'gas_price_unit',\n",
       "       'value_div_gas', 'from_address_count', 'to_address_count',\n",
       "       'block_count', 'degree_centrality_from', 'degree_centrality_to',\n",
       "       'in_degree_adr_to', 'out_degree_adr_to', 'in_degree_adr_from',\n",
       "       'out_degree_adr_from', 'comment_from_address_darklst',\n",
       "       'date_mal_trans_from', 'mal_trans_from', 'comment_to_address_darklst',\n",
       "       'date_mal_trans_to', 'mal_trans_to', 'transaction_flag',\n",
       "       'transaction_flag1', 'transaction_flag2', 'double_trans_mal',\n",
       "       'attack_descr', 'attack_date'],\n",
       "      dtype='object')"
      ]
     },
     "execution_count": 34,
     "metadata": {},
     "output_type": "execute_result"
    }
   ],
   "source": [
    "df.columns"
   ]
  },
  {
   "cell_type": "code",
   "execution_count": 35,
   "metadata": {},
   "outputs": [],
   "source": [
    "X = df"
   ]
  }
 ],
 "metadata": {
  "kernelspec": {
   "display_name": "Python 3",
   "language": "python",
   "name": "python3"
  },
  "language_info": {
   "codemirror_mode": {
    "name": "ipython",
    "version": 3
   },
   "file_extension": ".py",
   "mimetype": "text/x-python",
   "name": "python",
   "nbconvert_exporter": "python",
   "pygments_lexer": "ipython3",
   "version": "3.10.6"
  },
  "orig_nbformat": 4
 },
 "nbformat": 4,
 "nbformat_minor": 2
}
