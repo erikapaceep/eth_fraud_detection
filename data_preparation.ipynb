{
 "cells": [
  {
   "attachments": {},
   "cell_type": "markdown",
   "metadata": {},
   "source": [
    "# Data cleaning and feature engeneering"
   ]
  },
  {
   "cell_type": "code",
   "execution_count": 2,
   "metadata": {},
   "outputs": [],
   "source": [
    "import pandas as pd\n",
    "import numpy as np\n",
    "import seaborn as sns\n",
    "import matplotlib.pyplot as plt\n",
    "from matplotlib import pyplot\n",
    "from utils import create_date, drop_smart_contract, clean_up_row, drop_missing_data\n",
    "\n",
    "import networkx as nx\n",
    "import operator"
   ]
  },
  {
   "attachments": {},
   "cell_type": "markdown",
   "metadata": {},
   "source": [
    "## Import July 2017 data"
   ]
  },
  {
   "cell_type": "code",
   "execution_count": 3,
   "metadata": {},
   "outputs": [
    {
     "name": "stdout",
     "output_type": "stream",
     "text": [
      "Thu Jul 13 14:47:37 2023       \n",
      "+---------------------------------------------------------------------------------------+\n",
      "| NVIDIA-SMI 530.41.03              Driver Version: 530.41.03    CUDA Version: 12.1     |\n",
      "|-----------------------------------------+----------------------+----------------------+\n",
      "| GPU  Name                  Persistence-M| Bus-Id        Disp.A | Volatile Uncorr. ECC |\n",
      "| Fan  Temp  Perf            Pwr:Usage/Cap|         Memory-Usage | GPU-Util  Compute M. |\n",
      "|                                         |                      |               MIG M. |\n",
      "|=========================================+======================+======================|\n",
      "|   0  Quadro RTX 8000                 Off| 00000000:3B:00.0 Off |                  Off |\n",
      "|  0%   35C    P8               26W / 260W|     10MiB / 49152MiB |      0%      Default |\n",
      "|                                         |                      |                  N/A |\n",
      "+-----------------------------------------+----------------------+----------------------+\n",
      "|   1  Quadro RTX 8000                 Off| 00000000:5E:00.0 Off |                  Off |\n",
      "|  0%   32C    P8               17W / 260W|      6MiB / 49152MiB |      0%      Default |\n",
      "|                                         |                      |                  N/A |\n",
      "+-----------------------------------------+----------------------+----------------------+\n",
      "                                                                                         \n",
      "+---------------------------------------------------------------------------------------+\n",
      "| Processes:                                                                            |\n",
      "|  GPU   GI   CI        PID   Type   Process name                            GPU Memory |\n",
      "|        ID   ID                                                             Usage      |\n",
      "|=======================================================================================|\n",
      "|  No running processes found                                                           |\n",
      "+---------------------------------------------------------------------------------------+\n"
     ]
    }
   ],
   "source": [
    "!nvidia-smi"
   ]
  },
  {
   "cell_type": "code",
   "execution_count": 4,
   "metadata": {},
   "outputs": [
    {
     "name": "stderr",
     "output_type": "stream",
     "text": [
      "/tmp/ipykernel_852769/176957785.py:4: DtypeWarning: Columns (6) have mixed types. Specify dtype option on import or set low_memory=False.\n",
      "  eth_20170702 = pd.read_csv(\"https://s3.eu-central-2.wasabisys.com/ethblockchain/eth_trans_20170702.csv\")\n",
      "/tmp/ipykernel_852769/176957785.py:9: DtypeWarning: Columns (11) have mixed types. Specify dtype option on import or set low_memory=False.\n",
      "  eth_20170707 = pd.read_csv(\"https://s3.eu-central-2.wasabisys.com/ethblockchain/eth_trans_20170707.csv\")\n",
      "/tmp/ipykernel_852769/176957785.py:10: DtypeWarning: Columns (11) have mixed types. Specify dtype option on import or set low_memory=False.\n",
      "  eth_20170708 = pd.read_csv(\"https://s3.eu-central-2.wasabisys.com/ethblockchain/eth_trans_20170708.csv\")\n",
      "/tmp/ipykernel_852769/176957785.py:11: DtypeWarning: Columns (11) have mixed types. Specify dtype option on import or set low_memory=False.\n",
      "  eth_20170709 = pd.read_csv(\"https://s3.eu-central-2.wasabisys.com/ethblockchain/eth_trans_20170709.csv\")\n",
      "/tmp/ipykernel_852769/176957785.py:12: DtypeWarning: Columns (11) have mixed types. Specify dtype option on import or set low_memory=False.\n",
      "  eth_20170710 = pd.read_csv(\"https://s3.eu-central-2.wasabisys.com/ethblockchain/eth_trans_20170710.csv\")\n",
      "/tmp/ipykernel_852769/176957785.py:16: DtypeWarning: Columns (11) have mixed types. Specify dtype option on import or set low_memory=False.\n",
      "  eth_20170714 = pd.read_csv(\"https://s3.eu-central-2.wasabisys.com/ethblockchain/eth_trans_20170714.csv\")\n",
      "/tmp/ipykernel_852769/176957785.py:18: DtypeWarning: Columns (11) have mixed types. Specify dtype option on import or set low_memory=False.\n",
      "  eth_20170716 = pd.read_csv(\"https://s3.eu-central-2.wasabisys.com/ethblockchain/eth_trans_20170716.csv\")\n",
      "/tmp/ipykernel_852769/176957785.py:19: DtypeWarning: Columns (11) have mixed types. Specify dtype option on import or set low_memory=False.\n",
      "  eth_20170717 = pd.read_csv(\"https://s3.eu-central-2.wasabisys.com/ethblockchain/eth_trans_20170717.csv\")\n",
      "/tmp/ipykernel_852769/176957785.py:20: DtypeWarning: Columns (11) have mixed types. Specify dtype option on import or set low_memory=False.\n",
      "  eth_20170718 = pd.read_csv(\"https://s3.eu-central-2.wasabisys.com/ethblockchain/eth_trans_20170718.csv\")\n",
      "/tmp/ipykernel_852769/176957785.py:21: DtypeWarning: Columns (11) have mixed types. Specify dtype option on import or set low_memory=False.\n",
      "  eth_20170719 = pd.read_csv(\"https://s3.eu-central-2.wasabisys.com/ethblockchain/eth_trans_20170719.csv\")\n",
      "/tmp/ipykernel_852769/176957785.py:22: DtypeWarning: Columns (11) have mixed types. Specify dtype option on import or set low_memory=False.\n",
      "  eth_20170720 = pd.read_csv(\"https://s3.eu-central-2.wasabisys.com/ethblockchain/eth_trans_20170720.csv\")\n",
      "/tmp/ipykernel_852769/176957785.py:23: DtypeWarning: Columns (11) have mixed types. Specify dtype option on import or set low_memory=False.\n",
      "  eth_20170721 = pd.read_csv(\"https://s3.eu-central-2.wasabisys.com/ethblockchain/eth_trans_20170721.csv\")\n",
      "/tmp/ipykernel_852769/176957785.py:24: DtypeWarning: Columns (11) have mixed types. Specify dtype option on import or set low_memory=False.\n",
      "  eth_20170722 = pd.read_csv(\"https://s3.eu-central-2.wasabisys.com/ethblockchain/eth_trans_20170722.csv\")\n",
      "/tmp/ipykernel_852769/176957785.py:25: DtypeWarning: Columns (11) have mixed types. Specify dtype option on import or set low_memory=False.\n",
      "  eth_20170723 = pd.read_csv(\"https://s3.eu-central-2.wasabisys.com/ethblockchain/eth_trans_20170723.csv\")\n",
      "/tmp/ipykernel_852769/176957785.py:26: DtypeWarning: Columns (5,11) have mixed types. Specify dtype option on import or set low_memory=False.\n",
      "  eth_20170724 = pd.read_csv(\"https://s3.eu-central-2.wasabisys.com/ethblockchain/eth_trans_20170724.csv\")\n",
      "/tmp/ipykernel_852769/176957785.py:29: DtypeWarning: Columns (11) have mixed types. Specify dtype option on import or set low_memory=False.\n",
      "  eth_20170727 = pd.read_csv(\"https://s3.eu-central-2.wasabisys.com/ethblockchain/eth_trans_20170727.csv\")\n",
      "/tmp/ipykernel_852769/176957785.py:31: DtypeWarning: Columns (11) have mixed types. Specify dtype option on import or set low_memory=False.\n",
      "  eth_20170729 = pd.read_csv(\"https://s3.eu-central-2.wasabisys.com/ethblockchain/eth_trans_20170729.csv\")\n",
      "/tmp/ipykernel_852769/176957785.py:32: DtypeWarning: Columns (11) have mixed types. Specify dtype option on import or set low_memory=False.\n",
      "  eth_20170730 = pd.read_csv(\"https://s3.eu-central-2.wasabisys.com/ethblockchain/eth_trans_20170730.csv\")\n",
      "/tmp/ipykernel_852769/176957785.py:33: DtypeWarning: Columns (11) have mixed types. Specify dtype option on import or set low_memory=False.\n",
      "  eth_20170731 = pd.read_csv(\"https://s3.eu-central-2.wasabisys.com/ethblockchain/eth_trans_20170731.csv\")\n"
     ]
    }
   ],
   "source": [
    "# July 2017 data\n",
    "\n",
    "eth_20170701 = pd.read_csv(\"https://s3.eu-central-2.wasabisys.com/ethblockchain/eth_trans_20170701.csv\")\n",
    "eth_20170702 = pd.read_csv(\"https://s3.eu-central-2.wasabisys.com/ethblockchain/eth_trans_20170702.csv\")\n",
    "eth_20170703 = pd.read_csv(\"https://s3.eu-central-2.wasabisys.com/ethblockchain/eth_trans_20170703.csv\")\n",
    "eth_20170704 = pd.read_csv(\"https://s3.eu-central-2.wasabisys.com/ethblockchain/eth_trans_20170704.csv\")\n",
    "eth_20170705 = pd.read_csv(\"https://s3.eu-central-2.wasabisys.com/ethblockchain/eth_trans_20170705.csv\")\n",
    "eth_20170706 = pd.read_csv(\"https://s3.eu-central-2.wasabisys.com/ethblockchain/eth_trans_20170706.csv\")\n",
    "eth_20170707 = pd.read_csv(\"https://s3.eu-central-2.wasabisys.com/ethblockchain/eth_trans_20170707.csv\")\n",
    "eth_20170708 = pd.read_csv(\"https://s3.eu-central-2.wasabisys.com/ethblockchain/eth_trans_20170708.csv\")\n",
    "eth_20170709 = pd.read_csv(\"https://s3.eu-central-2.wasabisys.com/ethblockchain/eth_trans_20170709.csv\")\n",
    "eth_20170710 = pd.read_csv(\"https://s3.eu-central-2.wasabisys.com/ethblockchain/eth_trans_20170710.csv\")\n",
    "eth_20170711 = pd.read_csv(\"https://s3.eu-central-2.wasabisys.com/ethblockchain/eth_trans_20170711.csv\")\n",
    "eth_20170712 = pd.read_csv(\"https://s3.eu-central-2.wasabisys.com/ethblockchain/eth_trans_20170712.csv\")\n",
    "eth_20170713 = pd.read_csv(\"https://s3.eu-central-2.wasabisys.com/ethblockchain/eth_trans_20170713.csv\")\n",
    "eth_20170714 = pd.read_csv(\"https://s3.eu-central-2.wasabisys.com/ethblockchain/eth_trans_20170714.csv\")\n",
    "eth_20170715 = pd.read_csv(\"https://s3.eu-central-2.wasabisys.com/ethblockchain/eth_trans_20170715.csv\")\n",
    "eth_20170716 = pd.read_csv(\"https://s3.eu-central-2.wasabisys.com/ethblockchain/eth_trans_20170716.csv\")\n",
    "eth_20170717 = pd.read_csv(\"https://s3.eu-central-2.wasabisys.com/ethblockchain/eth_trans_20170717.csv\")\n",
    "eth_20170718 = pd.read_csv(\"https://s3.eu-central-2.wasabisys.com/ethblockchain/eth_trans_20170718.csv\")\n",
    "eth_20170719 = pd.read_csv(\"https://s3.eu-central-2.wasabisys.com/ethblockchain/eth_trans_20170719.csv\")\n",
    "eth_20170720 = pd.read_csv(\"https://s3.eu-central-2.wasabisys.com/ethblockchain/eth_trans_20170720.csv\")\n",
    "eth_20170721 = pd.read_csv(\"https://s3.eu-central-2.wasabisys.com/ethblockchain/eth_trans_20170721.csv\")\n",
    "eth_20170722 = pd.read_csv(\"https://s3.eu-central-2.wasabisys.com/ethblockchain/eth_trans_20170722.csv\")\n",
    "eth_20170723 = pd.read_csv(\"https://s3.eu-central-2.wasabisys.com/ethblockchain/eth_trans_20170723.csv\")\n",
    "eth_20170724 = pd.read_csv(\"https://s3.eu-central-2.wasabisys.com/ethblockchain/eth_trans_20170724.csv\")\n",
    "eth_20170725 = pd.read_csv(\"https://s3.eu-central-2.wasabisys.com/ethblockchain/eth_trans_20170725.csv\")\n",
    "eth_20170726 = pd.read_csv(\"https://s3.eu-central-2.wasabisys.com/ethblockchain/eth_trans_20170726.csv\")\n",
    "eth_20170727 = pd.read_csv(\"https://s3.eu-central-2.wasabisys.com/ethblockchain/eth_trans_20170727.csv\")\n",
    "eth_20170728 = pd.read_csv(\"https://s3.eu-central-2.wasabisys.com/ethblockchain/eth_trans_20170728.csv\")\n",
    "eth_20170729 = pd.read_csv(\"https://s3.eu-central-2.wasabisys.com/ethblockchain/eth_trans_20170729.csv\")\n",
    "eth_20170730 = pd.read_csv(\"https://s3.eu-central-2.wasabisys.com/ethblockchain/eth_trans_20170730.csv\")\n",
    "eth_20170731 = pd.read_csv(\"https://s3.eu-central-2.wasabisys.com/ethblockchain/eth_trans_20170731.csv\")"
   ]
  },
  {
   "cell_type": "code",
   "execution_count": 5,
   "metadata": {},
   "outputs": [
    {
     "name": "stdout",
     "output_type": "stream",
     "text": [
      "Thu Jul 13 14:51:15 2023       \n",
      "+---------------------------------------------------------------------------------------+\n",
      "| NVIDIA-SMI 530.41.03              Driver Version: 530.41.03    CUDA Version: 12.1     |\n",
      "|-----------------------------------------+----------------------+----------------------+\n",
      "| GPU  Name                  Persistence-M| Bus-Id        Disp.A | Volatile Uncorr. ECC |\n",
      "| Fan  Temp  Perf            Pwr:Usage/Cap|         Memory-Usage | GPU-Util  Compute M. |\n",
      "|                                         |                      |               MIG M. |\n",
      "|=========================================+======================+======================|\n",
      "|   0  Quadro RTX 8000                 Off| 00000000:3B:00.0 Off |                  Off |\n",
      "|  0%   35C    P8               26W / 260W|     10MiB / 49152MiB |      0%      Default |\n",
      "|                                         |                      |                  N/A |\n",
      "+-----------------------------------------+----------------------+----------------------+\n",
      "|   1  Quadro RTX 8000                 Off| 00000000:5E:00.0 Off |                  Off |\n",
      "|  0%   32C    P8               16W / 260W|      6MiB / 49152MiB |      0%      Default |\n",
      "|                                         |                      |                  N/A |\n",
      "+-----------------------------------------+----------------------+----------------------+\n",
      "                                                                                         \n",
      "+---------------------------------------------------------------------------------------+\n",
      "| Processes:                                                                            |\n",
      "|  GPU   GI   CI        PID   Type   Process name                            GPU Memory |\n",
      "|        ID   ID                                                             Usage      |\n",
      "|=======================================================================================|\n",
      "|  No running processes found                                                           |\n",
      "+---------------------------------------------------------------------------------------+\n"
     ]
    }
   ],
   "source": [
    "!nvidia-smi"
   ]
  },
  {
   "cell_type": "code",
   "execution_count": 6,
   "metadata": {},
   "outputs": [],
   "source": [
    "data = pd.concat([eth_20170701,eth_20170702,eth_20170703,\n",
    "                        eth_20170704,eth_20170705,eth_20170706,\n",
    "                        eth_20170707,eth_20170708, eth_20170709, \n",
    "                        eth_20170710,eth_20170711,eth_20170712, eth_20170713,\n",
    "                        eth_20170714,eth_20170715,eth_20170716, eth_20170717,\n",
    "                        eth_20170718,eth_20170719,eth_20170720, eth_20170721,\n",
    "                        eth_20170722,eth_20170723,\n",
    "                        eth_20170724, \n",
    "                        eth_20170725,\n",
    "                        eth_20170726,eth_20170727,eth_20170728, \n",
    "                        eth_20170729,\n",
    "                        eth_20170730, eth_20170731])"
   ]
  },
  {
   "attachments": {},
   "cell_type": "markdown",
   "metadata": {},
   "source": [
    "# Missing values check"
   ]
  },
  {
   "cell_type": "code",
   "execution_count": 7,
   "metadata": {},
   "outputs": [
    {
     "data": {
      "text/plain": [
       "hash                                 0\n",
       "nonce                                0\n",
       "transaction_index                    0\n",
       "from_address                         6\n",
       "to_address                      123797\n",
       "value                                6\n",
       "gas                                  0\n",
       "gas_price                            0\n",
       "input                                0\n",
       "receipt_cumulative_gas_used         12\n",
       "receipt_gas_used                    12\n",
       "receipt_contract_address       7734758\n",
       "receipt_root                         6\n",
       "receipt_status                 7858555\n",
       "block_timestamp                     12\n",
       "block_number                        12\n",
       "block_hash                          12\n",
       "max_fee_per_gas                7858555\n",
       "max_priority_fee_per_gas       7858555\n",
       "transaction_type               7858555\n",
       "receipt_effective_gas_price         12\n",
       "dtype: int64"
      ]
     },
     "execution_count": 7,
     "metadata": {},
     "output_type": "execute_result"
    }
   ],
   "source": [
    "data.isna().sum()"
   ]
  },
  {
   "attachments": {},
   "cell_type": "markdown",
   "metadata": {},
   "source": [
    "# Data cleaning\n",
    "\n",
    "In order to clean the data the following steps need to be performed:\n",
    "- remove invalid transactions using 'clean_up_row' using the hash which should always be 0x hash\n",
    "- drop smart contracts: smart contracts which are not proper transactions (receipt_contract_address not null correspond to smart contracts)\n",
    "- drop when from and to address is missing & 'block_timestamp' is missing\n",
    "- drop columns (as are missing attributes) : receipt_status, max_fee_per_gas, max_priority_fee_per_gas, transaction_type     \n",
    "- drop duplicated transactions\n",
    "- create dates (day, month, year, date)\n",
    "- transform data of 'object' type into numeric ('float')\n",
    "                 \n"
   ]
  },
  {
   "cell_type": "code",
   "execution_count": 8,
   "metadata": {},
   "outputs": [
    {
     "name": "stderr",
     "output_type": "stream",
     "text": [
      "/home/erika/eth_fraud_detection/utils.py:40: SettingWithCopyWarning: \n",
      "A value is trying to be set on a copy of a slice from a DataFrame\n",
      "\n",
      "See the caveats in the documentation: https://pandas.pydata.org/pandas-docs/stable/user_guide/indexing.html#returning-a-view-versus-a-copy\n",
      "  data_drop.drop(columns=['check_hash'], inplace=True)\n",
      "/home/erika/eth_fraud_detection/utils.py:51: SettingWithCopyWarning: \n",
      "A value is trying to be set on a copy of a slice from a DataFrame\n",
      "\n",
      "See the caveats in the documentation: https://pandas.pydata.org/pandas-docs/stable/user_guide/indexing.html#returning-a-view-versus-a-copy\n",
      "  data_no_missing_date.drop(['receipt_status', 'max_fee_per_gas', 'max_priority_fee_per_gas', 'transaction_type','receipt_contract_address'],axis=1,inplace=True)\n",
      "/home/erika/eth_fraud_detection/utils.py:6: SettingWithCopyWarning: \n",
      "A value is trying to be set on a copy of a slice from a DataFrame.\n",
      "Try using .loc[row_indexer,col_indexer] = value instead\n",
      "\n",
      "See the caveats in the documentation: https://pandas.pydata.org/pandas-docs/stable/user_guide/indexing.html#returning-a-view-versus-a-copy\n",
      "  data_nodup['block_timestamp_str'] = data_nodup['block_timestamp'].astype(str)\n",
      "/home/erika/eth_fraud_detection/utils.py:7: SettingWithCopyWarning: \n",
      "A value is trying to be set on a copy of a slice from a DataFrame.\n",
      "Try using .loc[row_indexer,col_indexer] = value instead\n",
      "\n",
      "See the caveats in the documentation: https://pandas.pydata.org/pandas-docs/stable/user_guide/indexing.html#returning-a-view-versus-a-copy\n",
      "  data_nodup['date'] = data_nodup['block_timestamp_str'].str.slice(start=0,stop=10)\n",
      "/home/erika/eth_fraud_detection/utils.py:9: SettingWithCopyWarning: \n",
      "A value is trying to be set on a copy of a slice from a DataFrame.\n",
      "Try using .loc[row_indexer,col_indexer] = value instead\n",
      "\n",
      "See the caveats in the documentation: https://pandas.pydata.org/pandas-docs/stable/user_guide/indexing.html#returning-a-view-versus-a-copy\n",
      "  data_nodup['dates'] = pd.to_datetime(data_nodup['date'], format='%Y-%m-%d')\n",
      "/home/erika/eth_fraud_detection/utils.py:11: SettingWithCopyWarning: \n",
      "A value is trying to be set on a copy of a slice from a DataFrame.\n",
      "Try using .loc[row_indexer,col_indexer] = value instead\n",
      "\n",
      "See the caveats in the documentation: https://pandas.pydata.org/pandas-docs/stable/user_guide/indexing.html#returning-a-view-versus-a-copy\n",
      "  data_nodup['year'] = data_nodup['block_timestamp_str'].str.slice(start=0,stop=4)\n",
      "/home/erika/eth_fraud_detection/utils.py:14: SettingWithCopyWarning: \n",
      "A value is trying to be set on a copy of a slice from a DataFrame.\n",
      "Try using .loc[row_indexer,col_indexer] = value instead\n",
      "\n",
      "See the caveats in the documentation: https://pandas.pydata.org/pandas-docs/stable/user_guide/indexing.html#returning-a-view-versus-a-copy\n",
      "  data_nodup['month'] = data_nodup['block_timestamp_str'].str.slice(start=5,stop=7)\n",
      "/home/erika/eth_fraud_detection/utils.py:15: SettingWithCopyWarning: \n",
      "A value is trying to be set on a copy of a slice from a DataFrame.\n",
      "Try using .loc[row_indexer,col_indexer] = value instead\n",
      "\n",
      "See the caveats in the documentation: https://pandas.pydata.org/pandas-docs/stable/user_guide/indexing.html#returning-a-view-versus-a-copy\n",
      "  data_nodup['month'] = pd.to_numeric(data_nodup['month'])\n",
      "/home/erika/eth_fraud_detection/utils.py:17: SettingWithCopyWarning: \n",
      "A value is trying to be set on a copy of a slice from a DataFrame.\n",
      "Try using .loc[row_indexer,col_indexer] = value instead\n",
      "\n",
      "See the caveats in the documentation: https://pandas.pydata.org/pandas-docs/stable/user_guide/indexing.html#returning-a-view-versus-a-copy\n",
      "  data_nodup['day'] = data_nodup['block_timestamp_str'].str.slice(start=8,stop=10)\n",
      "/home/erika/eth_fraud_detection/utils.py:18: SettingWithCopyWarning: \n",
      "A value is trying to be set on a copy of a slice from a DataFrame.\n",
      "Try using .loc[row_indexer,col_indexer] = value instead\n",
      "\n",
      "See the caveats in the documentation: https://pandas.pydata.org/pandas-docs/stable/user_guide/indexing.html#returning-a-view-versus-a-copy\n",
      "  data_nodup['day'] = pd.to_numeric(data_nodup['day'])\n",
      "/home/erika/eth_fraud_detection/utils.py:20: SettingWithCopyWarning: \n",
      "A value is trying to be set on a copy of a slice from a DataFrame\n",
      "\n",
      "See the caveats in the documentation: https://pandas.pydata.org/pandas-docs/stable/user_guide/indexing.html#returning-a-view-versus-a-copy\n",
      "  data_nodup.sort_values(by=['dates'],ascending=False, inplace=True)\n",
      "/tmp/ipykernel_852769/2306600404.py:17: SettingWithCopyWarning: \n",
      "A value is trying to be set on a copy of a slice from a DataFrame.\n",
      "Try using .loc[row_indexer,col_indexer] = value instead\n",
      "\n",
      "See the caveats in the documentation: https://pandas.pydata.org/pandas-docs/stable/user_guide/indexing.html#returning-a-view-versus-a-copy\n",
      "  data['gas'] = data['gas'].astype('float')\n",
      "/tmp/ipykernel_852769/2306600404.py:18: SettingWithCopyWarning: \n",
      "A value is trying to be set on a copy of a slice from a DataFrame.\n",
      "Try using .loc[row_indexer,col_indexer] = value instead\n",
      "\n",
      "See the caveats in the documentation: https://pandas.pydata.org/pandas-docs/stable/user_guide/indexing.html#returning-a-view-versus-a-copy\n",
      "  data['value'] = data['value'].astype('float')\n"
     ]
    }
   ],
   "source": [
    "# Remove invalid transaction\n",
    "data = clean_up_row(data)\n",
    "\n",
    "# Remove smart contracts\n",
    "data_no_smart = drop_smart_contract(data)\n",
    "\n",
    "# Drop when from and to address is missing & 'block_timestamp' is missing\n",
    "data_no_miss = drop_missing_data(data_no_smart)\n",
    "\n",
    "# Remove duplicated rows\n",
    "data_no_smart_nodup_nomiss = data_no_miss.drop_duplicates()\n",
    "\n",
    "# Create dates \n",
    "data = create_date(data_no_smart_nodup_nomiss)\n",
    "\n",
    "# transform attributes form 'object' dtype into numeric\n",
    "data['gas'] = data['gas'].astype('float')\n",
    "data['value'] = data['value'].astype('float')\n"
   ]
  },
  {
   "attachments": {},
   "cell_type": "markdown",
   "metadata": {},
   "source": [
    "### check if there are missing values"
   ]
  },
  {
   "cell_type": "code",
   "execution_count": 9,
   "metadata": {},
   "outputs": [
    {
     "data": {
      "text/plain": [
       "hash                           0\n",
       "nonce                          0\n",
       "transaction_index              0\n",
       "from_address                   0\n",
       "to_address                     0\n",
       "value                          0\n",
       "gas                            0\n",
       "gas_price                      0\n",
       "input                          0\n",
       "receipt_cumulative_gas_used    0\n",
       "receipt_gas_used               0\n",
       "receipt_root                   0\n",
       "block_timestamp                0\n",
       "block_number                   0\n",
       "block_hash                     0\n",
       "receipt_effective_gas_price    0\n",
       "dtype: int64"
      ]
     },
     "execution_count": 9,
     "metadata": {},
     "output_type": "execute_result"
    }
   ],
   "source": [
    "data_no_miss.isna().sum()"
   ]
  },
  {
   "attachments": {},
   "cell_type": "markdown",
   "metadata": {},
   "source": [
    "## Feature engineering and Feature transformation"
   ]
  },
  {
   "attachments": {},
   "cell_type": "markdown",
   "metadata": {},
   "source": [
    "### Additional/transformed features\n",
    "\n",
    "1. Compute the gas fees per unit: 'gas_price_unit'\n",
    "2. Compute the value of the transaction divided by the gas: 'value'\n",
    "3. Number of transactions per address form/to\n",
    "4. Number of transactions in the block\n",
    "5. Degree centrality: degree centrality of the addresses form and addresses to, in degree centrality of addresses to and from and out degree centrality of addresses to and form\n"
   ]
  },
  {
   "cell_type": "code",
   "execution_count": 10,
   "metadata": {},
   "outputs": [
    {
     "name": "stderr",
     "output_type": "stream",
     "text": [
      "/tmp/ipykernel_852769/2886425835.py:2: SettingWithCopyWarning: \n",
      "A value is trying to be set on a copy of a slice from a DataFrame.\n",
      "Try using .loc[row_indexer,col_indexer] = value instead\n",
      "\n",
      "See the caveats in the documentation: https://pandas.pydata.org/pandas-docs/stable/user_guide/indexing.html#returning-a-view-versus-a-copy\n",
      "  data['gas_price_unit'] = data['gas_price']/data['gas']\n",
      "/tmp/ipykernel_852769/2886425835.py:5: SettingWithCopyWarning: \n",
      "A value is trying to be set on a copy of a slice from a DataFrame.\n",
      "Try using .loc[row_indexer,col_indexer] = value instead\n",
      "\n",
      "See the caveats in the documentation: https://pandas.pydata.org/pandas-docs/stable/user_guide/indexing.html#returning-a-view-versus-a-copy\n",
      "  data['value_div_gas'] = data['value']/data['gas']\n",
      "/tmp/ipykernel_852769/2886425835.py:10: SettingWithCopyWarning: \n",
      "A value is trying to be set on a copy of a slice from a DataFrame.\n",
      "Try using .loc[row_indexer,col_indexer] = value instead\n",
      "\n",
      "See the caveats in the documentation: https://pandas.pydata.org/pandas-docs/stable/user_guide/indexing.html#returning-a-view-versus-a-copy\n",
      "  data['from_address_count'] = data.groupby('from_address')['from_address'].transform('count')\n",
      "/tmp/ipykernel_852769/2886425835.py:12: SettingWithCopyWarning: \n",
      "A value is trying to be set on a copy of a slice from a DataFrame.\n",
      "Try using .loc[row_indexer,col_indexer] = value instead\n",
      "\n",
      "See the caveats in the documentation: https://pandas.pydata.org/pandas-docs/stable/user_guide/indexing.html#returning-a-view-versus-a-copy\n",
      "  data['to_address_count'] = data.groupby('to_address')['to_address'].transform('count')\n",
      "/tmp/ipykernel_852769/2886425835.py:15: SettingWithCopyWarning: \n",
      "A value is trying to be set on a copy of a slice from a DataFrame.\n",
      "Try using .loc[row_indexer,col_indexer] = value instead\n",
      "\n",
      "See the caveats in the documentation: https://pandas.pydata.org/pandas-docs/stable/user_guide/indexing.html#returning-a-view-versus-a-copy\n",
      "  data['block_count'] = data.groupby('block_number')['block_number'].transform('count')\n"
     ]
    }
   ],
   "source": [
    "#1. Compute the gas fees per unit: 'gas_price_unit'\n",
    "data['gas_price_unit'] = data['gas_price']/data['gas']\n",
    "\n",
    "#2. Compute the value of the transaction divided by the gas: 'value'\n",
    "data['value_div_gas'] = data['value']/data['gas']\n",
    "\n",
    "#3. Number of transactions per address from and to\n",
    "\n",
    "# count number of transaction for each 'address from' in July 2017\n",
    "data['from_address_count'] = data.groupby('from_address')['from_address'].transform('count')\n",
    "# count number of transaction for each 'address to' in July 2017\n",
    "data['to_address_count'] = data.groupby('to_address')['to_address'].transform('count')\n",
    "\n",
    "#4. Number of transactions per block\n",
    "data['block_count'] = data.groupby('block_number')['block_number'].transform('count')"
   ]
  },
  {
   "cell_type": "code",
   "execution_count": 11,
   "metadata": {},
   "outputs": [
    {
     "data": {
      "text/html": [
       "<div>\n",
       "<style scoped>\n",
       "    .dataframe tbody tr th:only-of-type {\n",
       "        vertical-align: middle;\n",
       "    }\n",
       "\n",
       "    .dataframe tbody tr th {\n",
       "        vertical-align: top;\n",
       "    }\n",
       "\n",
       "    .dataframe thead th {\n",
       "        text-align: right;\n",
       "    }\n",
       "</style>\n",
       "<table border=\"1\" class=\"dataframe\">\n",
       "  <thead>\n",
       "    <tr style=\"text-align: right;\">\n",
       "      <th></th>\n",
       "      <th>hash</th>\n",
       "      <th>nonce</th>\n",
       "      <th>transaction_index</th>\n",
       "      <th>from_address</th>\n",
       "      <th>to_address</th>\n",
       "      <th>value</th>\n",
       "      <th>gas</th>\n",
       "      <th>gas_price</th>\n",
       "      <th>input</th>\n",
       "      <th>receipt_cumulative_gas_used</th>\n",
       "      <th>...</th>\n",
       "      <th>date</th>\n",
       "      <th>dates</th>\n",
       "      <th>year</th>\n",
       "      <th>month</th>\n",
       "      <th>day</th>\n",
       "      <th>gas_price_unit</th>\n",
       "      <th>value_div_gas</th>\n",
       "      <th>from_address_count</th>\n",
       "      <th>to_address_count</th>\n",
       "      <th>block_count</th>\n",
       "    </tr>\n",
       "  </thead>\n",
       "  <tbody>\n",
       "    <tr>\n",
       "      <th>250089</th>\n",
       "      <td>0x2d317333817c3779820ca82b1868df15f1d6ab6266f8...</td>\n",
       "      <td>5</td>\n",
       "      <td>1</td>\n",
       "      <td>0xa03f8b4f191d0968434c86fd51e87a3c4a76dad0</td>\n",
       "      <td>0x701c244b988a513c945973defa05de933b23fe1d</td>\n",
       "      <td>0.000000e+00</td>\n",
       "      <td>53759.0</td>\n",
       "      <td>60000000000</td>\n",
       "      <td>0xa9059cbb000000000000000000000000f06821ee497f...</td>\n",
       "      <td>74758.0</td>\n",
       "      <td>...</td>\n",
       "      <td>2017-07-31</td>\n",
       "      <td>2017-07-31</td>\n",
       "      <td>2017</td>\n",
       "      <td>7</td>\n",
       "      <td>31</td>\n",
       "      <td>1.116092e+06</td>\n",
       "      <td>0.000000e+00</td>\n",
       "      <td>3</td>\n",
       "      <td>4858</td>\n",
       "      <td>171</td>\n",
       "    </tr>\n",
       "    <tr>\n",
       "      <th>84335</th>\n",
       "      <td>0xd02ee2ee492df8f41ebedc7c6776447e083b11eaa4d9...</td>\n",
       "      <td>2596723</td>\n",
       "      <td>172</td>\n",
       "      <td>0x52bc44d5378309ee2abf1539bf71de1b7d7be3b5</td>\n",
       "      <td>0x506af58f95e07f09573e5b7ed738c979c0650276</td>\n",
       "      <td>5.459820e+17</td>\n",
       "      <td>50000.0</td>\n",
       "      <td>4000000000</td>\n",
       "      <td>0x</td>\n",
       "      <td>5307522.0</td>\n",
       "      <td>...</td>\n",
       "      <td>2017-07-31</td>\n",
       "      <td>2017-07-31</td>\n",
       "      <td>2017</td>\n",
       "      <td>7</td>\n",
       "      <td>31</td>\n",
       "      <td>8.000000e+04</td>\n",
       "      <td>1.091964e+13</td>\n",
       "      <td>357662</td>\n",
       "      <td>32</td>\n",
       "      <td>180</td>\n",
       "    </tr>\n",
       "    <tr>\n",
       "      <th>84363</th>\n",
       "      <td>0x560d87cc1f5c33497218339ee8aa29f4413cd14cf12a...</td>\n",
       "      <td>2591374</td>\n",
       "      <td>15</td>\n",
       "      <td>0x52bc44d5378309ee2abf1539bf71de1b7d7be3b5</td>\n",
       "      <td>0x42e270f06f0ce4252f9032f639380038d129c914</td>\n",
       "      <td>2.077429e+17</td>\n",
       "      <td>50000.0</td>\n",
       "      <td>4000000000</td>\n",
       "      <td>0x</td>\n",
       "      <td>336000.0</td>\n",
       "      <td>...</td>\n",
       "      <td>2017-07-31</td>\n",
       "      <td>2017-07-31</td>\n",
       "      <td>2017</td>\n",
       "      <td>7</td>\n",
       "      <td>31</td>\n",
       "      <td>8.000000e+04</td>\n",
       "      <td>4.154859e+12</td>\n",
       "      <td>357662</td>\n",
       "      <td>43</td>\n",
       "      <td>93</td>\n",
       "    </tr>\n",
       "    <tr>\n",
       "      <th>84362</th>\n",
       "      <td>0x8f1feefa33ce5e4dbce38bb2a5907a4b27b6c60d9ee8...</td>\n",
       "      <td>2591369</td>\n",
       "      <td>10</td>\n",
       "      <td>0x52bc44d5378309ee2abf1539bf71de1b7d7be3b5</td>\n",
       "      <td>0xfa424128b73ce871a5edbc88d672ebbe5a26eac7</td>\n",
       "      <td>2.178482e+17</td>\n",
       "      <td>50000.0</td>\n",
       "      <td>4000000000</td>\n",
       "      <td>0x</td>\n",
       "      <td>231000.0</td>\n",
       "      <td>...</td>\n",
       "      <td>2017-07-31</td>\n",
       "      <td>2017-07-31</td>\n",
       "      <td>2017</td>\n",
       "      <td>7</td>\n",
       "      <td>31</td>\n",
       "      <td>8.000000e+04</td>\n",
       "      <td>4.356964e+12</td>\n",
       "      <td>357662</td>\n",
       "      <td>56</td>\n",
       "      <td>93</td>\n",
       "    </tr>\n",
       "    <tr>\n",
       "      <th>84361</th>\n",
       "      <td>0xfa04007468cad826de461815e7ade1f7e1b69013fddf...</td>\n",
       "      <td>2591373</td>\n",
       "      <td>14</td>\n",
       "      <td>0x52bc44d5378309ee2abf1539bf71de1b7d7be3b5</td>\n",
       "      <td>0xa8129c97f2da699ba111374beb2638b633d5fd64</td>\n",
       "      <td>5.256675e+16</td>\n",
       "      <td>50000.0</td>\n",
       "      <td>4000000000</td>\n",
       "      <td>0x</td>\n",
       "      <td>315000.0</td>\n",
       "      <td>...</td>\n",
       "      <td>2017-07-31</td>\n",
       "      <td>2017-07-31</td>\n",
       "      <td>2017</td>\n",
       "      <td>7</td>\n",
       "      <td>31</td>\n",
       "      <td>8.000000e+04</td>\n",
       "      <td>1.051335e+12</td>\n",
       "      <td>357662</td>\n",
       "      <td>60</td>\n",
       "      <td>93</td>\n",
       "    </tr>\n",
       "    <tr>\n",
       "      <th>84360</th>\n",
       "      <td>0x46be27278a1398a6405e6521770ad60812b842976e9a...</td>\n",
       "      <td>2591386</td>\n",
       "      <td>86</td>\n",
       "      <td>0x52bc44d5378309ee2abf1539bf71de1b7d7be3b5</td>\n",
       "      <td>0x25ce7fa377c1bdd77d835f97d291493c65e44498</td>\n",
       "      <td>5.225656e+16</td>\n",
       "      <td>50000.0</td>\n",
       "      <td>4000000000</td>\n",
       "      <td>0x</td>\n",
       "      <td>3037752.0</td>\n",
       "      <td>...</td>\n",
       "      <td>2017-07-31</td>\n",
       "      <td>2017-07-31</td>\n",
       "      <td>2017</td>\n",
       "      <td>7</td>\n",
       "      <td>31</td>\n",
       "      <td>8.000000e+04</td>\n",
       "      <td>1.045131e+12</td>\n",
       "      <td>357662</td>\n",
       "      <td>13</td>\n",
       "      <td>93</td>\n",
       "    </tr>\n",
       "    <tr>\n",
       "      <th>84359</th>\n",
       "      <td>0xc61ef1bdf4502d260e45da86838225e78df868185ea5...</td>\n",
       "      <td>2591362</td>\n",
       "      <td>3</td>\n",
       "      <td>0x52bc44d5378309ee2abf1539bf71de1b7d7be3b5</td>\n",
       "      <td>0x3b4c1fcb3719d8351fcd4450a3cc5c41ae15392f</td>\n",
       "      <td>2.049427e+17</td>\n",
       "      <td>50000.0</td>\n",
       "      <td>4000000000</td>\n",
       "      <td>0x</td>\n",
       "      <td>84000.0</td>\n",
       "      <td>...</td>\n",
       "      <td>2017-07-31</td>\n",
       "      <td>2017-07-31</td>\n",
       "      <td>2017</td>\n",
       "      <td>7</td>\n",
       "      <td>31</td>\n",
       "      <td>8.000000e+04</td>\n",
       "      <td>4.098854e+12</td>\n",
       "      <td>357662</td>\n",
       "      <td>5</td>\n",
       "      <td>93</td>\n",
       "    </tr>\n",
       "    <tr>\n",
       "      <th>84358</th>\n",
       "      <td>0x9fefa4cda61c7602968d91853e457632150e03a864f1...</td>\n",
       "      <td>2591366</td>\n",
       "      <td>7</td>\n",
       "      <td>0x52bc44d5378309ee2abf1539bf71de1b7d7be3b5</td>\n",
       "      <td>0x9d8264af58c7771f615ac5021f6ac914ea44f59f</td>\n",
       "      <td>6.657075e+16</td>\n",
       "      <td>50000.0</td>\n",
       "      <td>4000000000</td>\n",
       "      <td>0x</td>\n",
       "      <td>168000.0</td>\n",
       "      <td>...</td>\n",
       "      <td>2017-07-31</td>\n",
       "      <td>2017-07-31</td>\n",
       "      <td>2017</td>\n",
       "      <td>7</td>\n",
       "      <td>31</td>\n",
       "      <td>8.000000e+04</td>\n",
       "      <td>1.331415e+12</td>\n",
       "      <td>357662</td>\n",
       "      <td>26</td>\n",
       "      <td>93</td>\n",
       "    </tr>\n",
       "    <tr>\n",
       "      <th>84357</th>\n",
       "      <td>0x25ad8d634e15c0bb63b8a7bb4d7f94fd91483a777203...</td>\n",
       "      <td>2591382</td>\n",
       "      <td>75</td>\n",
       "      <td>0x52bc44d5378309ee2abf1539bf71de1b7d7be3b5</td>\n",
       "      <td>0x8201f4c2340384b96a48d34b3c7fef3abcaa7ec4</td>\n",
       "      <td>2.009226e+17</td>\n",
       "      <td>50000.0</td>\n",
       "      <td>4000000000</td>\n",
       "      <td>0x</td>\n",
       "      <td>2769728.0</td>\n",
       "      <td>...</td>\n",
       "      <td>2017-07-31</td>\n",
       "      <td>2017-07-31</td>\n",
       "      <td>2017</td>\n",
       "      <td>7</td>\n",
       "      <td>31</td>\n",
       "      <td>8.000000e+04</td>\n",
       "      <td>4.018452e+12</td>\n",
       "      <td>357662</td>\n",
       "      <td>8</td>\n",
       "      <td>93</td>\n",
       "    </tr>\n",
       "    <tr>\n",
       "      <th>84356</th>\n",
       "      <td>0x4789c305f5e43e8da6168799cfee10040469db3a10f2...</td>\n",
       "      <td>2591376</td>\n",
       "      <td>52</td>\n",
       "      <td>0x52bc44d5378309ee2abf1539bf71de1b7d7be3b5</td>\n",
       "      <td>0x88a88e7233d235733d8eee5889c62a9177d3f338</td>\n",
       "      <td>5.097475e+16</td>\n",
       "      <td>50000.0</td>\n",
       "      <td>4000000000</td>\n",
       "      <td>0x</td>\n",
       "      <td>1748105.0</td>\n",
       "      <td>...</td>\n",
       "      <td>2017-07-31</td>\n",
       "      <td>2017-07-31</td>\n",
       "      <td>2017</td>\n",
       "      <td>7</td>\n",
       "      <td>31</td>\n",
       "      <td>8.000000e+04</td>\n",
       "      <td>1.019495e+12</td>\n",
       "      <td>357662</td>\n",
       "      <td>1</td>\n",
       "      <td>93</td>\n",
       "    </tr>\n",
       "  </tbody>\n",
       "</table>\n",
       "<p>10 rows × 27 columns</p>\n",
       "</div>"
      ],
      "text/plain": [
       "                                                     hash    nonce  \\\n",
       "250089  0x2d317333817c3779820ca82b1868df15f1d6ab6266f8...        5   \n",
       "84335   0xd02ee2ee492df8f41ebedc7c6776447e083b11eaa4d9...  2596723   \n",
       "84363   0x560d87cc1f5c33497218339ee8aa29f4413cd14cf12a...  2591374   \n",
       "84362   0x8f1feefa33ce5e4dbce38bb2a5907a4b27b6c60d9ee8...  2591369   \n",
       "84361   0xfa04007468cad826de461815e7ade1f7e1b69013fddf...  2591373   \n",
       "84360   0x46be27278a1398a6405e6521770ad60812b842976e9a...  2591386   \n",
       "84359   0xc61ef1bdf4502d260e45da86838225e78df868185ea5...  2591362   \n",
       "84358   0x9fefa4cda61c7602968d91853e457632150e03a864f1...  2591366   \n",
       "84357   0x25ad8d634e15c0bb63b8a7bb4d7f94fd91483a777203...  2591382   \n",
       "84356   0x4789c305f5e43e8da6168799cfee10040469db3a10f2...  2591376   \n",
       "\n",
       "        transaction_index                                from_address  \\\n",
       "250089                  1  0xa03f8b4f191d0968434c86fd51e87a3c4a76dad0   \n",
       "84335                 172  0x52bc44d5378309ee2abf1539bf71de1b7d7be3b5   \n",
       "84363                  15  0x52bc44d5378309ee2abf1539bf71de1b7d7be3b5   \n",
       "84362                  10  0x52bc44d5378309ee2abf1539bf71de1b7d7be3b5   \n",
       "84361                  14  0x52bc44d5378309ee2abf1539bf71de1b7d7be3b5   \n",
       "84360                  86  0x52bc44d5378309ee2abf1539bf71de1b7d7be3b5   \n",
       "84359                   3  0x52bc44d5378309ee2abf1539bf71de1b7d7be3b5   \n",
       "84358                   7  0x52bc44d5378309ee2abf1539bf71de1b7d7be3b5   \n",
       "84357                  75  0x52bc44d5378309ee2abf1539bf71de1b7d7be3b5   \n",
       "84356                  52  0x52bc44d5378309ee2abf1539bf71de1b7d7be3b5   \n",
       "\n",
       "                                        to_address         value      gas  \\\n",
       "250089  0x701c244b988a513c945973defa05de933b23fe1d  0.000000e+00  53759.0   \n",
       "84335   0x506af58f95e07f09573e5b7ed738c979c0650276  5.459820e+17  50000.0   \n",
       "84363   0x42e270f06f0ce4252f9032f639380038d129c914  2.077429e+17  50000.0   \n",
       "84362   0xfa424128b73ce871a5edbc88d672ebbe5a26eac7  2.178482e+17  50000.0   \n",
       "84361   0xa8129c97f2da699ba111374beb2638b633d5fd64  5.256675e+16  50000.0   \n",
       "84360   0x25ce7fa377c1bdd77d835f97d291493c65e44498  5.225656e+16  50000.0   \n",
       "84359   0x3b4c1fcb3719d8351fcd4450a3cc5c41ae15392f  2.049427e+17  50000.0   \n",
       "84358   0x9d8264af58c7771f615ac5021f6ac914ea44f59f  6.657075e+16  50000.0   \n",
       "84357   0x8201f4c2340384b96a48d34b3c7fef3abcaa7ec4  2.009226e+17  50000.0   \n",
       "84356   0x88a88e7233d235733d8eee5889c62a9177d3f338  5.097475e+16  50000.0   \n",
       "\n",
       "          gas_price                                              input  \\\n",
       "250089  60000000000  0xa9059cbb000000000000000000000000f06821ee497f...   \n",
       "84335    4000000000                                                 0x   \n",
       "84363    4000000000                                                 0x   \n",
       "84362    4000000000                                                 0x   \n",
       "84361    4000000000                                                 0x   \n",
       "84360    4000000000                                                 0x   \n",
       "84359    4000000000                                                 0x   \n",
       "84358    4000000000                                                 0x   \n",
       "84357    4000000000                                                 0x   \n",
       "84356    4000000000                                                 0x   \n",
       "\n",
       "        receipt_cumulative_gas_used  ...        date      dates  year  month  \\\n",
       "250089                      74758.0  ...  2017-07-31 2017-07-31  2017      7   \n",
       "84335                     5307522.0  ...  2017-07-31 2017-07-31  2017      7   \n",
       "84363                      336000.0  ...  2017-07-31 2017-07-31  2017      7   \n",
       "84362                      231000.0  ...  2017-07-31 2017-07-31  2017      7   \n",
       "84361                      315000.0  ...  2017-07-31 2017-07-31  2017      7   \n",
       "84360                     3037752.0  ...  2017-07-31 2017-07-31  2017      7   \n",
       "84359                       84000.0  ...  2017-07-31 2017-07-31  2017      7   \n",
       "84358                      168000.0  ...  2017-07-31 2017-07-31  2017      7   \n",
       "84357                     2769728.0  ...  2017-07-31 2017-07-31  2017      7   \n",
       "84356                     1748105.0  ...  2017-07-31 2017-07-31  2017      7   \n",
       "\n",
       "       day  gas_price_unit value_div_gas from_address_count to_address_count  \\\n",
       "250089  31    1.116092e+06  0.000000e+00                  3             4858   \n",
       "84335   31    8.000000e+04  1.091964e+13             357662               32   \n",
       "84363   31    8.000000e+04  4.154859e+12             357662               43   \n",
       "84362   31    8.000000e+04  4.356964e+12             357662               56   \n",
       "84361   31    8.000000e+04  1.051335e+12             357662               60   \n",
       "84360   31    8.000000e+04  1.045131e+12             357662               13   \n",
       "84359   31    8.000000e+04  4.098854e+12             357662                5   \n",
       "84358   31    8.000000e+04  1.331415e+12             357662               26   \n",
       "84357   31    8.000000e+04  4.018452e+12             357662                8   \n",
       "84356   31    8.000000e+04  1.019495e+12             357662                1   \n",
       "\n",
       "       block_count  \n",
       "250089         171  \n",
       "84335          180  \n",
       "84363           93  \n",
       "84362           93  \n",
       "84361           93  \n",
       "84360           93  \n",
       "84359           93  \n",
       "84358           93  \n",
       "84357           93  \n",
       "84356           93  \n",
       "\n",
       "[10 rows x 27 columns]"
      ]
     },
     "execution_count": 11,
     "metadata": {},
     "output_type": "execute_result"
    }
   ],
   "source": [
    "data.head(10)"
   ]
  },
  {
   "attachments": {},
   "cell_type": "markdown",
   "metadata": {},
   "source": [
    "### 5. Degree centrality of the addresses to and from"
   ]
  },
  {
   "cell_type": "code",
   "execution_count": 12,
   "metadata": {},
   "outputs": [
    {
     "name": "stdout",
     "output_type": "stream",
     "text": [
      "df length 7460824\n",
      "df address only length 2913027\n",
      "7460824\n"
     ]
    }
   ],
   "source": [
    "# Create the graph using network x\n",
    "df_networkx = data[['from_address','to_address']]\n",
    "print('df length', len(df_networkx))\n",
    "\n",
    "df_networkx_nodup = df_networkx.drop_duplicates()\n",
    "print('df address only length',len(df_networkx_nodup))\n",
    "\n",
    "transaction_address = list(zip(df_networkx.from_address,df_networkx.to_address))\n",
    "print(len(transaction_address))"
   ]
  },
  {
   "attachments": {},
   "cell_type": "markdown",
   "metadata": {},
   "source": [
    "Compute adjacency matrix and degree centrality of a multidirected graph"
   ]
  },
  {
   "cell_type": "code",
   "execution_count": 13,
   "metadata": {},
   "outputs": [
    {
     "name": "stdout",
     "output_type": "stream",
     "text": [
      "MultiDiGraph with 1387231 nodes and 7460824 edges\n"
     ]
    }
   ],
   "source": [
    "# DIRECTED GRAPH / MULTI-DIRECTED GRAPH\n",
    "\n",
    "#G = nx.DiGraph()\n",
    "G = nx.MultiDiGraph()\n",
    "G.add_edges_from(transaction_address)\n",
    "print(G)\n"
   ]
  },
  {
   "cell_type": "code",
   "execution_count": 14,
   "metadata": {},
   "outputs": [],
   "source": [
    "degree_centrality=nx.degree_centrality(G)"
   ]
  },
  {
   "cell_type": "code",
   "execution_count": 15,
   "metadata": {},
   "outputs": [
    {
     "data": {
      "text/plain": [
       "1387231"
      ]
     },
     "execution_count": 15,
     "metadata": {},
     "output_type": "execute_result"
    }
   ],
   "source": [
    "# sort the degree centrality\n",
    "degree_centrality_sort = dict(sorted(degree_centrality.items(), key=operator.itemgetter(1), reverse=True))\n",
    "items = degree_centrality_sort.items()\n",
    "len(degree_centrality)"
   ]
  },
  {
   "cell_type": "code",
   "execution_count": 16,
   "metadata": {},
   "outputs": [],
   "source": [
    "degree_centrality_from = pd.DataFrame({'from_address': [i[0] for i in items], 'degree_centrality_from': [i[1] for i in items]})\n",
    "degree_centrality_to = pd.DataFrame({'to_address': [i[0] for i in items], 'degree_centrality_to': [i[1] for i in items]})\n",
    "\n",
    "in_degree_to = pd.DataFrame(G.in_degree, columns=['to_address','in_degree_adr_to'])\n",
    "out_degree_to = pd.DataFrame(G.out_degree,columns=['to_address','out_degree_adr_to'])\n",
    "\n",
    "in_degree_from = pd.DataFrame(G.in_degree, columns=['from_address','in_degree_adr_from'])\n",
    "out_degree_from = pd.DataFrame(G.out_degree,columns=['from_address','out_degree_adr_from'])"
   ]
  },
  {
   "cell_type": "code",
   "execution_count": 17,
   "metadata": {},
   "outputs": [
    {
     "data": {
      "text/html": [
       "<div>\n",
       "<style scoped>\n",
       "    .dataframe tbody tr th:only-of-type {\n",
       "        vertical-align: middle;\n",
       "    }\n",
       "\n",
       "    .dataframe tbody tr th {\n",
       "        vertical-align: top;\n",
       "    }\n",
       "\n",
       "    .dataframe thead th {\n",
       "        text-align: right;\n",
       "    }\n",
       "</style>\n",
       "<table border=\"1\" class=\"dataframe\">\n",
       "  <thead>\n",
       "    <tr style=\"text-align: right;\">\n",
       "      <th></th>\n",
       "      <th>to_address</th>\n",
       "      <th>degree_centrality_to</th>\n",
       "    </tr>\n",
       "  </thead>\n",
       "  <tbody>\n",
       "    <tr>\n",
       "      <th>0</th>\n",
       "      <td>0x829bd824b016326a401d083b33d092293333a830</td>\n",
       "      <td>0.348626</td>\n",
       "    </tr>\n",
       "    <tr>\n",
       "      <th>1</th>\n",
       "      <td>0x8d12a197cb00d4747a1fe03395095ce2a5cc6819</td>\n",
       "      <td>0.305951</td>\n",
       "    </tr>\n",
       "    <tr>\n",
       "      <th>2</th>\n",
       "      <td>0xea674fdde714fd979de3edf0f56aa9716b898ec8</td>\n",
       "      <td>0.291254</td>\n",
       "    </tr>\n",
       "    <tr>\n",
       "      <th>3</th>\n",
       "      <td>0x52bc44d5378309ee2abf1539bf71de1b7d7be3b5</td>\n",
       "      <td>0.257829</td>\n",
       "    </tr>\n",
       "    <tr>\n",
       "      <th>4</th>\n",
       "      <td>0xfbb1b73c4f0bda4f67dca266ce6ef42f520fbb98</td>\n",
       "      <td>0.178337</td>\n",
       "    </tr>\n",
       "  </tbody>\n",
       "</table>\n",
       "</div>"
      ],
      "text/plain": [
       "                                   to_address  degree_centrality_to\n",
       "0  0x829bd824b016326a401d083b33d092293333a830              0.348626\n",
       "1  0x8d12a197cb00d4747a1fe03395095ce2a5cc6819              0.305951\n",
       "2  0xea674fdde714fd979de3edf0f56aa9716b898ec8              0.291254\n",
       "3  0x52bc44d5378309ee2abf1539bf71de1b7d7be3b5              0.257829\n",
       "4  0xfbb1b73c4f0bda4f67dca266ce6ef42f520fbb98              0.178337"
      ]
     },
     "execution_count": 17,
     "metadata": {},
     "output_type": "execute_result"
    }
   ],
   "source": [
    "degree_centrality_to.head()"
   ]
  },
  {
   "cell_type": "code",
   "execution_count": 96,
   "metadata": {},
   "outputs": [],
   "source": [
    "# Merge the degree centrality to the transaction data\n",
    "\n",
    "df = data.merge(degree_centrality_from, how='left', on='from_address')\n",
    "df = df.merge(degree_centrality_to, how='left', on='to_address')\n",
    "\n",
    "df = df.merge(in_degree_to, how='left', on='to_address')\n",
    "df = df.merge(out_degree_to, how='left', on='to_address')\n",
    "\n",
    "df = df.merge(in_degree_from, how='left', on='from_address')\n",
    "df = df.merge(out_degree_from, how='left', on='from_address')"
   ]
  },
  {
   "attachments": {},
   "cell_type": "markdown",
   "metadata": {},
   "source": [
    "## Add labels : malicious addresses"
   ]
  },
  {
   "attachments": {},
   "cell_type": "markdown",
   "metadata": {},
   "source": [
    "This are the malicious addresses detected, github \n",
    "\n",
    "url = \"https://raw.githubusercontent.com/MyEtherWallet/ethereum-lists/master/src/addresses/addresses-darklist.json\"\n",
    "\n",
    "Description:\n",
    "Added new address that holds phishing/stolen funds\n",
    "Contains the following fields:\n",
    "\n",
    "- address: can be address to or from \n",
    "- comment: description of the malicous transaction/attack\n",
    "- date: transaction date"
   ]
  },
  {
   "attachments": {},
   "cell_type": "markdown",
   "metadata": {},
   "source": [
    "### Malicious address cleaning:\n",
    "\n",
    "this list has been clean as dates were intially in a different fromat"
   ]
  },
  {
   "cell_type": "code",
   "execution_count": 97,
   "metadata": {},
   "outputs": [
    {
     "data": {
      "text/html": [
       "<div>\n",
       "<style scoped>\n",
       "    .dataframe tbody tr th:only-of-type {\n",
       "        vertical-align: middle;\n",
       "    }\n",
       "\n",
       "    .dataframe tbody tr th {\n",
       "        vertical-align: top;\n",
       "    }\n",
       "\n",
       "    .dataframe thead th {\n",
       "        text-align: right;\n",
       "    }\n",
       "</style>\n",
       "<table border=\"1\" class=\"dataframe\">\n",
       "  <thead>\n",
       "    <tr style=\"text-align: right;\">\n",
       "      <th></th>\n",
       "      <th>address</th>\n",
       "      <th>comment</th>\n",
       "      <th>date;</th>\n",
       "    </tr>\n",
       "  </thead>\n",
       "  <tbody>\n",
       "    <tr>\n",
       "      <th>0</th>\n",
       "      <td>0xDdd6854A002A6fbcDF695385cD5ed630c9E27C3e</td>\n",
       "      <td>Scam address contacted Trust Wallet users in T...</td>\n",
       "      <td>2018-10-25;</td>\n",
       "    </tr>\n",
       "    <tr>\n",
       "      <th>1</th>\n",
       "      <td>0x21918461C6aecA5EAEc825B4746D64a0D4028dF6</td>\n",
       "      <td>Scam address of phishing email sent to leaked ...</td>\n",
       "      <td>2017-09-05;</td>\n",
       "    </tr>\n",
       "    <tr>\n",
       "      <th>2</th>\n",
       "      <td>0xd821dfb705333d2c16e0c0c0be75ce360cca566a</td>\n",
       "      <td>BitJob token sale scam site.</td>\n",
       "      <td>2017-09-12;</td>\n",
       "    </tr>\n",
       "    <tr>\n",
       "      <th>3</th>\n",
       "      <td>0x66817272D39Da7fd4C552F430fC0B694e357c157</td>\n",
       "      <td>Comments on Etherscan are reporting funds bein...</td>\n",
       "      <td>2017-07-19;</td>\n",
       "    </tr>\n",
       "    <tr>\n",
       "      <th>4</th>\n",
       "      <td>0x36db23fd8e0fabb300ba95bfdf4a0f20b05eebfb</td>\n",
       "      <td>FAKE_Tezos</td>\n",
       "      <td>;</td>\n",
       "    </tr>\n",
       "  </tbody>\n",
       "</table>\n",
       "</div>"
      ],
      "text/plain": [
       "                                      address  \\\n",
       "0  0xDdd6854A002A6fbcDF695385cD5ed630c9E27C3e   \n",
       "1  0x21918461C6aecA5EAEc825B4746D64a0D4028dF6   \n",
       "2  0xd821dfb705333d2c16e0c0c0be75ce360cca566a   \n",
       "3  0x66817272D39Da7fd4C552F430fC0B694e357c157   \n",
       "4  0x36db23fd8e0fabb300ba95bfdf4a0f20b05eebfb   \n",
       "\n",
       "                                             comment        date;  \n",
       "0  Scam address contacted Trust Wallet users in T...  2018-10-25;  \n",
       "1  Scam address of phishing email sent to leaked ...  2017-09-05;  \n",
       "2                       BitJob token sale scam site.  2017-09-12;  \n",
       "3  Comments on Etherscan are reporting funds bein...  2017-07-19;  \n",
       "4                                         FAKE_Tezos            ;  "
      ]
     },
     "execution_count": 97,
     "metadata": {},
     "output_type": "execute_result"
    }
   ],
   "source": [
    "darklist = pd.read_csv('darklist.csv',index_col=False, usecols=[\"address\", \"comment\", \"date;\"])\n",
    "darklist.head()"
   ]
  },
  {
   "cell_type": "code",
   "execution_count": 98,
   "metadata": {},
   "outputs": [
    {
     "data": {
      "text/plain": [
       "address     16\n",
       "comment    246\n",
       "date;       16\n",
       "dtype: int64"
      ]
     },
     "execution_count": 98,
     "metadata": {},
     "output_type": "execute_result"
    }
   ],
   "source": [
    "darklist.isna().sum()"
   ]
  },
  {
   "attachments": {},
   "cell_type": "markdown",
   "metadata": {},
   "source": [
    "### add malicous addresses"
   ]
  },
  {
   "cell_type": "code",
   "execution_count": 99,
   "metadata": {},
   "outputs": [],
   "source": [
    "# Merge malicoous addresses on the 'from_address'\n",
    "df = df.merge(darklist, how='left', left_on='from_address', right_on='address')\n",
    "df.loc[df['address'].notna(), 'mal_trans_from'] = 1\n",
    "df.drop(['address',],axis=1,inplace=True)\n",
    "df.rename(columns = {'comment':'comment_from_address_darklst'}, inplace = True)"
   ]
  },
  {
   "cell_type": "code",
   "execution_count": 100,
   "metadata": {},
   "outputs": [],
   "source": [
    "# Merge malicoous addresses on the 'to_address'\n",
    "df = df.merge(darklist, how='left', left_on='to_address', right_on='address')\n",
    "df.loc[df['address'].notna(), 'mal_trans_to'] = 1\n",
    "df.drop(['address',],axis=1,inplace=True)\n",
    "df.rename(columns = {'comment':'comment_to_address_darklst'}, inplace = True)"
   ]
  },
  {
   "cell_type": "code",
   "execution_count": 101,
   "metadata": {},
   "outputs": [
    {
     "data": {
      "text/plain": [
       "hash                                  0\n",
       "nonce                                 0\n",
       "transaction_index                     0\n",
       "from_address                          0\n",
       "to_address                            0\n",
       "value                                 0\n",
       "gas                                   0\n",
       "gas_price                             0\n",
       "input                                 0\n",
       "receipt_cumulative_gas_used           0\n",
       "receipt_gas_used                      0\n",
       "receipt_root                          0\n",
       "block_timestamp                       0\n",
       "block_number                          0\n",
       "block_hash                            0\n",
       "receipt_effective_gas_price           0\n",
       "block_timestamp_str                   0\n",
       "date                                  0\n",
       "dates                                 0\n",
       "year                                  0\n",
       "month                                 0\n",
       "day                                   0\n",
       "gas_price_unit                        0\n",
       "value_div_gas                         0\n",
       "from_address_count                    0\n",
       "to_address_count                      0\n",
       "block_count                           0\n",
       "degree_centrality_from                0\n",
       "degree_centrality_to                  0\n",
       "in_degree_adr_to                      0\n",
       "out_degree_adr_to                     0\n",
       "in_degree_adr_from                    0\n",
       "out_degree_adr_from                   0\n",
       "comment_from_address_darklst    7460221\n",
       "date;_x                         7460144\n",
       "mal_trans_from                  7460144\n",
       "comment_to_address_darklst      7458377\n",
       "date;_y                         7458241\n",
       "mal_trans_to                    7458241\n",
       "dtype: int64"
      ]
     },
     "execution_count": 101,
     "metadata": {},
     "output_type": "execute_result"
    }
   ],
   "source": [
    "df.isna().sum()"
   ]
  },
  {
   "cell_type": "code",
   "execution_count": 102,
   "metadata": {},
   "outputs": [],
   "source": [
    "df.rename(columns = {'date;_x':'date_mal_trans_from','date;_y':'date_mal_trans_to'}, inplace = True)"
   ]
  },
  {
   "cell_type": "code",
   "execution_count": 103,
   "metadata": {},
   "outputs": [
    {
     "data": {
      "text/plain": [
       "transaction_flag\n",
       "0    7457565\n",
       "1       3290\n",
       "Name: count, dtype: int64"
      ]
     },
     "execution_count": 103,
     "metadata": {},
     "output_type": "execute_result"
    }
   ],
   "source": [
    "# Check how many times there is an overlap\n",
    "df['transaction_flag'] = 0\n",
    "df.loc[df['mal_trans_from'].notna(),'transaction_flag']=1\n",
    "df.loc[df['mal_trans_to'].notna(),'transaction_flag']=1\n",
    "df['transaction_flag'].value_counts()"
   ]
  },
  {
   "cell_type": "code",
   "execution_count": null,
   "metadata": {},
   "outputs": [],
   "source": [
    "anomalous_trans = df['transaction_flag'].value_counts()[1]\n",
    "print(f'Total number of transaction : {len(df)}, total number of anomalous transactions: {anomalous_trans} ({anomalous_trans/len(df)*100})')"
   ]
  },
  {
   "cell_type": "code",
   "execution_count": 104,
   "metadata": {},
   "outputs": [
    {
     "data": {
      "text/plain": [
       "transaction_flag1\n",
       "0    7460144\n",
       "1        711\n",
       "Name: count, dtype: int64"
      ]
     },
     "execution_count": 104,
     "metadata": {},
     "output_type": "execute_result"
    }
   ],
   "source": [
    "df['transaction_flag1'] = 0\n",
    "df['transaction_flag2'] = 0\n",
    "\n",
    "df.loc[df['mal_trans_from'].notna(),'transaction_flag1']=1\n",
    "df.loc[df['mal_trans_to'].notna(),'transaction_flag2']=1\n",
    "df['transaction_flag1'].value_counts()"
   ]
  },
  {
   "cell_type": "code",
   "execution_count": 105,
   "metadata": {},
   "outputs": [
    {
     "data": {
      "text/plain": [
       "transaction_flag2\n",
       "0    7458241\n",
       "1       2614\n",
       "Name: count, dtype: int64"
      ]
     },
     "execution_count": 105,
     "metadata": {},
     "output_type": "execute_result"
    }
   ],
   "source": [
    "df['transaction_flag2'].value_counts()"
   ]
  },
  {
   "cell_type": "code",
   "execution_count": 106,
   "metadata": {},
   "outputs": [
    {
     "data": {
      "text/plain": [
       "double_trans_mal\n",
       "0    7457565\n",
       "1       3255\n",
       "2         35\n",
       "Name: count, dtype: int64"
      ]
     },
     "execution_count": 106,
     "metadata": {},
     "output_type": "execute_result"
    }
   ],
   "source": [
    "df['double_trans_mal'] = df['transaction_flag1'] + df['transaction_flag2']\n",
    "df['double_trans_mal'].value_counts()"
   ]
  },
  {
   "attachments": {},
   "cell_type": "markdown",
   "metadata": {},
   "source": [
    "For these 35 transaction below both the address to and the address form are flagged as malicious, however the comment is not always the same. the assumption is that is more likely to be received by the malicious address rather than the send by it, so in these corner cases the comment related to the 'to_address' would be considered.\n",
    "Some attack dates and commetns are missing, the merge happened based on the address from and to"
   ]
  },
  {
   "cell_type": "code",
   "execution_count": 107,
   "metadata": {},
   "outputs": [],
   "source": [
    "df['attack_descr'] = df['comment_to_address_darklst'].where(pd.notnull, df['comment_from_address_darklst'])"
   ]
  },
  {
   "cell_type": "code",
   "execution_count": 108,
   "metadata": {},
   "outputs": [],
   "source": [
    "df['attack_date'] = df['date_mal_trans_to'].where(pd.notnull, df['date_mal_trans_from'])"
   ]
  },
  {
   "cell_type": "code",
   "execution_count": 110,
   "metadata": {},
   "outputs": [
    {
     "data": {
      "text/plain": [
       "Index(['hash', 'nonce', 'transaction_index', 'from_address', 'to_address',\n",
       "       'value', 'gas', 'gas_price', 'input', 'receipt_cumulative_gas_used',\n",
       "       'receipt_gas_used', 'receipt_root', 'block_timestamp', 'block_number',\n",
       "       'block_hash', 'receipt_effective_gas_price', 'block_timestamp_str',\n",
       "       'date', 'dates', 'year', 'month', 'day', 'gas_price_unit',\n",
       "       'value_div_gas', 'from_address_count', 'to_address_count',\n",
       "       'block_count', 'degree_centrality_from', 'degree_centrality_to',\n",
       "       'in_degree_adr_to', 'out_degree_adr_to', 'in_degree_adr_from',\n",
       "       'out_degree_adr_from', 'comment_from_address_darklst',\n",
       "       'date_mal_trans_from', 'mal_trans_from', 'comment_to_address_darklst',\n",
       "       'date_mal_trans_to', 'mal_trans_to', 'transaction_flag',\n",
       "       'transaction_flag1', 'transaction_flag2', 'double_trans_mal',\n",
       "       'attack_descr', 'attack_date'],\n",
       "      dtype='object')"
      ]
     },
     "execution_count": 110,
     "metadata": {},
     "output_type": "execute_result"
    }
   ],
   "source": [
    "df.columns"
   ]
  },
  {
   "cell_type": "code",
   "execution_count": 109,
   "metadata": {},
   "outputs": [],
   "source": [
    "X = df"
   ]
  }
 ],
 "metadata": {
  "kernelspec": {
   "display_name": "Python 3",
   "language": "python",
   "name": "python3"
  },
  "language_info": {
   "codemirror_mode": {
    "name": "ipython",
    "version": 3
   },
   "file_extension": ".py",
   "mimetype": "text/x-python",
   "name": "python",
   "nbconvert_exporter": "python",
   "pygments_lexer": "ipython3",
   "version": "3.10.6"
  },
  "orig_nbformat": 4
 },
 "nbformat": 4,
 "nbformat_minor": 2
}
